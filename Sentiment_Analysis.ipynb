{
 "cells": [
  {
   "cell_type": "code",
   "execution_count": 1,
   "metadata": {},
   "outputs": [
    {
     "name": "stdout",
     "output_type": "stream",
     "text": [
      "Collecting sagemaker==1.72.0\n",
      "  Downloading sagemaker-1.72.0.tar.gz (297 kB)\n",
      "\u001b[K     |████████████████████████████████| 297 kB 3.2 MB/s eta 0:00:01\n",
      "\u001b[?25hRequirement already satisfied: boto3>=1.14.12 in /home/ec2-user/anaconda3/envs/python3/lib/python3.6/site-packages (from sagemaker==1.72.0) (1.16.37)\n",
      "Requirement already satisfied: numpy>=1.9.0 in /home/ec2-user/anaconda3/envs/python3/lib/python3.6/site-packages (from sagemaker==1.72.0) (1.19.4)\n",
      "Requirement already satisfied: protobuf>=3.1 in /home/ec2-user/anaconda3/envs/python3/lib/python3.6/site-packages (from sagemaker==1.72.0) (3.14.0)\n",
      "Requirement already satisfied: scipy>=0.19.0 in /home/ec2-user/anaconda3/envs/python3/lib/python3.6/site-packages (from sagemaker==1.72.0) (1.4.1)\n",
      "Requirement already satisfied: protobuf3-to-dict>=0.1.5 in /home/ec2-user/anaconda3/envs/python3/lib/python3.6/site-packages (from sagemaker==1.72.0) (0.1.5)\n",
      "Requirement already satisfied: importlib-metadata>=1.4.0 in /home/ec2-user/anaconda3/envs/python3/lib/python3.6/site-packages (from sagemaker==1.72.0) (3.1.0)\n",
      "Requirement already satisfied: packaging>=20.0 in /home/ec2-user/anaconda3/envs/python3/lib/python3.6/site-packages (from sagemaker==1.72.0) (20.7)\n",
      "Requirement already satisfied: s3transfer<0.4.0,>=0.3.0 in /home/ec2-user/anaconda3/envs/python3/lib/python3.6/site-packages (from boto3>=1.14.12->sagemaker==1.72.0) (0.3.3)\n",
      "Requirement already satisfied: jmespath<1.0.0,>=0.7.1 in /home/ec2-user/anaconda3/envs/python3/lib/python3.6/site-packages (from boto3>=1.14.12->sagemaker==1.72.0) (0.10.0)\n",
      "Requirement already satisfied: botocore<1.20.0,>=1.19.37 in /home/ec2-user/anaconda3/envs/python3/lib/python3.6/site-packages (from boto3>=1.14.12->sagemaker==1.72.0) (1.19.37)\n",
      "Requirement already satisfied: python-dateutil<3.0.0,>=2.1 in /home/ec2-user/anaconda3/envs/python3/lib/python3.6/site-packages (from botocore<1.20.0,>=1.19.37->boto3>=1.14.12->sagemaker==1.72.0) (2.8.1)\n",
      "Requirement already satisfied: jmespath<1.0.0,>=0.7.1 in /home/ec2-user/anaconda3/envs/python3/lib/python3.6/site-packages (from boto3>=1.14.12->sagemaker==1.72.0) (0.10.0)\n",
      "Requirement already satisfied: urllib3<1.27,>=1.25.4 in /home/ec2-user/anaconda3/envs/python3/lib/python3.6/site-packages (from botocore<1.20.0,>=1.19.37->boto3>=1.14.12->sagemaker==1.72.0) (1.25.11)\n",
      "Requirement already satisfied: zipp>=0.5 in /home/ec2-user/anaconda3/envs/python3/lib/python3.6/site-packages (from importlib-metadata>=1.4.0->sagemaker==1.72.0) (3.4.0)\n",
      "Requirement already satisfied: pyparsing>=2.0.2 in /home/ec2-user/anaconda3/envs/python3/lib/python3.6/site-packages (from packaging>=20.0->sagemaker==1.72.0) (2.4.7)\n",
      "Requirement already satisfied: six>=1.9 in /home/ec2-user/anaconda3/envs/python3/lib/python3.6/site-packages (from protobuf>=3.1->sagemaker==1.72.0) (1.15.0)\n",
      "Requirement already satisfied: six>=1.9 in /home/ec2-user/anaconda3/envs/python3/lib/python3.6/site-packages (from protobuf>=3.1->sagemaker==1.72.0) (1.15.0)\n",
      "Requirement already satisfied: protobuf>=3.1 in /home/ec2-user/anaconda3/envs/python3/lib/python3.6/site-packages (from sagemaker==1.72.0) (3.14.0)\n",
      "Requirement already satisfied: six>=1.9 in /home/ec2-user/anaconda3/envs/python3/lib/python3.6/site-packages (from protobuf>=3.1->sagemaker==1.72.0) (1.15.0)\n",
      "Requirement already satisfied: botocore<1.20.0,>=1.19.37 in /home/ec2-user/anaconda3/envs/python3/lib/python3.6/site-packages (from boto3>=1.14.12->sagemaker==1.72.0) (1.19.37)\n",
      "Requirement already satisfied: numpy>=1.9.0 in /home/ec2-user/anaconda3/envs/python3/lib/python3.6/site-packages (from sagemaker==1.72.0) (1.19.4)\n",
      "Collecting smdebug-rulesconfig==0.1.4\n",
      "  Downloading smdebug_rulesconfig-0.1.4-py2.py3-none-any.whl (10 kB)\n",
      "Building wheels for collected packages: sagemaker\n",
      "  Building wheel for sagemaker (setup.py) ... \u001b[?25ldone\n",
      "\u001b[?25h  Created wheel for sagemaker: filename=sagemaker-1.72.0-py2.py3-none-any.whl size=386358 sha256=1358dcfb968ba0e981d5a076a9cd027e94666c3ff26dfaa3adf6609a83f36aaf\n",
      "  Stored in directory: /home/ec2-user/.cache/pip/wheels/c3/58/70/85faf4437568bfaa4c419937569ba1fe54d44c5db42406bbd7\n",
      "Successfully built sagemaker\n",
      "Installing collected packages: smdebug-rulesconfig, sagemaker\n",
      "  Attempting uninstall: smdebug-rulesconfig\n",
      "    Found existing installation: smdebug-rulesconfig 1.0.0\n",
      "    Uninstalling smdebug-rulesconfig-1.0.0:\n",
      "      Successfully uninstalled smdebug-rulesconfig-1.0.0\n",
      "  Attempting uninstall: sagemaker\n",
      "    Found existing installation: sagemaker 2.19.0\n",
      "    Uninstalling sagemaker-2.19.0:\n",
      "      Successfully uninstalled sagemaker-2.19.0\n",
      "Successfully installed sagemaker-1.72.0 smdebug-rulesconfig-0.1.4\n",
      "\u001b[33mWARNING: You are using pip version 20.3; however, version 20.3.3 is available.\n",
      "You should consider upgrading via the '/home/ec2-user/anaconda3/envs/python3/bin/python -m pip install --upgrade pip' command.\u001b[0m\n"
     ]
    }
   ],
   "source": [
    "!pip install sagemaker==1.72.0"
   ]
  },
  {
   "cell_type": "markdown",
   "metadata": {},
   "source": [
    "##### downloading the data"
   ]
  },
  {
   "cell_type": "code",
   "execution_count": 2,
   "metadata": {},
   "outputs": [
    {
     "name": "stdout",
     "output_type": "stream",
     "text": [
      "mkdir: cannot create directory ‘data’: File exists\n",
      "--2021-01-05 05:24:12--  http://ai.stanford.edu/~amaas/data/sentiment/aclImdb_v1.tar.gz\n",
      "Resolving ai.stanford.edu (ai.stanford.edu)... 171.64.68.10\n",
      "Connecting to ai.stanford.edu (ai.stanford.edu)|171.64.68.10|:80... connected.\n",
      "HTTP request sent, awaiting response... 200 OK\n",
      "Length: 84125825 (80M) [application/x-gzip]\n",
      "Saving to: ‘data/aclImdb_v1.tar.gz’\n",
      "\n",
      "data/aclImdb_v1.tar 100%[===================>]  80.23M  3.65MB/s    in 28s     \n",
      "\n",
      "2021-01-05 05:24:40 (2.86 MB/s) - ‘data/aclImdb_v1.tar.gz’ saved [84125825/84125825]\n",
      "\n"
     ]
    }
   ],
   "source": [
    "%mkdir data\n",
    "!wget -O data/aclImdb_v1.tar.gz http://ai.stanford.edu/~amaas/data/sentiment/aclImdb_v1.tar.gz\n",
    "!tar -zxf data/aclImdb_v1.tar.gz -C data"
   ]
  },
  {
   "cell_type": "markdown",
   "metadata": {},
   "source": [
    "##### Preparing and Preprocessing the Data"
   ]
  },
  {
   "cell_type": "code",
   "execution_count": 3,
   "metadata": {},
   "outputs": [],
   "source": [
    "import os\n",
    "import glob\n",
    "\n",
    "def read_imdb_data(data_dir='data/aclImdb'):\n",
    "    data={}\n",
    "    labels={}\n",
    "    \n",
    "    for data_type in ['train', 'test']:\n",
    "        data[data_type] = {}\n",
    "        labels[data_type] = {}\n",
    "        \n",
    "        for sentiment in ['pos', 'neg']:\n",
    "            data[data_type][sentiment] = []\n",
    "            labels[data_type][sentiment] = []\n",
    "            \n",
    "            path = os.path.join(data_dir, data_type, sentiment, '*.txt')\n",
    "            files = glob.glob(path)\n",
    "            \n",
    "            for f in files:\n",
    "                with open(f) as review:\n",
    "                    data[data_type][sentiment].append(review.read())\n",
    "                    labels[data_type][sentiment].append(1 if sentiment == 'pos' else 0) \n",
    "                 \n",
    "            assert len(data[data_type][sentiment]) == len(labels[data_type][sentiment]), \\\n",
    "            \"{}/{} data size does not match labels size\".format(data_type, sentiment)\n",
    "            \n",
    "            \n",
    "    return data, labels            "
   ]
  },
  {
   "cell_type": "code",
   "execution_count": 4,
   "metadata": {},
   "outputs": [
    {
     "name": "stdout",
     "output_type": "stream",
     "text": [
      "IMDB reviews: train => 12500 pos / 12500 neg, test => 12500 pos / 12500 neg\n"
     ]
    }
   ],
   "source": [
    "data, labels = read_imdb_data()\n",
    "print('IMDB reviews: train => {} pos / {} neg, test => {} pos / {} neg'.format(\n",
    "                     len(data['train']['pos']), len(data['train']['neg']),\n",
    "                     len(data['test']['pos']), len(data['test']['neg'])))"
   ]
  },
  {
   "cell_type": "code",
   "execution_count": 5,
   "metadata": {},
   "outputs": [],
   "source": [
    "from sklearn.utils import shuffle\n",
    "\n",
    "def prepare_imdb_data(data, labels):\n",
    "    \"\"\"Prepare training and test sets form IMDB movie reviews\"\"\"\n",
    "    #     combine Positive and Negative reviews and labels\n",
    "    data_train = data['train']['pos'] + data['train']['neg']\n",
    "    data_test = data['test']['pos'] + data['test']['neg']\n",
    "    \n",
    "    labels_train = labels['train']['pos'] + labels['train']['neg']\n",
    "    labels_test = labels['test']['pos'] + labels['test']['neg']\n",
    "    \n",
    "    #      shuffle\n",
    "    data_train, labels_train = shuffle(data_train, labels_train)\n",
    "    data_test, labels_test = shuffle(data_test, labels_test)\n",
    "    \n",
    "    #      return\n",
    "    return data_train, data_test, labels_train, labels_test"
   ]
  },
  {
   "cell_type": "code",
   "execution_count": 6,
   "metadata": {},
   "outputs": [
    {
     "name": "stdout",
     "output_type": "stream",
     "text": [
      "IMDB reviews (combined): train = 25000, test = 25000\n"
     ]
    }
   ],
   "source": [
    "train_X, test_X, train_y, test_y = prepare_imdb_data(data, labels)\n",
    "print('IMDB reviews (combined): train = {}, test = {}'.format(len(train_X), len(test_X)))"
   ]
  },
  {
   "cell_type": "code",
   "execution_count": 7,
   "metadata": {},
   "outputs": [],
   "source": [
    "#  space ?\n",
    "data, labels = None, None"
   ]
  },
  {
   "cell_type": "code",
   "execution_count": 8,
   "metadata": {},
   "outputs": [
    {
     "data": {
      "text/plain": [
       "(\"A Nightmare on Elm Street: The Dream Child, the fifth installment in the Nightmare on Elm Street series and the worst sequel ever in the series, even worse than A Nightmare on Elm Street 2. I was lucky enough to get the Nightmare on Elm Street DVD box set for my birthday and I watched all the sequels. The dream child was the worst without a doubt, I was surprised too since they were doing so well with the last two sequels. But I guess they just lost the charm, the story was just ridicules and I wasn't happy with where it went. Alice just became more annoying, she's not Nancy or Kirsten, so her carrying this film on her own didn't work for me. Freddy is also loosing his scare, this was just getting a bit silly.<br /><br />Alice is back and she's carrying a child, she couldn't be happier with her life. But Freddy is also back and he's not going to be too light on her since she defeated him so easily in the fourth movie. But anyways, he wants her child and to be born into the world again. Did you ever wonder if Freddy had parents too? Well that's what A Nightmare on Elm Street: The Dream Child investigates and Alice soon finds out what Freddy's childhood was like and that maybe that's the one thing that can defeat him.<br /><br />A Nightmare on Elm Street: The Dream Child is just all in all a bad movie and an insult to the series. I don't think anyone could be happy with this sequel. Just the story was really silly, I mean it could have possibly worked, but once again, it was just executed the wrong way. I know that if you're looking to see the sequels for the Nightmare on Elm Street series, you should watch it, but I really wouldn't recommend it, it's not worth it, at least in my opinion.<br /><br />3/10\",\n",
       " 0)"
      ]
     },
     "execution_count": 8,
     "metadata": {},
     "output_type": "execute_result"
    }
   ],
   "source": [
    "train_X[100], train_y[100]"
   ]
  },
  {
   "cell_type": "markdown",
   "metadata": {},
   "source": [
    "##### Processing the data"
   ]
  },
  {
   "cell_type": "code",
   "execution_count": 9,
   "metadata": {},
   "outputs": [],
   "source": [
    "import re\n",
    "\n",
    "REPLACE_NO_SPACE = re.compile(\"(\\.)|(\\;)|(\\:)|(\\!)|(\\')|(\\?)|(\\,)|(\\\")|(\\()|(\\))|(\\[)|(\\])\")\n",
    "REPLACE_WITH_SPACE = re.compile(\"(<br\\s*/><br\\s*/>)|(\\-)|(\\/)\")\n",
    "\n",
    "def review_to_words(review):\n",
    "    words = REPLACE_NO_SPACE.sub(\"\", review.lower())\n",
    "    words = REPLACE_WITH_SPACE.sub(\" \", words)\n",
    "    return words"
   ]
  },
  {
   "cell_type": "code",
   "execution_count": 10,
   "metadata": {},
   "outputs": [
    {
     "data": {
      "text/plain": [
       "['a nightmare on elm street the dream child the fifth installment in the nightmare on elm street series and the worst sequel ever in the series even worse than a nightmare on elm street 2 i was lucky enough to get the nightmare on elm street dvd box set for my birthday and i watched all the sequels the dream child was the worst without a doubt i was surprised too since they were doing so well with the last two sequels but i guess they just lost the charm the story was just ridicules and i wasnt happy with where it went alice just became more annoying shes not nancy or kirsten so her carrying this film on her own didnt work for me freddy is also loosing his scare this was just getting a bit silly alice is back and shes carrying a child she couldnt be happier with her life but freddy is also back and hes not going to be too light on her since she defeated him so easily in the fourth movie but anyways he wants her child and to be born into the world again did you ever wonder if freddy had parents too well thats what a nightmare on elm street the dream child investigates and alice soon finds out what freddys childhood was like and that maybe thats the one thing that can defeat him a nightmare on elm street the dream child is just all in all a bad movie and an insult to the series i dont think anyone could be happy with this sequel just the story was really silly i mean it could have possibly worked but once again it was just executed the wrong way i know that if youre looking to see the sequels for the nightmare on elm street series you should watch it but i really wouldnt recommend it its not worth it at least in my opinion 3 10']"
      ]
     },
     "execution_count": 10,
     "metadata": {},
     "output_type": "execute_result"
    }
   ],
   "source": [
    "[review_to_words(train_X[100])]"
   ]
  },
  {
   "cell_type": "code",
   "execution_count": 11,
   "metadata": {},
   "outputs": [],
   "source": [
    "import pickle\n",
    "\n",
    "cache_dir = os.path.join('cache', 'sentiment_web_app')\n",
    "os.makedirs(cache_dir, exist_ok=True)\n",
    "\n",
    "def preprocess_data(data_train, data_test, labels_train, labels_test,\n",
    "                    cache_dir=cache_dir, cache_file='preprocessed_data.pkl'):\n",
    "    \"\"\"Convert each review to words; read from cache if available.\"\"\"\n",
    "    \n",
    "    #if cache file is not none try to read it first.     \n",
    "    cache_data = None\n",
    "    if cache_file is not None:\n",
    "        try:\n",
    "            with open(os.path.join(cache_dir, cache_file), 'rb') as f:\n",
    "                cache_data = pickle.load(f)\n",
    "            print(\"Read preprocessed data from cache file: \", cache_file)\n",
    "        except:\n",
    "            pass \n",
    "    \n",
    "    #if cache is missing, then do the heavy lifting.\n",
    "    if cache_data is None:\n",
    "       # Preprocess training and test data to obtain words for each review\n",
    "        words_train = [review_to_words(review) for review in data_train]\n",
    "        words_test = [review_to_words(review) for review in data_test]\n",
    "        \n",
    "       # write to cache files for future use.\n",
    "        if cache_file is not None:\n",
    "            cache_data = dict(words_train=words_train, words_test=words_test,\n",
    "                              labels_train=labels_train, labels_test=labels_test)\n",
    "            with open(os.path.join(cache_dir, cache_file), 'wb') as f:\n",
    "                pickle.dump(cache_data, f)\n",
    "            print('Wrote preprocessed data to cached file: ', cache_file)\n",
    "    else:\n",
    "        # Unpack data loaded from cache file\n",
    "        words_train, words_test, labels_train, labels_test = (cache_data['words_train'],\n",
    "                                 cache_data['words_test'], cache_data['labels_train'], cache_data['labels_test'])\n",
    "    \n",
    "    return words_train, words_test, labels_train, labels_test"
   ]
  },
  {
   "cell_type": "code",
   "execution_count": 12,
   "metadata": {},
   "outputs": [
    {
     "name": "stdout",
     "output_type": "stream",
     "text": [
      "Read preprocessed data from cache file:  preprocessed_data.pkl\n"
     ]
    }
   ],
   "source": [
    "# preprocess the data\n",
    "train_X, test_X, train_y, test_y = preprocess_data(train_X, test_X, train_y, test_y)"
   ]
  },
  {
   "cell_type": "code",
   "execution_count": 13,
   "metadata": {},
   "outputs": [
    {
     "data": {
      "text/plain": [
       "True"
      ]
     },
     "execution_count": 13,
     "metadata": {},
     "output_type": "execute_result"
    }
   ],
   "source": [
    "train_X[100] == review_to_words(train_X[100])"
   ]
  },
  {
   "cell_type": "markdown",
   "metadata": {},
   "source": [
    "#### Extract the Bag-of-Words features."
   ]
  },
  {
   "cell_type": "code",
   "execution_count": 14,
   "metadata": {},
   "outputs": [],
   "source": [
    "import numpy as np\n",
    "from sklearn.feature_extraction.text import CountVectorizer\n",
    "\n",
    "import joblib # enhanced version of pickle that is more effiecient for storing Numpy arrays.\n",
    "\n",
    "def extract_BoW_features(words_train, words_test, vocabulary_size=5000,\n",
    "                         cache_dir=cache_dir, cache_file='bow_features.pkl'):\n",
    "    \n",
    "    \"\"\"Extract Bag-Of-Words for a given set of documents, already preprocessed into words.\"\"\"\n",
    "    # if cache file is not None try to read from it first\n",
    "    cache_data = None\n",
    "    if cache_file is not None:\n",
    "        try:\n",
    "            with open(os.path.join(cache_dir, cache_file), 'rb') as f:\n",
    "                cache_data = joblib.load(f)\n",
    "            print(\"Read features from cache file: \", cache_file)\n",
    "        except:\n",
    "            pass\n",
    "    \n",
    "    # if cache is missing, then do the heavy lifting.\n",
    "    if cache_data is None:\n",
    "        vectorizer = CountVectorizer(max_features=vocabulary_size)\n",
    "        \n",
    "        feature_train = vectorizer.fit_transform(words_train).toarray()\n",
    "        feature_test = vectorizer.transform(words_test).toarray()\n",
    "        \n",
    "        # write: cache file for future uses.\n",
    "        if cache_file is not None:\n",
    "            vocabulary = vectorizer.vocabulary_\n",
    "            \n",
    "            cache_data = dict(feature_train=feature_train, \n",
    "                              feature_test=feature_test,\n",
    "                              vocabulary=vocabulary)\n",
    "            \n",
    "            with open(os.path.join(cache_dir, cache_file), 'wb') as f:\n",
    "                joblib.dump(cache_data, f)\n",
    "            \n",
    "            print('Wrote features & Vocabulary to cache file: ', cache_file)\n",
    "    else:\n",
    "        # Unpack data loaded from cache file.\n",
    "        feature_train, feature_test, vocabulary = (cache_data['feature_train'],\n",
    "                                                   cache_data['feature_test'],\n",
    "                                                   cache_data['vocabulary'])\n",
    "    # return both: extracted features & vocabulary\n",
    "    return feature_train, feature_test, vocabulary"
   ]
  },
  {
   "cell_type": "code",
   "execution_count": 15,
   "metadata": {},
   "outputs": [
    {
     "name": "stdout",
     "output_type": "stream",
     "text": [
      "Read features from cache file:  bow_features.pkl\n"
     ]
    }
   ],
   "source": [
    "# Extract the Bag-of-Words for both training and test datasets.\n",
    "train_X, test_X, vocabulary = extract_BoW_features(train_X, test_X)"
   ]
  },
  {
   "cell_type": "code",
   "execution_count": 16,
   "metadata": {},
   "outputs": [],
   "source": [
    "a = np.where(train_X[100] == 1)"
   ]
  },
  {
   "cell_type": "code",
   "execution_count": 17,
   "metadata": {},
   "outputs": [
    {
     "data": {
      "text/plain": [
       "(array([  67,  311,  382,  403,  418,  742,  890, 1100, 1254, 1302, 1468,\n",
       "        1538, 1690, 1783, 1848, 1852, 1864, 1901, 1931, 1964, 2043, 2052,\n",
       "        2181, 2366, 2373, 2533, 2626, 2661, 2713, 2775, 2904, 2951, 3013,\n",
       "        3043, 3106, 3141, 3154, 3298, 3761, 3798, 3809, 3811, 3861, 4420,\n",
       "        4424, 4427, 4431, 4438, 4495, 4522, 4525, 4558, 4683, 4723, 4811,\n",
       "        4862, 4868, 4871, 4888, 4918]),)"
      ]
     },
     "execution_count": 17,
     "metadata": {},
     "output_type": "execute_result"
    }
   ],
   "source": [
    "a"
   ]
  },
  {
   "cell_type": "code",
   "execution_count": 18,
   "metadata": {},
   "outputs": [
    {
     "data": {
      "text/plain": [
       "(0, 0, 0, 0)"
      ]
     },
     "execution_count": 18,
     "metadata": {},
     "output_type": "execute_result"
    }
   ],
   "source": [
    "train_X[100][133], train_X[100][1912], train_X[100][4095], train_X[100][4991]"
   ]
  },
  {
   "cell_type": "markdown",
   "metadata": {},
   "source": [
    "##### Upload data to s3. "
   ]
  },
  {
   "cell_type": "code",
   "execution_count": 19,
   "metadata": {},
   "outputs": [],
   "source": [
    "import pandas as pd\n",
    "\n",
    "val_X = pd.DataFrame(train_X[:10000])\n",
    "train_X = pd.DataFrame(train_X[10000:])\n",
    "\n",
    "val_y = pd.DataFrame(train_y[:10000])\n",
    "train_y = pd.DataFrame(train_y[10000:])"
   ]
  },
  {
   "cell_type": "code",
   "execution_count": 20,
   "metadata": {},
   "outputs": [
    {
     "data": {
      "text/plain": [
       "10000"
      ]
     },
     "execution_count": 20,
     "metadata": {},
     "output_type": "execute_result"
    }
   ],
   "source": [
    "len(val_X)"
   ]
  },
  {
   "cell_type": "code",
   "execution_count": 21,
   "metadata": {},
   "outputs": [],
   "source": [
    "# first make sure data storing directory exists.\n",
    "data_dir = 'data/sentiment_web_app'\n",
    "if not os.path.exists(data_dir):\n",
    "    os.makedirs(data_dir)"
   ]
  },
  {
   "cell_type": "code",
   "execution_count": 22,
   "metadata": {},
   "outputs": [],
   "source": [
    "pd.DataFrame(test_X).to_csv(os.path.join(data_dir, 'test.csv'), header=False, index=False)"
   ]
  },
  {
   "cell_type": "code",
   "execution_count": 23,
   "metadata": {},
   "outputs": [],
   "source": [
    "pd.concat([val_y, val_X], axis=1).to_csv(os.path.join(data_dir, 'validation.csv'), header=False, index=False)"
   ]
  },
  {
   "cell_type": "code",
   "execution_count": 24,
   "metadata": {},
   "outputs": [],
   "source": [
    "pd.concat([train_y, train_X], axis=1).to_csv(os.path.join(data_dir, 'train.csv'), header=False, index=False)"
   ]
  },
  {
   "cell_type": "code",
   "execution_count": null,
   "metadata": {},
   "outputs": [],
   "source": []
  },
  {
   "cell_type": "code",
   "execution_count": 25,
   "metadata": {},
   "outputs": [],
   "source": [
    "# Save memory ?\n",
    "test_X = train_X = val_X = train_y = val_y = None"
   ]
  },
  {
   "cell_type": "markdown",
   "metadata": {},
   "source": [
    "Uploading training/validation to s3"
   ]
  },
  {
   "cell_type": "code",
   "execution_count": 26,
   "metadata": {},
   "outputs": [],
   "source": [
    "import sagemaker\n",
    "\n",
    "session = sagemaker.Session()\n",
    "\n",
    "# s3 prefix\n",
    "prefix = 'sentiment-web-app'\n",
    "\n",
    "test_loc = session.upload_data(os.path.join(data_dir, 'test.csv'), key_prefix=prefix)\n",
    "val_loc = session.upload_data(os.path.join(data_dir, 'validation.csv'), key_prefix=prefix)\n",
    "train_loc = session.upload_data(os.path.join(data_dir, 'train.csv'), key_prefix=prefix)"
   ]
  },
  {
   "cell_type": "markdown",
   "metadata": {},
   "source": [
    "##### Creating the XGboost model"
   ]
  },
  {
   "cell_type": "code",
   "execution_count": 27,
   "metadata": {},
   "outputs": [
    {
     "name": "stderr",
     "output_type": "stream",
     "text": [
      "'get_image_uri' method will be deprecated in favor of 'ImageURIProvider' class in SageMaker Python SDK v2.\n",
      "There is a more up to date SageMaker XGBoost image. To use the newer image, please set 'repo_version'='1.0-1'. For example:\n",
      "\tget_image_uri(region, 'xgboost', '1.0-1').\n"
     ]
    }
   ],
   "source": [
    "from sagemaker import get_execution_role\n",
    "from sagemaker.amazon.amazon_estimator import get_image_uri\n",
    "\n",
    "role = get_execution_role()\n",
    "container = get_image_uri(session.boto_region_name, 'xgboost')\n",
    "op_path = 's3://{}/{}/output'.format(session.default_bucket(), prefix)"
   ]
  },
  {
   "cell_type": "code",
   "execution_count": 28,
   "metadata": {},
   "outputs": [
    {
     "name": "stderr",
     "output_type": "stream",
     "text": [
      "Parameter image_name will be renamed to image_uri in SageMaker Python SDK v2.\n"
     ]
    }
   ],
   "source": [
    "#  create the Sagemaker estimator object\n",
    "xgb = sagemaker.estimator.Estimator(container,\n",
    "                                    role,\n",
    "                                    train_instance_count=1,\n",
    "                                    train_instance_type='ml.m4.xlarge',\n",
    "                                    output_path=op_path,\n",
    "                                    sagemaker_session=session)"
   ]
  },
  {
   "cell_type": "code",
   "execution_count": 29,
   "metadata": {},
   "outputs": [],
   "source": [
    "# set the algorithm specific parameters\n",
    "xgb.set_hyperparameters(max_depth=5,\n",
    "                        eta=0.2,\n",
    "                        gamma=4,\n",
    "                        min_child_weight=6,\n",
    "                        subsample=0.8,\n",
    "                        silent=0,\n",
    "                        objective='binary:logistic',\n",
    "                        early_stopping_rounds=10,\n",
    "                        num_round=500)"
   ]
  },
  {
   "cell_type": "markdown",
   "metadata": {},
   "source": [
    "fit the XGboost model."
   ]
  },
  {
   "cell_type": "code",
   "execution_count": 30,
   "metadata": {},
   "outputs": [
    {
     "name": "stderr",
     "output_type": "stream",
     "text": [
      "'s3_input' class will be renamed to 'TrainingInput' in SageMaker Python SDK v2.\n",
      "'s3_input' class will be renamed to 'TrainingInput' in SageMaker Python SDK v2.\n"
     ]
    }
   ],
   "source": [
    "s3_ip_train = sagemaker.s3_input(s3_data=train_loc, content_type='csv')\n",
    "s3_ip_validation = sagemaker.s3_input(s3_data=val_loc, content_type='csv')"
   ]
  },
  {
   "cell_type": "code",
   "execution_count": 31,
   "metadata": {},
   "outputs": [
    {
     "name": "stdout",
     "output_type": "stream",
     "text": [
      "2021-01-05 05:26:50 Starting - Starting the training job...\n",
      "2021-01-05 05:26:52 Starting - Launching requested ML instances......\n",
      "2021-01-05 05:27:55 Starting - Preparing the instances for training...\n",
      "2021-01-05 05:28:51 Downloading - Downloading input data......\n",
      "2021-01-05 05:29:42 Training - Training image download completed. Training in progress.\u001b[34mArguments: train\u001b[0m\n",
      "\u001b[34m[2021-01-05:05:29:43:INFO] Running standalone xgboost training.\u001b[0m\n",
      "\u001b[34m[2021-01-05:05:29:43:INFO] File size need to be processed in the node: 238.5mb. Available memory size in the node: 8436.83mb\u001b[0m\n",
      "\u001b[34m[2021-01-05:05:29:43:INFO] Determined delimiter of CSV input is ','\u001b[0m\n",
      "\u001b[34m[05:29:43] S3DistributionType set as FullyReplicated\u001b[0m\n",
      "\u001b[34m[05:29:45] 15000x5000 matrix with 75000000 entries loaded from /opt/ml/input/data/train?format=csv&label_column=0&delimiter=,\u001b[0m\n",
      "\u001b[34m[2021-01-05:05:29:45:INFO] Determined delimiter of CSV input is ','\u001b[0m\n",
      "\u001b[34m[05:29:45] S3DistributionType set as FullyReplicated\u001b[0m\n",
      "\u001b[34m[05:29:46] 10000x5000 matrix with 50000000 entries loaded from /opt/ml/input/data/validation?format=csv&label_column=0&delimiter=,\u001b[0m\n",
      "\u001b[34m[05:29:50] src/tree/updater_prune.cc:74: tree pruning end, 1 roots, 40 extra nodes, 6 pruned nodes, max_depth=5\u001b[0m\n",
      "\u001b[34m[0]#011train-error:0.306467#011validation-error:0.3097\u001b[0m\n",
      "\u001b[34mMultiple eval metrics have been passed: 'validation-error' will be used for early stopping.\n",
      "\u001b[0m\n",
      "\u001b[34mWill train until validation-error hasn't improved in 10 rounds.\u001b[0m\n",
      "\u001b[34m[05:29:51] src/tree/updater_prune.cc:74: tree pruning end, 1 roots, 38 extra nodes, 8 pruned nodes, max_depth=5\u001b[0m\n",
      "\u001b[34m[1]#011train-error:0.293667#011validation-error:0.3\u001b[0m\n",
      "\u001b[34m[05:29:53] src/tree/updater_prune.cc:74: tree pruning end, 1 roots, 42 extra nodes, 6 pruned nodes, max_depth=5\u001b[0m\n",
      "\u001b[34m[2]#011train-error:0.288333#011validation-error:0.2942\u001b[0m\n",
      "\u001b[34m[05:29:54] src/tree/updater_prune.cc:74: tree pruning end, 1 roots, 34 extra nodes, 2 pruned nodes, max_depth=5\u001b[0m\n",
      "\u001b[34m[3]#011train-error:0.275467#011validation-error:0.2846\u001b[0m\n",
      "\u001b[34m[05:29:56] src/tree/updater_prune.cc:74: tree pruning end, 1 roots, 42 extra nodes, 10 pruned nodes, max_depth=5\u001b[0m\n",
      "\u001b[34m[4]#011train-error:0.269467#011validation-error:0.2783\u001b[0m\n",
      "\u001b[34m[05:29:57] src/tree/updater_prune.cc:74: tree pruning end, 1 roots, 34 extra nodes, 0 pruned nodes, max_depth=5\u001b[0m\n",
      "\u001b[34m[5]#011train-error:0.255733#011validation-error:0.2667\u001b[0m\n",
      "\u001b[34m[05:29:58] src/tree/updater_prune.cc:74: tree pruning end, 1 roots, 36 extra nodes, 4 pruned nodes, max_depth=5\u001b[0m\n",
      "\u001b[34m[6]#011train-error:0.249133#011validation-error:0.2612\u001b[0m\n",
      "\u001b[34m[05:30:00] src/tree/updater_prune.cc:74: tree pruning end, 1 roots, 28 extra nodes, 6 pruned nodes, max_depth=5\u001b[0m\n",
      "\u001b[34m[7]#011train-error:0.245533#011validation-error:0.2602\u001b[0m\n",
      "\u001b[34m[05:30:01] src/tree/updater_prune.cc:74: tree pruning end, 1 roots, 42 extra nodes, 8 pruned nodes, max_depth=5\u001b[0m\n",
      "\u001b[34m[8]#011train-error:0.2332#011validation-error:0.2509\u001b[0m\n",
      "\u001b[34m[05:30:02] src/tree/updater_prune.cc:74: tree pruning end, 1 roots, 34 extra nodes, 4 pruned nodes, max_depth=5\u001b[0m\n",
      "\u001b[34m[9]#011train-error:0.224733#011validation-error:0.2415\u001b[0m\n",
      "\u001b[34m[05:30:04] src/tree/updater_prune.cc:74: tree pruning end, 1 roots, 38 extra nodes, 4 pruned nodes, max_depth=5\u001b[0m\n",
      "\u001b[34m[10]#011train-error:0.219467#011validation-error:0.2385\u001b[0m\n",
      "\u001b[34m[05:30:05] src/tree/updater_prune.cc:74: tree pruning end, 1 roots, 36 extra nodes, 0 pruned nodes, max_depth=5\u001b[0m\n",
      "\u001b[34m[11]#011train-error:0.211933#011validation-error:0.2359\u001b[0m\n",
      "\u001b[34m[05:30:06] src/tree/updater_prune.cc:74: tree pruning end, 1 roots, 32 extra nodes, 6 pruned nodes, max_depth=5\u001b[0m\n",
      "\u001b[34m[12]#011train-error:0.209733#011validation-error:0.2317\u001b[0m\n",
      "\u001b[34m[05:30:07] src/tree/updater_prune.cc:74: tree pruning end, 1 roots, 30 extra nodes, 2 pruned nodes, max_depth=5\u001b[0m\n",
      "\u001b[34m[13]#011train-error:0.205533#011validation-error:0.2309\u001b[0m\n",
      "\u001b[34m[05:30:09] src/tree/updater_prune.cc:74: tree pruning end, 1 roots, 34 extra nodes, 10 pruned nodes, max_depth=5\u001b[0m\n",
      "\u001b[34m[14]#011train-error:0.2016#011validation-error:0.2279\u001b[0m\n",
      "\u001b[34m[05:30:10] src/tree/updater_prune.cc:74: tree pruning end, 1 roots, 40 extra nodes, 2 pruned nodes, max_depth=5\u001b[0m\n",
      "\u001b[34m[15]#011train-error:0.196267#011validation-error:0.2237\u001b[0m\n",
      "\u001b[34m[05:30:11] src/tree/updater_prune.cc:74: tree pruning end, 1 roots, 32 extra nodes, 10 pruned nodes, max_depth=5\u001b[0m\n",
      "\u001b[34m[16]#011train-error:0.1924#011validation-error:0.2192\u001b[0m\n",
      "\u001b[34m[05:30:13] src/tree/updater_prune.cc:74: tree pruning end, 1 roots, 30 extra nodes, 10 pruned nodes, max_depth=5\u001b[0m\n",
      "\u001b[34m[17]#011train-error:0.189133#011validation-error:0.2174\u001b[0m\n",
      "\u001b[34m[05:30:14] src/tree/updater_prune.cc:74: tree pruning end, 1 roots, 24 extra nodes, 6 pruned nodes, max_depth=5\u001b[0m\n",
      "\u001b[34m[18]#011train-error:0.186333#011validation-error:0.2156\u001b[0m\n",
      "\u001b[34m[05:30:15] src/tree/updater_prune.cc:74: tree pruning end, 1 roots, 30 extra nodes, 6 pruned nodes, max_depth=5\u001b[0m\n",
      "\u001b[34m[19]#011train-error:0.185533#011validation-error:0.2131\u001b[0m\n",
      "\u001b[34m[05:30:16] src/tree/updater_prune.cc:74: tree pruning end, 1 roots, 20 extra nodes, 10 pruned nodes, max_depth=5\u001b[0m\n",
      "\u001b[34m[20]#011train-error:0.184067#011validation-error:0.2088\u001b[0m\n",
      "\u001b[34m[05:30:18] src/tree/updater_prune.cc:74: tree pruning end, 1 roots, 26 extra nodes, 12 pruned nodes, max_depth=5\u001b[0m\n",
      "\u001b[34m[21]#011train-error:0.1814#011validation-error:0.2072\u001b[0m\n",
      "\u001b[34m[05:30:19] src/tree/updater_prune.cc:74: tree pruning end, 1 roots, 36 extra nodes, 2 pruned nodes, max_depth=5\u001b[0m\n",
      "\u001b[34m[22]#011train-error:0.1804#011validation-error:0.2061\u001b[0m\n",
      "\u001b[34m[05:30:20] src/tree/updater_prune.cc:74: tree pruning end, 1 roots, 32 extra nodes, 10 pruned nodes, max_depth=5\u001b[0m\n",
      "\u001b[34m[23]#011train-error:0.178667#011validation-error:0.2044\u001b[0m\n",
      "\u001b[34m[05:30:22] src/tree/updater_prune.cc:74: tree pruning end, 1 roots, 32 extra nodes, 4 pruned nodes, max_depth=5\u001b[0m\n",
      "\u001b[34m[24]#011train-error:0.1754#011validation-error:0.2029\u001b[0m\n",
      "\u001b[34m[05:30:23] src/tree/updater_prune.cc:74: tree pruning end, 1 roots, 34 extra nodes, 6 pruned nodes, max_depth=5\u001b[0m\n",
      "\u001b[34m[25]#011train-error:0.173#011validation-error:0.2024\u001b[0m\n",
      "\u001b[34m[05:30:24] src/tree/updater_prune.cc:74: tree pruning end, 1 roots, 28 extra nodes, 10 pruned nodes, max_depth=5\u001b[0m\n",
      "\u001b[34m[26]#011train-error:0.170467#011validation-error:0.1995\u001b[0m\n",
      "\u001b[34m[05:30:26] src/tree/updater_prune.cc:74: tree pruning end, 1 roots, 22 extra nodes, 10 pruned nodes, max_depth=5\u001b[0m\n",
      "\u001b[34m[27]#011train-error:0.168467#011validation-error:0.1983\u001b[0m\n",
      "\u001b[34m[05:30:27] src/tree/updater_prune.cc:74: tree pruning end, 1 roots, 16 extra nodes, 14 pruned nodes, max_depth=5\u001b[0m\n",
      "\u001b[34m[28]#011train-error:0.167333#011validation-error:0.1961\u001b[0m\n",
      "\u001b[34m[05:30:28] src/tree/updater_prune.cc:74: tree pruning end, 1 roots, 34 extra nodes, 2 pruned nodes, max_depth=5\u001b[0m\n",
      "\u001b[34m[29]#011train-error:0.165667#011validation-error:0.1954\u001b[0m\n",
      "\u001b[34m[05:30:29] src/tree/updater_prune.cc:74: tree pruning end, 1 roots, 28 extra nodes, 6 pruned nodes, max_depth=5\u001b[0m\n",
      "\u001b[34m[30]#011train-error:0.164733#011validation-error:0.1952\u001b[0m\n",
      "\u001b[34m[05:30:31] src/tree/updater_prune.cc:74: tree pruning end, 1 roots, 16 extra nodes, 10 pruned nodes, max_depth=5\u001b[0m\n",
      "\u001b[34m[31]#011train-error:0.163933#011validation-error:0.1942\u001b[0m\n",
      "\u001b[34m[05:30:32] src/tree/updater_prune.cc:74: tree pruning end, 1 roots, 20 extra nodes, 14 pruned nodes, max_depth=5\u001b[0m\n",
      "\u001b[34m[32]#011train-error:0.1624#011validation-error:0.1941\u001b[0m\n",
      "\u001b[34m[05:30:33] src/tree/updater_prune.cc:74: tree pruning end, 1 roots, 24 extra nodes, 10 pruned nodes, max_depth=5\u001b[0m\n",
      "\u001b[34m[33]#011train-error:0.161#011validation-error:0.1946\u001b[0m\n",
      "\u001b[34m[05:30:35] src/tree/updater_prune.cc:74: tree pruning end, 1 roots, 26 extra nodes, 6 pruned nodes, max_depth=5\u001b[0m\n",
      "\u001b[34m[34]#011train-error:0.159267#011validation-error:0.1926\u001b[0m\n",
      "\u001b[34m[05:30:36] src/tree/updater_prune.cc:74: tree pruning end, 1 roots, 34 extra nodes, 2 pruned nodes, max_depth=5\u001b[0m\n",
      "\u001b[34m[35]#011train-error:0.1578#011validation-error:0.19\u001b[0m\n",
      "\u001b[34m[05:30:37] src/tree/updater_prune.cc:74: tree pruning end, 1 roots, 20 extra nodes, 6 pruned nodes, max_depth=5\u001b[0m\n",
      "\u001b[34m[36]#011train-error:0.155333#011validation-error:0.1873\u001b[0m\n",
      "\u001b[34m[05:30:38] src/tree/updater_prune.cc:74: tree pruning end, 1 roots, 14 extra nodes, 16 pruned nodes, max_depth=5\u001b[0m\n",
      "\u001b[34m[37]#011train-error:0.154067#011validation-error:0.1863\u001b[0m\n",
      "\u001b[34m[05:30:40] src/tree/updater_prune.cc:74: tree pruning end, 1 roots, 16 extra nodes, 20 pruned nodes, max_depth=5\u001b[0m\n",
      "\u001b[34m[38]#011train-error:0.1542#011validation-error:0.1851\u001b[0m\n",
      "\u001b[34m[05:30:41] src/tree/updater_prune.cc:74: tree pruning end, 1 roots, 30 extra nodes, 6 pruned nodes, max_depth=5\u001b[0m\n",
      "\u001b[34m[39]#011train-error:0.153133#011validation-error:0.1857\u001b[0m\n",
      "\u001b[34m[05:30:42] src/tree/updater_prune.cc:74: tree pruning end, 1 roots, 26 extra nodes, 4 pruned nodes, max_depth=5\u001b[0m\n",
      "\u001b[34m[40]#011train-error:0.150867#011validation-error:0.1855\u001b[0m\n",
      "\u001b[34m[05:30:44] src/tree/updater_prune.cc:74: tree pruning end, 1 roots, 24 extra nodes, 4 pruned nodes, max_depth=5\u001b[0m\n",
      "\u001b[34m[41]#011train-error:0.149#011validation-error:0.1834\u001b[0m\n",
      "\u001b[34m[05:30:45] src/tree/updater_prune.cc:74: tree pruning end, 1 roots, 14 extra nodes, 8 pruned nodes, max_depth=5\u001b[0m\n",
      "\u001b[34m[42]#011train-error:0.1472#011validation-error:0.1829\u001b[0m\n"
     ]
    },
    {
     "name": "stdout",
     "output_type": "stream",
     "text": [
      "\u001b[34m[05:30:46] src/tree/updater_prune.cc:74: tree pruning end, 1 roots, 32 extra nodes, 16 pruned nodes, max_depth=5\u001b[0m\n",
      "\u001b[34m[43]#011train-error:0.1456#011validation-error:0.1819\u001b[0m\n",
      "\u001b[34m[05:30:48] src/tree/updater_prune.cc:74: tree pruning end, 1 roots, 32 extra nodes, 8 pruned nodes, max_depth=5\u001b[0m\n",
      "\u001b[34m[44]#011train-error:0.144867#011validation-error:0.1808\u001b[0m\n",
      "\u001b[34m[05:30:49] src/tree/updater_prune.cc:74: tree pruning end, 1 roots, 28 extra nodes, 8 pruned nodes, max_depth=5\u001b[0m\n",
      "\u001b[34m[45]#011train-error:0.143933#011validation-error:0.18\u001b[0m\n",
      "\u001b[34m[05:30:50] src/tree/updater_prune.cc:74: tree pruning end, 1 roots, 36 extra nodes, 6 pruned nodes, max_depth=5\u001b[0m\n",
      "\u001b[34m[46]#011train-error:0.142333#011validation-error:0.1794\u001b[0m\n",
      "\u001b[34m[05:30:51] src/tree/updater_prune.cc:74: tree pruning end, 1 roots, 18 extra nodes, 8 pruned nodes, max_depth=5\u001b[0m\n",
      "\u001b[34m[47]#011train-error:0.141467#011validation-error:0.1796\u001b[0m\n",
      "\u001b[34m[05:30:53] src/tree/updater_prune.cc:74: tree pruning end, 1 roots, 24 extra nodes, 12 pruned nodes, max_depth=5\u001b[0m\n",
      "\u001b[34m[48]#011train-error:0.140667#011validation-error:0.1781\u001b[0m\n",
      "\u001b[34m[05:30:54] src/tree/updater_prune.cc:74: tree pruning end, 1 roots, 32 extra nodes, 6 pruned nodes, max_depth=5\u001b[0m\n",
      "\u001b[34m[49]#011train-error:0.14#011validation-error:0.1765\u001b[0m\n",
      "\u001b[34m[05:30:55] src/tree/updater_prune.cc:74: tree pruning end, 1 roots, 26 extra nodes, 8 pruned nodes, max_depth=5\u001b[0m\n",
      "\u001b[34m[50]#011train-error:0.138667#011validation-error:0.1756\u001b[0m\n",
      "\u001b[34m[05:30:57] src/tree/updater_prune.cc:74: tree pruning end, 1 roots, 22 extra nodes, 6 pruned nodes, max_depth=5\u001b[0m\n",
      "\u001b[34m[51]#011train-error:0.138933#011validation-error:0.175\u001b[0m\n",
      "\u001b[34m[05:30:58] src/tree/updater_prune.cc:74: tree pruning end, 1 roots, 16 extra nodes, 12 pruned nodes, max_depth=5\u001b[0m\n",
      "\u001b[34m[52]#011train-error:0.1388#011validation-error:0.1747\u001b[0m\n",
      "\u001b[34m[05:30:59] src/tree/updater_prune.cc:74: tree pruning end, 1 roots, 20 extra nodes, 4 pruned nodes, max_depth=5\u001b[0m\n",
      "\u001b[34m[53]#011train-error:0.138733#011validation-error:0.1747\u001b[0m\n",
      "\u001b[34m[05:31:00] src/tree/updater_prune.cc:74: tree pruning end, 1 roots, 22 extra nodes, 14 pruned nodes, max_depth=5\u001b[0m\n",
      "\u001b[34m[54]#011train-error:0.137333#011validation-error:0.1748\u001b[0m\n",
      "\u001b[34m[05:31:02] src/tree/updater_prune.cc:74: tree pruning end, 1 roots, 32 extra nodes, 8 pruned nodes, max_depth=5\u001b[0m\n",
      "\u001b[34m[55]#011train-error:0.135267#011validation-error:0.1737\u001b[0m\n",
      "\u001b[34m[05:31:03] src/tree/updater_prune.cc:74: tree pruning end, 1 roots, 22 extra nodes, 4 pruned nodes, max_depth=5\u001b[0m\n",
      "\u001b[34m[56]#011train-error:0.1344#011validation-error:0.1742\u001b[0m\n",
      "\u001b[34m[05:31:04] src/tree/updater_prune.cc:74: tree pruning end, 1 roots, 24 extra nodes, 6 pruned nodes, max_depth=5\u001b[0m\n",
      "\u001b[34m[57]#011train-error:0.132867#011validation-error:0.1739\u001b[0m\n",
      "\u001b[34m[05:31:06] src/tree/updater_prune.cc:74: tree pruning end, 1 roots, 22 extra nodes, 12 pruned nodes, max_depth=5\u001b[0m\n",
      "\u001b[34m[58]#011train-error:0.131467#011validation-error:0.1725\u001b[0m\n",
      "\u001b[34m[05:31:07] src/tree/updater_prune.cc:74: tree pruning end, 1 roots, 26 extra nodes, 8 pruned nodes, max_depth=5\u001b[0m\n",
      "\u001b[34m[59]#011train-error:0.131133#011validation-error:0.1708\u001b[0m\n",
      "\u001b[34m[05:31:08] src/tree/updater_prune.cc:74: tree pruning end, 1 roots, 24 extra nodes, 4 pruned nodes, max_depth=5\u001b[0m\n",
      "\u001b[34m[60]#011train-error:0.131133#011validation-error:0.1701\u001b[0m\n",
      "\u001b[34m[05:31:10] src/tree/updater_prune.cc:74: tree pruning end, 1 roots, 16 extra nodes, 10 pruned nodes, max_depth=5\u001b[0m\n",
      "\u001b[34m[61]#011train-error:0.129867#011validation-error:0.1693\u001b[0m\n",
      "\u001b[34m[05:31:11] src/tree/updater_prune.cc:74: tree pruning end, 1 roots, 26 extra nodes, 12 pruned nodes, max_depth=5\u001b[0m\n",
      "\u001b[34m[62]#011train-error:0.128#011validation-error:0.1686\u001b[0m\n",
      "\u001b[34m[05:31:12] src/tree/updater_prune.cc:74: tree pruning end, 1 roots, 30 extra nodes, 16 pruned nodes, max_depth=5\u001b[0m\n",
      "\u001b[34m[63]#011train-error:0.1274#011validation-error:0.1671\u001b[0m\n",
      "\u001b[34m[05:31:14] src/tree/updater_prune.cc:74: tree pruning end, 1 roots, 14 extra nodes, 16 pruned nodes, max_depth=5\u001b[0m\n",
      "\u001b[34m[64]#011train-error:0.1268#011validation-error:0.1682\u001b[0m\n",
      "\u001b[34m[05:31:15] src/tree/updater_prune.cc:74: tree pruning end, 1 roots, 26 extra nodes, 4 pruned nodes, max_depth=5\u001b[0m\n",
      "\u001b[34m[65]#011train-error:0.1262#011validation-error:0.1676\u001b[0m\n",
      "\u001b[34m[05:31:16] src/tree/updater_prune.cc:74: tree pruning end, 1 roots, 16 extra nodes, 6 pruned nodes, max_depth=5\u001b[0m\n",
      "\u001b[34m[66]#011train-error:0.126133#011validation-error:0.1664\u001b[0m\n",
      "\u001b[34m[05:31:17] src/tree/updater_prune.cc:74: tree pruning end, 1 roots, 44 extra nodes, 4 pruned nodes, max_depth=5\u001b[0m\n",
      "\u001b[34m[67]#011train-error:0.1242#011validation-error:0.1651\u001b[0m\n",
      "\u001b[34m[05:31:19] src/tree/updater_prune.cc:74: tree pruning end, 1 roots, 18 extra nodes, 4 pruned nodes, max_depth=5\u001b[0m\n",
      "\u001b[34m[68]#011train-error:0.1244#011validation-error:0.165\u001b[0m\n",
      "\u001b[34m[05:31:20] src/tree/updater_prune.cc:74: tree pruning end, 1 roots, 18 extra nodes, 6 pruned nodes, max_depth=5\u001b[0m\n",
      "\u001b[34m[69]#011train-error:0.123133#011validation-error:0.1648\u001b[0m\n",
      "\u001b[34m[05:31:21] src/tree/updater_prune.cc:74: tree pruning end, 1 roots, 26 extra nodes, 8 pruned nodes, max_depth=5\u001b[0m\n",
      "\u001b[34m[70]#011train-error:0.1216#011validation-error:0.1633\u001b[0m\n",
      "\u001b[34m[05:31:23] src/tree/updater_prune.cc:74: tree pruning end, 1 roots, 14 extra nodes, 4 pruned nodes, max_depth=5\u001b[0m\n",
      "\u001b[34m[71]#011train-error:0.1212#011validation-error:0.1631\u001b[0m\n",
      "\u001b[34m[05:31:24] src/tree/updater_prune.cc:74: tree pruning end, 1 roots, 18 extra nodes, 16 pruned nodes, max_depth=5\u001b[0m\n",
      "\u001b[34m[72]#011train-error:0.1204#011validation-error:0.162\u001b[0m\n",
      "\u001b[34m[05:31:25] src/tree/updater_prune.cc:74: tree pruning end, 1 roots, 20 extra nodes, 12 pruned nodes, max_depth=5\u001b[0m\n",
      "\u001b[34m[73]#011train-error:0.120267#011validation-error:0.1606\u001b[0m\n",
      "\u001b[34m[05:31:27] src/tree/updater_prune.cc:74: tree pruning end, 1 roots, 28 extra nodes, 8 pruned nodes, max_depth=5\u001b[0m\n",
      "\u001b[34m[74]#011train-error:0.119467#011validation-error:0.16\u001b[0m\n",
      "\u001b[34m[05:31:28] src/tree/updater_prune.cc:74: tree pruning end, 1 roots, 24 extra nodes, 8 pruned nodes, max_depth=5\u001b[0m\n",
      "\u001b[34m[75]#011train-error:0.118867#011validation-error:0.1603\u001b[0m\n",
      "\u001b[34m[05:31:29] src/tree/updater_prune.cc:74: tree pruning end, 1 roots, 14 extra nodes, 6 pruned nodes, max_depth=5\u001b[0m\n",
      "\u001b[34m[76]#011train-error:0.118067#011validation-error:0.1598\u001b[0m\n",
      "\u001b[34m[05:31:30] src/tree/updater_prune.cc:74: tree pruning end, 1 roots, 24 extra nodes, 18 pruned nodes, max_depth=5\u001b[0m\n",
      "\u001b[34m[77]#011train-error:0.117467#011validation-error:0.1622\u001b[0m\n",
      "\u001b[34m[05:31:32] src/tree/updater_prune.cc:74: tree pruning end, 1 roots, 20 extra nodes, 12 pruned nodes, max_depth=5\u001b[0m\n",
      "\u001b[34m[78]#011train-error:0.116333#011validation-error:0.162\u001b[0m\n",
      "\u001b[34m[05:31:33] src/tree/updater_prune.cc:74: tree pruning end, 1 roots, 12 extra nodes, 16 pruned nodes, max_depth=5\u001b[0m\n",
      "\u001b[34m[79]#011train-error:0.115667#011validation-error:0.1617\u001b[0m\n",
      "\u001b[34m[05:31:34] src/tree/updater_prune.cc:74: tree pruning end, 1 roots, 14 extra nodes, 2 pruned nodes, max_depth=5\u001b[0m\n",
      "\u001b[34m[80]#011train-error:0.1154#011validation-error:0.1604\u001b[0m\n",
      "\u001b[34m[05:31:36] src/tree/updater_prune.cc:74: tree pruning end, 1 roots, 18 extra nodes, 10 pruned nodes, max_depth=5\u001b[0m\n",
      "\u001b[34m[81]#011train-error:0.1144#011validation-error:0.1612\u001b[0m\n",
      "\u001b[34m[05:31:37] src/tree/updater_prune.cc:74: tree pruning end, 1 roots, 12 extra nodes, 6 pruned nodes, max_depth=5\u001b[0m\n",
      "\u001b[34m[82]#011train-error:0.113933#011validation-error:0.1611\u001b[0m\n",
      "\u001b[34m[05:31:38] src/tree/updater_prune.cc:74: tree pruning end, 1 roots, 18 extra nodes, 14 pruned nodes, max_depth=5\u001b[0m\n",
      "\u001b[34m[83]#011train-error:0.113667#011validation-error:0.1603\u001b[0m\n",
      "\u001b[34m[05:31:39] src/tree/updater_prune.cc:74: tree pruning end, 1 roots, 40 extra nodes, 14 pruned nodes, max_depth=5\u001b[0m\n",
      "\u001b[34m[84]#011train-error:0.111267#011validation-error:0.1604\u001b[0m\n",
      "\u001b[34m[05:31:41] src/tree/updater_prune.cc:74: tree pruning end, 1 roots, 28 extra nodes, 4 pruned nodes, max_depth=5\u001b[0m\n",
      "\u001b[34m[85]#011train-error:0.110867#011validation-error:0.1599\u001b[0m\n",
      "\u001b[34m[05:31:42] src/tree/updater_prune.cc:74: tree pruning end, 1 roots, 18 extra nodes, 8 pruned nodes, max_depth=5\u001b[0m\n",
      "\u001b[34m[86]#011train-error:0.110933#011validation-error:0.1594\u001b[0m\n",
      "\u001b[34m[05:31:43] src/tree/updater_prune.cc:74: tree pruning end, 1 roots, 22 extra nodes, 4 pruned nodes, max_depth=5\u001b[0m\n",
      "\u001b[34m[87]#011train-error:0.110133#011validation-error:0.1598\u001b[0m\n",
      "\u001b[34m[05:31:45] src/tree/updater_prune.cc:74: tree pruning end, 1 roots, 26 extra nodes, 20 pruned nodes, max_depth=5\u001b[0m\n",
      "\u001b[34m[88]#011train-error:0.1086#011validation-error:0.1588\u001b[0m\n",
      "\u001b[34m[05:31:46] src/tree/updater_prune.cc:74: tree pruning end, 1 roots, 22 extra nodes, 4 pruned nodes, max_depth=5\u001b[0m\n",
      "\u001b[34m[89]#011train-error:0.108#011validation-error:0.1581\u001b[0m\n",
      "\u001b[34m[05:31:47] src/tree/updater_prune.cc:74: tree pruning end, 1 roots, 16 extra nodes, 10 pruned nodes, max_depth=5\u001b[0m\n",
      "\u001b[34m[90]#011train-error:0.1076#011validation-error:0.1585\u001b[0m\n"
     ]
    },
    {
     "name": "stdout",
     "output_type": "stream",
     "text": [
      "\u001b[34m[05:31:48] src/tree/updater_prune.cc:74: tree pruning end, 1 roots, 12 extra nodes, 8 pruned nodes, max_depth=5\u001b[0m\n",
      "\u001b[34m[91]#011train-error:0.1068#011validation-error:0.1581\u001b[0m\n",
      "\u001b[34m[05:31:50] src/tree/updater_prune.cc:74: tree pruning end, 1 roots, 14 extra nodes, 4 pruned nodes, max_depth=5\u001b[0m\n",
      "\u001b[34m[92]#011train-error:0.105667#011validation-error:0.1574\u001b[0m\n",
      "\u001b[34m[05:31:51] src/tree/updater_prune.cc:74: tree pruning end, 1 roots, 16 extra nodes, 8 pruned nodes, max_depth=5\u001b[0m\n",
      "\u001b[34m[93]#011train-error:0.105667#011validation-error:0.157\u001b[0m\n",
      "\u001b[34m[05:31:52] src/tree/updater_prune.cc:74: tree pruning end, 1 roots, 22 extra nodes, 4 pruned nodes, max_depth=5\u001b[0m\n",
      "\u001b[34m[94]#011train-error:0.1056#011validation-error:0.1558\u001b[0m\n",
      "\u001b[34m[05:31:54] src/tree/updater_prune.cc:74: tree pruning end, 1 roots, 24 extra nodes, 14 pruned nodes, max_depth=5\u001b[0m\n",
      "\u001b[34m[95]#011train-error:0.104467#011validation-error:0.1554\u001b[0m\n",
      "\u001b[34m[05:31:55] src/tree/updater_prune.cc:74: tree pruning end, 1 roots, 18 extra nodes, 4 pruned nodes, max_depth=5\u001b[0m\n",
      "\u001b[34m[96]#011train-error:0.104133#011validation-error:0.1554\u001b[0m\n",
      "\u001b[34m[05:31:56] src/tree/updater_prune.cc:74: tree pruning end, 1 roots, 24 extra nodes, 6 pruned nodes, max_depth=5\u001b[0m\n",
      "\u001b[34m[97]#011train-error:0.1038#011validation-error:0.1531\u001b[0m\n",
      "\u001b[34m[05:31:57] src/tree/updater_prune.cc:74: tree pruning end, 1 roots, 12 extra nodes, 8 pruned nodes, max_depth=5\u001b[0m\n",
      "\u001b[34m[98]#011train-error:0.1034#011validation-error:0.1532\u001b[0m\n",
      "\u001b[34m[05:31:59] src/tree/updater_prune.cc:74: tree pruning end, 1 roots, 12 extra nodes, 6 pruned nodes, max_depth=5\u001b[0m\n",
      "\u001b[34m[99]#011train-error:0.102267#011validation-error:0.1538\u001b[0m\n",
      "\u001b[34m[05:32:00] src/tree/updater_prune.cc:74: tree pruning end, 1 roots, 20 extra nodes, 6 pruned nodes, max_depth=5\u001b[0m\n",
      "\u001b[34m[100]#011train-error:0.101667#011validation-error:0.1541\u001b[0m\n",
      "\u001b[34m[05:32:01] src/tree/updater_prune.cc:74: tree pruning end, 1 roots, 12 extra nodes, 8 pruned nodes, max_depth=5\u001b[0m\n",
      "\u001b[34m[101]#011train-error:0.1016#011validation-error:0.1538\u001b[0m\n",
      "\u001b[34m[05:32:03] src/tree/updater_prune.cc:74: tree pruning end, 1 roots, 18 extra nodes, 6 pruned nodes, max_depth=5\u001b[0m\n",
      "\u001b[34m[102]#011train-error:0.100533#011validation-error:0.1527\u001b[0m\n",
      "\u001b[34m[05:32:04] src/tree/updater_prune.cc:74: tree pruning end, 1 roots, 24 extra nodes, 8 pruned nodes, max_depth=5\u001b[0m\n",
      "\u001b[34m[103]#011train-error:0.0994#011validation-error:0.153\u001b[0m\n",
      "\u001b[34m[05:32:05] src/tree/updater_prune.cc:74: tree pruning end, 1 roots, 14 extra nodes, 12 pruned nodes, max_depth=5\u001b[0m\n",
      "\u001b[34m[104]#011train-error:0.099#011validation-error:0.1513\u001b[0m\n",
      "\u001b[34m[05:32:07] src/tree/updater_prune.cc:74: tree pruning end, 1 roots, 16 extra nodes, 8 pruned nodes, max_depth=5\u001b[0m\n",
      "\u001b[34m[105]#011train-error:0.0984#011validation-error:0.1511\u001b[0m\n",
      "\u001b[34m[05:32:08] src/tree/updater_prune.cc:74: tree pruning end, 1 roots, 14 extra nodes, 8 pruned nodes, max_depth=5\u001b[0m\n",
      "\u001b[34m[106]#011train-error:0.098667#011validation-error:0.1508\u001b[0m\n",
      "\u001b[34m[05:32:09] src/tree/updater_prune.cc:74: tree pruning end, 1 roots, 24 extra nodes, 12 pruned nodes, max_depth=5\u001b[0m\n",
      "\u001b[34m[107]#011train-error:0.098333#011validation-error:0.1515\u001b[0m\n",
      "\u001b[34m[05:32:10] src/tree/updater_prune.cc:74: tree pruning end, 1 roots, 14 extra nodes, 14 pruned nodes, max_depth=5\u001b[0m\n",
      "\u001b[34m[108]#011train-error:0.0978#011validation-error:0.1515\u001b[0m\n",
      "\u001b[34m[05:32:12] src/tree/updater_prune.cc:74: tree pruning end, 1 roots, 16 extra nodes, 6 pruned nodes, max_depth=5\u001b[0m\n",
      "\u001b[34m[109]#011train-error:0.096933#011validation-error:0.1516\u001b[0m\n",
      "\u001b[34m[05:32:13] src/tree/updater_prune.cc:74: tree pruning end, 1 roots, 26 extra nodes, 10 pruned nodes, max_depth=5\u001b[0m\n",
      "\u001b[34m[110]#011train-error:0.096267#011validation-error:0.1506\u001b[0m\n",
      "\u001b[34m[05:32:14] src/tree/updater_prune.cc:74: tree pruning end, 1 roots, 16 extra nodes, 4 pruned nodes, max_depth=5\u001b[0m\n",
      "\u001b[34m[111]#011train-error:0.096#011validation-error:0.1505\u001b[0m\n",
      "\u001b[34m[05:32:16] src/tree/updater_prune.cc:74: tree pruning end, 1 roots, 12 extra nodes, 4 pruned nodes, max_depth=5\u001b[0m\n",
      "\u001b[34m[112]#011train-error:0.095533#011validation-error:0.1506\u001b[0m\n",
      "\u001b[34m[05:32:17] src/tree/updater_prune.cc:74: tree pruning end, 1 roots, 18 extra nodes, 4 pruned nodes, max_depth=5\u001b[0m\n",
      "\u001b[34m[113]#011train-error:0.0952#011validation-error:0.1493\u001b[0m\n",
      "\u001b[34m[05:32:18] src/tree/updater_prune.cc:74: tree pruning end, 1 roots, 24 extra nodes, 8 pruned nodes, max_depth=5\u001b[0m\n",
      "\u001b[34m[114]#011train-error:0.094333#011validation-error:0.1484\u001b[0m\n",
      "\u001b[34m[05:32:19] src/tree/updater_prune.cc:74: tree pruning end, 1 roots, 14 extra nodes, 8 pruned nodes, max_depth=5\u001b[0m\n",
      "\u001b[34m[115]#011train-error:0.094333#011validation-error:0.1488\u001b[0m\n",
      "\u001b[34m[05:32:21] src/tree/updater_prune.cc:74: tree pruning end, 1 roots, 26 extra nodes, 10 pruned nodes, max_depth=5\u001b[0m\n",
      "\u001b[34m[116]#011train-error:0.093133#011validation-error:0.1483\u001b[0m\n",
      "\u001b[34m[05:32:22] src/tree/updater_prune.cc:74: tree pruning end, 1 roots, 22 extra nodes, 4 pruned nodes, max_depth=5\u001b[0m\n",
      "\u001b[34m[117]#011train-error:0.091867#011validation-error:0.1475\u001b[0m\n",
      "\u001b[34m[05:32:23] src/tree/updater_prune.cc:74: tree pruning end, 1 roots, 26 extra nodes, 10 pruned nodes, max_depth=5\u001b[0m\n",
      "\u001b[34m[118]#011train-error:0.0916#011validation-error:0.1468\u001b[0m\n",
      "\u001b[34m[05:32:25] src/tree/updater_prune.cc:74: tree pruning end, 1 roots, 16 extra nodes, 14 pruned nodes, max_depth=5\u001b[0m\n",
      "\u001b[34m[119]#011train-error:0.091667#011validation-error:0.147\u001b[0m\n",
      "\u001b[34m[05:32:26] src/tree/updater_prune.cc:74: tree pruning end, 1 roots, 16 extra nodes, 4 pruned nodes, max_depth=5\u001b[0m\n",
      "\u001b[34m[120]#011train-error:0.091467#011validation-error:0.1475\u001b[0m\n",
      "\u001b[34m[05:32:27] src/tree/updater_prune.cc:74: tree pruning end, 1 roots, 12 extra nodes, 12 pruned nodes, max_depth=5\u001b[0m\n",
      "\u001b[34m[121]#011train-error:0.0906#011validation-error:0.1479\u001b[0m\n",
      "\u001b[34m[05:32:28] src/tree/updater_prune.cc:74: tree pruning end, 1 roots, 10 extra nodes, 4 pruned nodes, max_depth=5\u001b[0m\n",
      "\u001b[34m[122]#011train-error:0.0904#011validation-error:0.1479\u001b[0m\n",
      "\u001b[34m[05:32:30] src/tree/updater_prune.cc:74: tree pruning end, 1 roots, 10 extra nodes, 22 pruned nodes, max_depth=5\u001b[0m\n",
      "\u001b[34m[123]#011train-error:0.0902#011validation-error:0.1479\u001b[0m\n",
      "\u001b[34m[05:32:31] src/tree/updater_prune.cc:74: tree pruning end, 1 roots, 18 extra nodes, 8 pruned nodes, max_depth=5\u001b[0m\n",
      "\u001b[34m[124]#011train-error:0.089733#011validation-error:0.1468\u001b[0m\n",
      "\u001b[34m[05:32:32] src/tree/updater_prune.cc:74: tree pruning end, 1 roots, 16 extra nodes, 6 pruned nodes, max_depth=5\u001b[0m\n",
      "\u001b[34m[125]#011train-error:0.089733#011validation-error:0.1463\u001b[0m\n",
      "\u001b[34m[05:32:34] src/tree/updater_prune.cc:74: tree pruning end, 1 roots, 24 extra nodes, 8 pruned nodes, max_depth=5\u001b[0m\n",
      "\u001b[34m[126]#011train-error:0.090267#011validation-error:0.147\u001b[0m\n",
      "\u001b[34m[05:32:35] src/tree/updater_prune.cc:74: tree pruning end, 1 roots, 18 extra nodes, 6 pruned nodes, max_depth=5\u001b[0m\n",
      "\u001b[34m[127]#011train-error:0.089333#011validation-error:0.1467\u001b[0m\n",
      "\u001b[34m[05:32:36] src/tree/updater_prune.cc:74: tree pruning end, 1 roots, 14 extra nodes, 14 pruned nodes, max_depth=5\u001b[0m\n",
      "\u001b[34m[128]#011train-error:0.089#011validation-error:0.1458\u001b[0m\n",
      "\u001b[34m[05:32:38] src/tree/updater_prune.cc:74: tree pruning end, 1 roots, 12 extra nodes, 16 pruned nodes, max_depth=5\u001b[0m\n",
      "\u001b[34m[129]#011train-error:0.088733#011validation-error:0.1463\u001b[0m\n",
      "\u001b[34m[05:32:39] src/tree/updater_prune.cc:74: tree pruning end, 1 roots, 16 extra nodes, 24 pruned nodes, max_depth=5\u001b[0m\n",
      "\u001b[34m[130]#011train-error:0.0886#011validation-error:0.1463\u001b[0m\n",
      "\u001b[34m[05:32:40] src/tree/updater_prune.cc:74: tree pruning end, 1 roots, 12 extra nodes, 8 pruned nodes, max_depth=5\u001b[0m\n",
      "\u001b[34m[131]#011train-error:0.087867#011validation-error:0.1458\u001b[0m\n",
      "\u001b[34m[05:32:41] src/tree/updater_prune.cc:74: tree pruning end, 1 roots, 14 extra nodes, 8 pruned nodes, max_depth=5\u001b[0m\n",
      "\u001b[34m[132]#011train-error:0.088067#011validation-error:0.1457\u001b[0m\n",
      "\u001b[34m[05:32:43] src/tree/updater_prune.cc:74: tree pruning end, 1 roots, 12 extra nodes, 8 pruned nodes, max_depth=5\u001b[0m\n",
      "\u001b[34m[133]#011train-error:0.0882#011validation-error:0.1453\u001b[0m\n",
      "\u001b[34m[05:32:44] src/tree/updater_prune.cc:74: tree pruning end, 1 roots, 28 extra nodes, 4 pruned nodes, max_depth=5\u001b[0m\n",
      "\u001b[34m[134]#011train-error:0.087867#011validation-error:0.1447\u001b[0m\n",
      "\u001b[34m[05:32:45] src/tree/updater_prune.cc:74: tree pruning end, 1 roots, 16 extra nodes, 8 pruned nodes, max_depth=5\u001b[0m\n",
      "\u001b[34m[135]#011train-error:0.088#011validation-error:0.1439\u001b[0m\n",
      "\u001b[34m[05:32:47] src/tree/updater_prune.cc:74: tree pruning end, 1 roots, 12 extra nodes, 6 pruned nodes, max_depth=5\u001b[0m\n",
      "\u001b[34m[136]#011train-error:0.087#011validation-error:0.1434\u001b[0m\n",
      "\u001b[34m[05:32:48] src/tree/updater_prune.cc:74: tree pruning end, 1 roots, 16 extra nodes, 6 pruned nodes, max_depth=5\u001b[0m\n",
      "\u001b[34m[137]#011train-error:0.086933#011validation-error:0.1433\u001b[0m\n",
      "\u001b[34m[05:32:49] src/tree/updater_prune.cc:74: tree pruning end, 1 roots, 22 extra nodes, 6 pruned nodes, max_depth=5\u001b[0m\n",
      "\u001b[34m[138]#011train-error:0.086733#011validation-error:0.1447\u001b[0m\n"
     ]
    },
    {
     "name": "stdout",
     "output_type": "stream",
     "text": [
      "\u001b[34m[05:32:51] src/tree/updater_prune.cc:74: tree pruning end, 1 roots, 10 extra nodes, 6 pruned nodes, max_depth=5\u001b[0m\n",
      "\u001b[34m[139]#011train-error:0.0866#011validation-error:0.1443\u001b[0m\n",
      "\u001b[34m[05:32:52] src/tree/updater_prune.cc:74: tree pruning end, 1 roots, 14 extra nodes, 4 pruned nodes, max_depth=5\u001b[0m\n",
      "\u001b[34m[140]#011train-error:0.086467#011validation-error:0.1443\u001b[0m\n",
      "\u001b[34m[05:32:53] src/tree/updater_prune.cc:74: tree pruning end, 1 roots, 30 extra nodes, 18 pruned nodes, max_depth=5\u001b[0m\n",
      "\u001b[34m[141]#011train-error:0.085067#011validation-error:0.1443\u001b[0m\n",
      "\u001b[34m[05:32:55] src/tree/updater_prune.cc:74: tree pruning end, 1 roots, 38 extra nodes, 8 pruned nodes, max_depth=5\u001b[0m\n",
      "\u001b[34m[142]#011train-error:0.0838#011validation-error:0.1454\u001b[0m\n",
      "\u001b[34m[05:32:56] src/tree/updater_prune.cc:74: tree pruning end, 1 roots, 26 extra nodes, 4 pruned nodes, max_depth=5\u001b[0m\n",
      "\u001b[34m[143]#011train-error:0.083#011validation-error:0.1446\u001b[0m\n",
      "\u001b[34m[05:32:57] src/tree/updater_prune.cc:74: tree pruning end, 1 roots, 10 extra nodes, 10 pruned nodes, max_depth=5\u001b[0m\n",
      "\u001b[34m[144]#011train-error:0.083#011validation-error:0.1445\u001b[0m\n",
      "\u001b[34m[05:32:58] src/tree/updater_prune.cc:74: tree pruning end, 1 roots, 12 extra nodes, 6 pruned nodes, max_depth=5\u001b[0m\n",
      "\u001b[34m[145]#011train-error:0.0836#011validation-error:0.1445\u001b[0m\n",
      "\u001b[34m[05:33:00] src/tree/updater_prune.cc:74: tree pruning end, 1 roots, 12 extra nodes, 10 pruned nodes, max_depth=5\u001b[0m\n",
      "\u001b[34m[146]#011train-error:0.083733#011validation-error:0.1442\u001b[0m\n",
      "\u001b[34m[05:33:01] src/tree/updater_prune.cc:74: tree pruning end, 1 roots, 12 extra nodes, 10 pruned nodes, max_depth=5\u001b[0m\n",
      "\u001b[34m[147]#011train-error:0.0834#011validation-error:0.1437\u001b[0m\n",
      "\u001b[34mStopping. Best iteration:\u001b[0m\n",
      "\u001b[34m[137]#011train-error:0.086933#011validation-error:0.1433\n",
      "\u001b[0m\n",
      "\n",
      "2021-01-05 05:33:14 Uploading - Uploading generated training model\n",
      "2021-01-05 05:33:14 Completed - Training job completed\n",
      "Training seconds: 263\n",
      "Billable seconds: 263\n"
     ]
    }
   ],
   "source": [
    "xgb.fit({'train': s3_ip_train, 'validation': s3_ip_validation})"
   ]
  },
  {
   "cell_type": "markdown",
   "metadata": {},
   "source": [
    "###### Testing the model."
   ]
  },
  {
   "cell_type": "code",
   "execution_count": 32,
   "metadata": {},
   "outputs": [
    {
     "name": "stderr",
     "output_type": "stream",
     "text": [
      "Parameter image will be renamed to image_uri in SageMaker Python SDK v2.\n"
     ]
    }
   ],
   "source": [
    "xgb_transformer = xgb.transformer(instance_count=1, instance_type='ml.m4.xlarge')"
   ]
  },
  {
   "cell_type": "code",
   "execution_count": 33,
   "metadata": {},
   "outputs": [],
   "source": [
    "xgb_transformer.transform(test_loc, content_type='text/csv', split_type='Line')"
   ]
  },
  {
   "cell_type": "code",
   "execution_count": 34,
   "metadata": {},
   "outputs": [
    {
     "name": "stdout",
     "output_type": "stream",
     "text": [
      "...............................\u001b[32m2021-01-05T05:38:27.852:[sagemaker logs]: MaxConcurrentTransforms=4, MaxPayloadInMB=6, BatchStrategy=MULTI_RECORD\u001b[0m\n",
      "\u001b[34mArguments: serve\u001b[0m\n",
      "\u001b[34m[2021-01-05 05:38:27 +0000] [1] [INFO] Starting gunicorn 19.7.1\u001b[0m\n",
      "\u001b[34m[2021-01-05 05:38:27 +0000] [1] [INFO] Listening at: http://0.0.0.0:8080 (1)\u001b[0m\n",
      "\u001b[34m[2021-01-05 05:38:27 +0000] [1] [INFO] Using worker: gevent\u001b[0m\n",
      "\u001b[34m[2021-01-05 05:38:27 +0000] [36] [INFO] Booting worker with pid: 36\u001b[0m\n",
      "\u001b[34m[2021-01-05 05:38:27 +0000] [37] [INFO] Booting worker with pid: 37\u001b[0m\n",
      "\u001b[35mArguments: serve\u001b[0m\n",
      "\u001b[35m[2021-01-05 05:38:27 +0000] [1] [INFO] Starting gunicorn 19.7.1\u001b[0m\n",
      "\u001b[35m[2021-01-05 05:38:27 +0000] [1] [INFO] Listening at: http://0.0.0.0:8080 (1)\u001b[0m\n",
      "\u001b[35m[2021-01-05 05:38:27 +0000] [1] [INFO] Using worker: gevent\u001b[0m\n",
      "\u001b[35m[2021-01-05 05:38:27 +0000] [36] [INFO] Booting worker with pid: 36\u001b[0m\n",
      "\u001b[35m[2021-01-05 05:38:27 +0000] [37] [INFO] Booting worker with pid: 37\u001b[0m\n",
      "\u001b[34m[2021-01-05:05:38:27:INFO] Model loaded successfully for worker : 36\u001b[0m\n",
      "\u001b[34m[2021-01-05 05:38:27 +0000] [38] [INFO] Booting worker with pid: 38\u001b[0m\n",
      "\u001b[34m[2021-01-05 05:38:27 +0000] [39] [INFO] Booting worker with pid: 39\u001b[0m\n",
      "\u001b[34m[2021-01-05:05:38:27:INFO] Model loaded successfully for worker : 37\u001b[0m\n",
      "\u001b[34m[2021-01-05:05:38:28:INFO] Model loaded successfully for worker : 39\u001b[0m\n",
      "\u001b[34m[2021-01-05:05:38:28:INFO] Model loaded successfully for worker : 38\u001b[0m\n",
      "\u001b[34m[2021-01-05:05:38:28:INFO] Sniff delimiter as ','\u001b[0m\n",
      "\u001b[34m[2021-01-05:05:38:28:INFO] Determined delimiter of CSV input is ','\u001b[0m\n",
      "\u001b[34m[2021-01-05:05:38:28:INFO] Sniff delimiter as ','\u001b[0m\n",
      "\u001b[34m[2021-01-05:05:38:28:INFO] Determined delimiter of CSV input is ','\u001b[0m\n",
      "\u001b[34m[2021-01-05:05:38:28:INFO] Sniff delimiter as ','\u001b[0m\n",
      "\u001b[34m[2021-01-05:05:38:28:INFO] Determined delimiter of CSV input is ','\u001b[0m\n",
      "\u001b[34m[2021-01-05:05:38:30:INFO] Sniff delimiter as ','\u001b[0m\n",
      "\u001b[34m[2021-01-05:05:38:30:INFO] Determined delimiter of CSV input is ','\u001b[0m\n",
      "\u001b[34m[2021-01-05:05:38:30:INFO] Sniff delimiter as ','\u001b[0m\n",
      "\u001b[34m[2021-01-05:05:38:30:INFO] Determined delimiter of CSV input is ','\u001b[0m\n",
      "\u001b[35m[2021-01-05:05:38:27:INFO] Model loaded successfully for worker : 36\u001b[0m\n",
      "\u001b[35m[2021-01-05 05:38:27 +0000] [38] [INFO] Booting worker with pid: 38\u001b[0m\n",
      "\u001b[35m[2021-01-05 05:38:27 +0000] [39] [INFO] Booting worker with pid: 39\u001b[0m\n",
      "\u001b[35m[2021-01-05:05:38:27:INFO] Model loaded successfully for worker : 37\u001b[0m\n",
      "\u001b[35m[2021-01-05:05:38:28:INFO] Model loaded successfully for worker : 39\u001b[0m\n",
      "\u001b[35m[2021-01-05:05:38:28:INFO] Model loaded successfully for worker : 38\u001b[0m\n",
      "\u001b[35m[2021-01-05:05:38:28:INFO] Sniff delimiter as ','\u001b[0m\n",
      "\u001b[35m[2021-01-05:05:38:28:INFO] Determined delimiter of CSV input is ','\u001b[0m\n",
      "\u001b[35m[2021-01-05:05:38:28:INFO] Sniff delimiter as ','\u001b[0m\n",
      "\u001b[35m[2021-01-05:05:38:28:INFO] Determined delimiter of CSV input is ','\u001b[0m\n",
      "\u001b[35m[2021-01-05:05:38:28:INFO] Sniff delimiter as ','\u001b[0m\n",
      "\u001b[35m[2021-01-05:05:38:28:INFO] Determined delimiter of CSV input is ','\u001b[0m\n",
      "\u001b[35m[2021-01-05:05:38:30:INFO] Sniff delimiter as ','\u001b[0m\n",
      "\u001b[35m[2021-01-05:05:38:30:INFO] Determined delimiter of CSV input is ','\u001b[0m\n",
      "\u001b[35m[2021-01-05:05:38:30:INFO] Sniff delimiter as ','\u001b[0m\n",
      "\u001b[35m[2021-01-05:05:38:30:INFO] Determined delimiter of CSV input is ','\u001b[0m\n",
      "\u001b[34m[2021-01-05:05:38:31:INFO] Sniff delimiter as ','\u001b[0m\n",
      "\u001b[34m[2021-01-05:05:38:31:INFO] Determined delimiter of CSV input is ','\u001b[0m\n",
      "\u001b[34m[2021-01-05:05:38:31:INFO] Sniff delimiter as ','\u001b[0m\n",
      "\u001b[34m[2021-01-05:05:38:31:INFO] Determined delimiter of CSV input is ','\u001b[0m\n",
      "\u001b[34m[2021-01-05:05:38:31:INFO] Sniff delimiter as ','\u001b[0m\n",
      "\u001b[34m[2021-01-05:05:38:31:INFO] Determined delimiter of CSV input is ','\u001b[0m\n",
      "\u001b[35m[2021-01-05:05:38:31:INFO] Sniff delimiter as ','\u001b[0m\n",
      "\u001b[35m[2021-01-05:05:38:31:INFO] Determined delimiter of CSV input is ','\u001b[0m\n",
      "\u001b[35m[2021-01-05:05:38:31:INFO] Sniff delimiter as ','\u001b[0m\n",
      "\u001b[35m[2021-01-05:05:38:31:INFO] Determined delimiter of CSV input is ','\u001b[0m\n",
      "\u001b[35m[2021-01-05:05:38:31:INFO] Sniff delimiter as ','\u001b[0m\n",
      "\u001b[35m[2021-01-05:05:38:31:INFO] Determined delimiter of CSV input is ','\u001b[0m\n",
      "\u001b[34m[2021-01-05:05:38:32:INFO] Sniff delimiter as ','\u001b[0m\n",
      "\u001b[34m[2021-01-05:05:38:32:INFO] Determined delimiter of CSV input is ','\u001b[0m\n",
      "\u001b[35m[2021-01-05:05:38:32:INFO] Sniff delimiter as ','\u001b[0m\n",
      "\u001b[35m[2021-01-05:05:38:32:INFO] Determined delimiter of CSV input is ','\u001b[0m\n",
      "\u001b[34m[2021-01-05:05:38:33:INFO] Sniff delimiter as ','\u001b[0m\n",
      "\u001b[34m[2021-01-05:05:38:33:INFO] Determined delimiter of CSV input is ','\u001b[0m\n",
      "\u001b[35m[2021-01-05:05:38:33:INFO] Sniff delimiter as ','\u001b[0m\n",
      "\u001b[35m[2021-01-05:05:38:33:INFO] Determined delimiter of CSV input is ','\u001b[0m\n",
      "\u001b[34m[2021-01-05:05:38:33:INFO] Sniff delimiter as ','\u001b[0m\n",
      "\u001b[35m[2021-01-05:05:38:33:INFO] Sniff delimiter as ','\u001b[0m\n",
      "\u001b[34m[2021-01-05:05:38:33:INFO] Determined delimiter of CSV input is ','\u001b[0m\n",
      "\u001b[35m[2021-01-05:05:38:33:INFO] Determined delimiter of CSV input is ','\u001b[0m\n",
      "\u001b[34m[2021-01-05:05:38:35:INFO] Sniff delimiter as ','\u001b[0m\n",
      "\u001b[34m[2021-01-05:05:38:35:INFO] Determined delimiter of CSV input is ','\u001b[0m\n",
      "\u001b[34m[2021-01-05:05:38:35:INFO] Sniff delimiter as ','\u001b[0m\n",
      "\u001b[34m[2021-01-05:05:38:35:INFO] Determined delimiter of CSV input is ','\u001b[0m\n",
      "\u001b[34m[2021-01-05:05:38:35:INFO] Sniff delimiter as ','\u001b[0m\n",
      "\u001b[34m[2021-01-05:05:38:35:INFO] Determined delimiter of CSV input is ','\u001b[0m\n",
      "\u001b[34m[2021-01-05:05:38:35:INFO] Sniff delimiter as ','\u001b[0m\n",
      "\u001b[34m[2021-01-05:05:38:35:INFO] Determined delimiter of CSV input is ','\u001b[0m\n",
      "\u001b[35m[2021-01-05:05:38:35:INFO] Sniff delimiter as ','\u001b[0m\n",
      "\u001b[35m[2021-01-05:05:38:35:INFO] Determined delimiter of CSV input is ','\u001b[0m\n",
      "\u001b[35m[2021-01-05:05:38:35:INFO] Sniff delimiter as ','\u001b[0m\n",
      "\u001b[35m[2021-01-05:05:38:35:INFO] Determined delimiter of CSV input is ','\u001b[0m\n",
      "\u001b[35m[2021-01-05:05:38:35:INFO] Sniff delimiter as ','\u001b[0m\n",
      "\u001b[35m[2021-01-05:05:38:35:INFO] Determined delimiter of CSV input is ','\u001b[0m\n",
      "\u001b[35m[2021-01-05:05:38:35:INFO] Sniff delimiter as ','\u001b[0m\n",
      "\u001b[35m[2021-01-05:05:38:35:INFO] Determined delimiter of CSV input is ','\u001b[0m\n",
      "\u001b[34m[2021-01-05:05:38:37:INFO] Sniff delimiter as ','\u001b[0m\n",
      "\u001b[34m[2021-01-05:05:38:37:INFO] Determined delimiter of CSV input is ','\u001b[0m\n",
      "\u001b[34m[2021-01-05:05:38:37:INFO] Sniff delimiter as ','\u001b[0m\n",
      "\u001b[34m[2021-01-05:05:38:37:INFO] Determined delimiter of CSV input is ','\u001b[0m\n",
      "\u001b[34m[2021-01-05:05:38:37:INFO] Sniff delimiter as ','\u001b[0m\n",
      "\u001b[34m[2021-01-05:05:38:37:INFO] Determined delimiter of CSV input is ','\u001b[0m\n",
      "\u001b[35m[2021-01-05:05:38:37:INFO] Sniff delimiter as ','\u001b[0m\n",
      "\u001b[35m[2021-01-05:05:38:37:INFO] Determined delimiter of CSV input is ','\u001b[0m\n",
      "\u001b[35m[2021-01-05:05:38:37:INFO] Sniff delimiter as ','\u001b[0m\n",
      "\u001b[35m[2021-01-05:05:38:37:INFO] Determined delimiter of CSV input is ','\u001b[0m\n",
      "\u001b[35m[2021-01-05:05:38:37:INFO] Sniff delimiter as ','\u001b[0m\n",
      "\u001b[35m[2021-01-05:05:38:37:INFO] Determined delimiter of CSV input is ','\u001b[0m\n",
      "\u001b[34m[2021-01-05:05:38:38:INFO] Sniff delimiter as ','\u001b[0m\n",
      "\u001b[34m[2021-01-05:05:38:38:INFO] Determined delimiter of CSV input is ','\u001b[0m\n",
      "\u001b[35m[2021-01-05:05:38:38:INFO] Sniff delimiter as ','\u001b[0m\n",
      "\u001b[35m[2021-01-05:05:38:38:INFO] Determined delimiter of CSV input is ','\u001b[0m\n",
      "\u001b[34m[2021-01-05:05:38:39:INFO] Sniff delimiter as ','\u001b[0m\n",
      "\u001b[34m[2021-01-05:05:38:39:INFO] Determined delimiter of CSV input is ','\u001b[0m\n",
      "\u001b[34m[2021-01-05:05:38:39:INFO] Sniff delimiter as ','\u001b[0m\n",
      "\u001b[34m[2021-01-05:05:38:39:INFO] Determined delimiter of CSV input is ','\u001b[0m\n",
      "\u001b[34m[2021-01-05:05:38:40:INFO] Sniff delimiter as ','\u001b[0m\n",
      "\u001b[34m[2021-01-05:05:38:40:INFO] Determined delimiter of CSV input is ','\u001b[0m\n",
      "\u001b[34m[2021-01-05:05:38:40:INFO] Sniff delimiter as ','\u001b[0m\n",
      "\u001b[34m[2021-01-05:05:38:40:INFO] Determined delimiter of CSV input is ','\u001b[0m\n",
      "\u001b[35m[2021-01-05:05:38:39:INFO] Sniff delimiter as ','\u001b[0m\n",
      "\u001b[35m[2021-01-05:05:38:39:INFO] Determined delimiter of CSV input is ','\u001b[0m\n",
      "\u001b[35m[2021-01-05:05:38:39:INFO] Sniff delimiter as ','\u001b[0m\n",
      "\u001b[35m[2021-01-05:05:38:39:INFO] Determined delimiter of CSV input is ','\u001b[0m\n",
      "\u001b[35m[2021-01-05:05:38:40:INFO] Sniff delimiter as ','\u001b[0m\n",
      "\u001b[35m[2021-01-05:05:38:40:INFO] Determined delimiter of CSV input is ','\u001b[0m\n",
      "\u001b[35m[2021-01-05:05:38:40:INFO] Sniff delimiter as ','\u001b[0m\n",
      "\u001b[35m[2021-01-05:05:38:40:INFO] Determined delimiter of CSV input is ','\u001b[0m\n",
      "\u001b[34m[2021-01-05:05:38:42:INFO] Sniff delimiter as ','\u001b[0m\n",
      "\u001b[34m[2021-01-05:05:38:42:INFO] Determined delimiter of CSV input is ','\u001b[0m\n",
      "\u001b[34m[2021-01-05:05:38:42:INFO] Sniff delimiter as ','\u001b[0m\n",
      "\u001b[34m[2021-01-05:05:38:42:INFO] Determined delimiter of CSV input is ','\u001b[0m\n",
      "\u001b[34m[2021-01-05:05:38:42:INFO] Sniff delimiter as ','\u001b[0m\n",
      "\u001b[34m[2021-01-05:05:38:42:INFO] Determined delimiter of CSV input is ','\u001b[0m\n",
      "\u001b[35m[2021-01-05:05:38:42:INFO] Sniff delimiter as ','\u001b[0m\n",
      "\u001b[35m[2021-01-05:05:38:42:INFO] Determined delimiter of CSV input is ','\u001b[0m\n",
      "\u001b[35m[2021-01-05:05:38:42:INFO] Sniff delimiter as ','\u001b[0m\n",
      "\u001b[35m[2021-01-05:05:38:42:INFO] Determined delimiter of CSV input is ','\u001b[0m\n",
      "\u001b[35m[2021-01-05:05:38:42:INFO] Sniff delimiter as ','\u001b[0m\n",
      "\u001b[35m[2021-01-05:05:38:42:INFO] Determined delimiter of CSV input is ','\u001b[0m\n",
      "\u001b[34m[2021-01-05:05:38:43:INFO] Sniff delimiter as ','\u001b[0m\n",
      "\u001b[34m[2021-01-05:05:38:43:INFO] Determined delimiter of CSV input is ','\u001b[0m\n",
      "\u001b[35m[2021-01-05:05:38:43:INFO] Sniff delimiter as ','\u001b[0m\n",
      "\u001b[35m[2021-01-05:05:38:43:INFO] Determined delimiter of CSV input is ','\u001b[0m\n",
      "\u001b[34m[2021-01-05:05:38:44:INFO] Sniff delimiter as ','\u001b[0m\n",
      "\u001b[34m[2021-01-05:05:38:44:INFO] Determined delimiter of CSV input is ','\u001b[0m\n",
      "\u001b[35m[2021-01-05:05:38:44:INFO] Sniff delimiter as ','\u001b[0m\n",
      "\u001b[35m[2021-01-05:05:38:44:INFO] Determined delimiter of CSV input is ','\u001b[0m\n"
     ]
    },
    {
     "name": "stdout",
     "output_type": "stream",
     "text": [
      "\u001b[34m[2021-01-05:05:38:45:INFO] Sniff delimiter as ','\u001b[0m\n",
      "\u001b[34m[2021-01-05:05:38:45:INFO] Determined delimiter of CSV input is ','\u001b[0m\n",
      "\u001b[34m[2021-01-05:05:38:45:INFO] Sniff delimiter as ','\u001b[0m\n",
      "\u001b[34m[2021-01-05:05:38:45:INFO] Determined delimiter of CSV input is ','\u001b[0m\n",
      "\u001b[35m[2021-01-05:05:38:45:INFO] Sniff delimiter as ','\u001b[0m\n",
      "\u001b[35m[2021-01-05:05:38:45:INFO] Determined delimiter of CSV input is ','\u001b[0m\n",
      "\u001b[35m[2021-01-05:05:38:45:INFO] Sniff delimiter as ','\u001b[0m\n",
      "\u001b[35m[2021-01-05:05:38:45:INFO] Determined delimiter of CSV input is ','\u001b[0m\n",
      "\u001b[34m[2021-01-05:05:38:47:INFO] Sniff delimiter as ','\u001b[0m\n",
      "\u001b[34m[2021-01-05:05:38:47:INFO] Determined delimiter of CSV input is ','\u001b[0m\n",
      "\u001b[34m[2021-01-05:05:38:47:INFO] Sniff delimiter as ','\u001b[0m\n",
      "\u001b[34m[2021-01-05:05:38:47:INFO] Determined delimiter of CSV input is ','\u001b[0m\n",
      "\u001b[34m[2021-01-05:05:38:47:INFO] Sniff delimiter as ','\u001b[0m\n",
      "\u001b[34m[2021-01-05:05:38:47:INFO] Determined delimiter of CSV input is ','\u001b[0m\n",
      "\u001b[35m[2021-01-05:05:38:47:INFO] Sniff delimiter as ','\u001b[0m\n",
      "\u001b[35m[2021-01-05:05:38:47:INFO] Determined delimiter of CSV input is ','\u001b[0m\n",
      "\u001b[35m[2021-01-05:05:38:47:INFO] Sniff delimiter as ','\u001b[0m\n",
      "\u001b[35m[2021-01-05:05:38:47:INFO] Determined delimiter of CSV input is ','\u001b[0m\n",
      "\u001b[35m[2021-01-05:05:38:47:INFO] Sniff delimiter as ','\u001b[0m\n",
      "\u001b[35m[2021-01-05:05:38:47:INFO] Determined delimiter of CSV input is ','\u001b[0m\n",
      "\u001b[34m[2021-01-05:05:38:48:INFO] Sniff delimiter as ','\u001b[0m\n",
      "\u001b[34m[2021-01-05:05:38:48:INFO] Determined delimiter of CSV input is ','\u001b[0m\n",
      "\u001b[35m[2021-01-05:05:38:48:INFO] Sniff delimiter as ','\u001b[0m\n",
      "\u001b[35m[2021-01-05:05:38:48:INFO] Determined delimiter of CSV input is ','\u001b[0m\n",
      "\u001b[34m[2021-01-05:05:38:49:INFO] Sniff delimiter as ','\u001b[0m\n",
      "\u001b[34m[2021-01-05:05:38:49:INFO] Determined delimiter of CSV input is ','\u001b[0m\n",
      "\u001b[34m[2021-01-05:05:38:49:INFO] Sniff delimiter as ','\u001b[0m\n",
      "\u001b[34m[2021-01-05:05:38:49:INFO] Determined delimiter of CSV input is ','\u001b[0m\n",
      "\u001b[35m[2021-01-05:05:38:49:INFO] Sniff delimiter as ','\u001b[0m\n",
      "\u001b[35m[2021-01-05:05:38:49:INFO] Determined delimiter of CSV input is ','\u001b[0m\n",
      "\u001b[35m[2021-01-05:05:38:49:INFO] Sniff delimiter as ','\u001b[0m\n",
      "\u001b[35m[2021-01-05:05:38:49:INFO] Determined delimiter of CSV input is ','\u001b[0m\n",
      "\u001b[34m[2021-01-05:05:38:50:INFO] Sniff delimiter as ','\u001b[0m\n",
      "\u001b[34m[2021-01-05:05:38:50:INFO] Determined delimiter of CSV input is ','\u001b[0m\n",
      "\u001b[34m[2021-01-05:05:38:50:INFO] Sniff delimiter as ','\u001b[0m\n",
      "\u001b[34m[2021-01-05:05:38:50:INFO] Determined delimiter of CSV input is ','\u001b[0m\n",
      "\u001b[35m[2021-01-05:05:38:50:INFO] Sniff delimiter as ','\u001b[0m\n",
      "\u001b[35m[2021-01-05:05:38:50:INFO] Determined delimiter of CSV input is ','\u001b[0m\n",
      "\u001b[35m[2021-01-05:05:38:50:INFO] Sniff delimiter as ','\u001b[0m\n",
      "\u001b[35m[2021-01-05:05:38:50:INFO] Determined delimiter of CSV input is ','\u001b[0m\n",
      "\u001b[34m[2021-01-05:05:38:51:INFO] Sniff delimiter as ','\u001b[0m\n",
      "\u001b[34m[2021-01-05:05:38:51:INFO] Determined delimiter of CSV input is ','\u001b[0m\n",
      "\u001b[35m[2021-01-05:05:38:51:INFO] Sniff delimiter as ','\u001b[0m\n",
      "\u001b[35m[2021-01-05:05:38:51:INFO] Determined delimiter of CSV input is ','\u001b[0m\n",
      "\n"
     ]
    }
   ],
   "source": [
    "xgb_transformer.wait()"
   ]
  },
  {
   "cell_type": "code",
   "execution_count": 35,
   "metadata": {},
   "outputs": [
    {
     "name": "stdout",
     "output_type": "stream",
     "text": [
      "Completed 256.0 KiB/369.5 KiB (2.7 MiB/s) with 1 file(s) remaining\r",
      "Completed 369.5 KiB/369.5 KiB (3.8 MiB/s) with 1 file(s) remaining\r",
      "download: s3://sagemaker-ap-south-1-878116372356/xgboost-2021-01-05-05-33-34-681/test.csv.out to data/sentiment_web_app/test.csv.out\r\n"
     ]
    }
   ],
   "source": [
    "# copy the file to data directory\n",
    "!aws s3 cp --recursive $xgb_transformer.output_path $data_dir"
   ]
  },
  {
   "cell_type": "code",
   "execution_count": 36,
   "metadata": {},
   "outputs": [],
   "source": [
    "prediction = pd.read_csv(os.path.join(data_dir, 'test.csv.out'), header=None)\n",
    "prediction = [round(num) for num in prediction.squeeze().values]"
   ]
  },
  {
   "cell_type": "code",
   "execution_count": 37,
   "metadata": {},
   "outputs": [
    {
     "data": {
      "text/plain": [
       "0.85188"
      ]
     },
     "execution_count": 37,
     "metadata": {},
     "output_type": "execute_result"
    }
   ],
   "source": [
    "from sklearn.metrics import accuracy_score\n",
    "accuracy_score(test_y, prediction)"
   ]
  },
  {
   "cell_type": "code",
   "execution_count": null,
   "metadata": {},
   "outputs": [],
   "source": []
  },
  {
   "cell_type": "markdown",
   "metadata": {},
   "source": [
    "##### Deploying the model."
   ]
  },
  {
   "cell_type": "code",
   "execution_count": 38,
   "metadata": {},
   "outputs": [
    {
     "name": "stderr",
     "output_type": "stream",
     "text": [
      "Parameter image will be renamed to image_uri in SageMaker Python SDK v2.\n",
      "Using already existing model: xgboost-2021-01-05-05-26-50-317\n"
     ]
    },
    {
     "name": "stdout",
     "output_type": "stream",
     "text": [
      "-------------!"
     ]
    }
   ],
   "source": [
    "xgb_predictor = xgb.deploy(initial_instance_count=1, instance_type = 'ml.m4.xlarge')"
   ]
  },
  {
   "cell_type": "markdown",
   "metadata": {},
   "source": [
    "test the model again."
   ]
  },
  {
   "cell_type": "code",
   "execution_count": 39,
   "metadata": {},
   "outputs": [],
   "source": [
    "from sagemaker.predictor import csv_serializer\n",
    "\n",
    "# We need to tell the endpoint what format the data we are sending is in so that SageMaker can perform the serialization.\n",
    "xgb_predictor.content_type = 'text/csv'\n",
    "xgb_predictor.serializer = csv_serializer"
   ]
  },
  {
   "cell_type": "code",
   "execution_count": 40,
   "metadata": {},
   "outputs": [],
   "source": [
    "def predict(data, rows=512):\n",
    "    split_array = np.array_split(data, int(data.shape[0] / float(rows) + 1))\n",
    "    predictions = ''\n",
    "    for array in split_array:\n",
    "        predictions = ','.join([predictions, xgb_predictor.predict(array).decode('utf-8')])\n",
    "    \n",
    "    return np.fromstring(predictions[1:], sep=',')"
   ]
  },
  {
   "cell_type": "code",
   "execution_count": 41,
   "metadata": {},
   "outputs": [],
   "source": [
    "test_X = pd.read_csv(os.path.join(data_dir, 'test.csv'), header=None).values\n",
    "\n",
    "predictions = predict(test_X)\n",
    "predictions = [round(num) for num in predictions]"
   ]
  },
  {
   "cell_type": "code",
   "execution_count": 42,
   "metadata": {},
   "outputs": [
    {
     "data": {
      "text/plain": [
       "0.85188"
      ]
     },
     "execution_count": 42,
     "metadata": {},
     "output_type": "execute_result"
    }
   ],
   "source": [
    "from sklearn.metrics import accuracy_score\n",
    "accuracy_score(test_y, predictions)"
   ]
  },
  {
   "cell_type": "code",
   "execution_count": null,
   "metadata": {},
   "outputs": [],
   "source": []
  },
  {
   "cell_type": "markdown",
   "metadata": {},
   "source": [
    "Cleaning Up"
   ]
  },
  {
   "cell_type": "code",
   "execution_count": 67,
   "metadata": {},
   "outputs": [],
   "source": [
    "xgb_predictor.delete_endpoint()"
   ]
  },
  {
   "cell_type": "markdown",
   "metadata": {},
   "source": [
    "###### Putting our model to work."
   ]
  },
  {
   "cell_type": "code",
   "execution_count": 70,
   "metadata": {},
   "outputs": [
    {
     "name": "stdout",
     "output_type": "stream",
     "text": [
      "{'on': 3105, 'distant': 1295, 'planet': 3289, 'is': 2360, 'saved': 3795, 'from': 1840, 'execution': 1566, 'by': 642, 'space': 4090, 'monk': 2889, 'he': 2056, 'few': 1700, 'fellow': 1691, 'and': 226, 'breaks': 571, 'out': 3141, 'of': 3083, 'the': 4426, 'prison': 3401, 'in': 2257, 'they': 4442, 'onto': 3111, 'enormous': 1490, 'that': 4424, 'star': 4150, 'this': 4457, 'massive': 2756, 'craft': 1028, 'only': 3110, 'three': 4469, 'people': 3221, 'presumably': 3380, 'because': 432, 'budget': 610, 'film': 1716, 'did': 1241, 'not': 3040, 'to': 4507, 'many': 2732, 'actors': 104, 'anyway': 261, 'cut': 1089, 'long': 2644, 'story': 4207, 'short': 3946, 'end': 1468, 'up': 4683, 'game': 1864, 'cat': 713, 'mouse': 2919, 'with': 4911, 'movie': 2926, 'curious': 1083, 'annoying': 249, 'generally': 1881, 'term': 4405, 'one': 3107, 'would': 4957, 'use': 4692, 'describe': 1194, 'frightening': 1839, 'dangerous': 1110, 'maybe': 2776, 'but': 636, 'giant': 1905, 'ship': 3934, 'are': 285, 'seriously': 3892, 'unconvincing': 4638, 'as': 311, 'such': 4268, 'important': 2247, 'roles': 3727, 'practically': 3362, 'size': 4012, 'city': 825, 'considering': 952, 'set': 3898, '50': 51, 'years': 4979, 'future': 1856, 'it': 2366, 'somewhat': 4068, 'huge': 2185, 'man': 2721, 'made': 2697, 'could': 1007, 'exist': 1569, 'never': 3001, 'mind': 2849, 'fact': 1621, 'used': 4693, 'for': 1784, 'relatively': 3600, 'mundane': 2938, 'task': 4368, 'despite': 1211, 'vast': 4716, 'crew': 1053, 'all': 187, 'have': 2052, 'tiny': 4500, 'rooms': 3736, 'room': 3735, 'consists': 955, 'what': 4858, 'appears': 278, 'be': 418, 'plastic': 3294, 'table': 4346, 'there': 4438, 'lot': 2661, 'fairly': 1631, 'well': 4843, 'acted': 98, 'works': 4945, 'an': 223, 'sci': 3815, 'fi': 1701, 'thriller': 4472, 'nothing': 3047, 'great': 1964, 'saw': 3798, 'when': 4862, 'just': 2437, 're': 3535, 'watched': 4813, 'again': 146, 'telling': 4396, 'possible': 3350, 'stories': 4205, 'about': 67, 'population': 3335, 'came': 656, 'work': 4940, 'early': 1400, 'my': 2951, 'were': 4848, 'part': 3193, 'parents': 3188, 'born': 544, 'big': 478, 'island': 2361, 'at': 331, 'time': 4495, 'setting': 3900, 'moved': 2922, 'over': 3148, 'year': 4978, 'ago': 154, 'after': 143, 'living': 2629, 'california': 650, '30': 42, 'was': 4805, 'surprised': 4313, 'see': 3855, 'former': 1800, 'growing': 1983, 'still': 4188, 'wild': 4885, 'closed': 854, 'ive': 2372, 'heard': 2062, 'who': 4871, 'kids': 2467, 'helps': 2082, 'image': 2233, 'those': 4460, 'kinds': 2478, 'memories': 2803, 'more': 2904, 'historical': 2119, 'than': 4420, 'romantic': 3733, 'plot': 3309, 'driven': 1365, 'leaves': 2556, 'me': 2778, 'head': 2057, 'read': 3543, 'review': 3676, 'like': 2599, 'some': 4061, 'dont': 1324, 'get': 1899, 'didnt': 1242, 'recall': 3562, 'had': 2003, 'starring': 4154, 'role': 3726, 'which': 4867, 'she': 3923, 'incredible': 2269, 'job': 2405, 'her': 2085, 'performances': 3229, 'jim': 2402, 'mystery': 2956, 'train': 4556, 'australian': 357, 'co': 867, 'russell': 3761, 'burning': 627, 'english': 1483, 'especially': 1520, 'someone': 4064, 'grow': 1982, 'forgotten': 1797, 'cameo': 657, 'moving': 2928, 'picture': 3269, 'show': 3953, 'narrator': 2967, 'missed': 2867, 'jason': 2383, 'scott': 3824, 'lee': 2559, 'non': 3027, 'speaking': 4095, 'workers': 4943, 'during': 1387, 'scene': 3809, 'find': 1726, 'director': 1264, 'writer': 4968, 'died': 1244, '2005': 35, 'two': 4620, 'other': 3135, 'excellent': 1555, 'foreign': 1790, 'films': 1721, 'mirror': 2861, 'experience': 1580, 'brazil': 568, 'them': 4432, 'japanese': 2382, 'same': 3778, 'period': 3236, 'africa': 141, 'latter': 2528, 'available': 361, 'sadly': 3769, 'doesnt': 1309, 'appear': 273, 'been': 438, 'shown': 3959, 'quite': 3495, 'while': 4868, 'another': 250, 'asian': 314, 'america': 212, 'thousand': 4465, 'pieces': 3273, 'gold': 1932, 'chinese': 796, 'involvement': 2347, 'building': 615, 'starred': 4153, 'chris': 806, 'cooper': 990, 'michael': 2829, 'paul': 3214, 'chan': 746, 'dennis': 1179, 'poor': 3328, 'robert': 3713, 'makes': 2716, 'flop': 1760, 'usually': 4700, 'pretty': 3384, 'good': 1937, 'horror': 2168, 'movies': 2927, 'failed': 1626, 'bad': 382, 'plays': 3301, 'known': 2492, 'de': 1131, 'century': 736, 'his': 2118, 'obsession': 3070, 'pain': 3170, 'pleasure': 3306, 'bringing': 586, 'upon': 4684, 'himself': 2111, 'watching': 4815, 'others': 3136, 'also': 199, 'so': 4046, 'confusing': 942, 'became': 431, 'confused': 941, 'going': 1931, 'purpose': 3474, 'young': 4989, 'lady': 2507, 'strange': 4211, 'lesbian': 2573, 'keep': 2449, 'herself': 2092, 'fascinated': 1657, 'money': 2888, 'finds': 1728, 'hes': 2093, 'killed': 2469, 'then': 4436, 'steps': 4177, 'tries': 4585, 'kill': 2468, 'reminded': 3619, 'him': 2110, 'wrong': 4973, 'or': 3124, 'whoever': 4872, 'above': 68, 'wall': 4781, 'terrible': 4407, 'am': 204, 'special': 4097, 'effects': 1431, 'fake': 1635, 'laughable': 2530, 'eyes': 1613, 'make': 2713, 'once': 3106, 'hit': 2122, 'move': 2921, 'nightmare': 3014, 'elm': 1447, 'st': 4137, 'using': 4698, 'these': 4441, 'pull': 3461, 'put': 3480, 'peoples': 3222, 'absolutely': 72, 'john': 2409, 'inspector': 2299, 'fame': 1642, 'old': 3100, 'tom': 4514, 'lives': 2628, 'village': 4743, 'start': 4156, 'second': 3846, 'world': 4946, 'war': 4792, 'bit': 488, 'has': 2043, 'yet': 4984, 'death': 1141, 'wife': 4884, 'son': 4070, 'serving': 3897, 'first': 1736, 'if': 2222, 'you': 4986, 'can': 665, 'imagine': 2238, 'retired': 3664, 'twice': 4613, 'youve': 4995, 'got': 1944, 'character': 758, 'heart': 2064, 'london': 2641, 'children': 792, 'advance': 127, 'william': 4887, 'played': 3297, 'effect': 1428, 'nick': 3012, 'robinson': 3716, 'boy': 557, 'need': 2987, 'care': 684, 'capital': 673, 'behind': 447, 'school': 3813, 'bed': 436, 'unable': 4631, 'problems': 3409, 'comes': 891, 'horrific': 2166, 'background': 380, 'mother': 2911, 'cannot': 670, 'mildly': 2840, 'slowly': 4032, 'warm': 4794, 'each': 1395, 'discovers': 1281, 'ability': 65, 'love': 2669, 'learns': 2553, 'accept': 80, 'caring': 691, 'bomb': 531, 'their': 4431, 'garden': 1872, 'joy': 2422, 'probably': 3407, 'ever': 1538, 'birthday': 487, 'party': 3200, 'thrown': 4481, 'give': 1912, 'away': 369, 'ending': 1471, 'much': 2934, 'struggle': 4234, 'pair': 3176, 'begin': 442, 'new': 3003, 'life': 2592, 'following': 1774, 'line': 2610, 'where': 4864, 'meets': 2795, 'develop': 1222, 'late': 2523, 'jon': 2416, 'spanish': 4092, 'clark': 832, 'started': 4157, 'mel': 2796, 'without': 4913, 'face': 1616, 'points': 3319, 'interest': 2323, 'appearance': 274, 'know': 2489, 'sings': 3997, 'does': 1308, 'sing': 3992, 'featuring': 1681, 'title': 4504, 'midnight': 2834, 'based': 404, 'classic': 835, 'childrens': 793, 'novel': 3052, 'ill': 2228, 'say': 3799, 'thing': 4450, 'nelson': 2997, 'even': 1533, 'painfully': 3172, 'inept': 2281, 'musical': 2947, 'theres': 4440, 'yes': 4982, 'chemistry': 782, 'between': 475, 'famous': 1647, 'duo': 1386, 'material': 2766, 'paper': 3183, 'thin': 4449, 'score': 3822, 'existent': 1572, 'couple': 1016, 'catchy': 717, 'tunes': 4603, 'circumstances': 822, 'unbelievable': 4634, 'fantasy': 1652, 'truth': 4599, 'tell': 4395, 'own': 3158, 'real': 3547, 'husband': 2204, 'gene': 1879, 'raymond': 3534, 'through': 4477, 'nonetheless': 3029, 'better': 472, 'sorry': 4076, 'next': 3007, 'fan': 1648, 'bottom': 551, 'embarrassing': 1454, 'number': 3060, 'come': 886, 'blank': 501, 'faced': 1617, 'most': 2909, 'ludicrous': 2685, 'situations': 4009, 'wonder': 4926, 'broadway': 592, 'surely': 4309, 'must': 2950, 'wit': 4908, 'style': 4249, 'evident': 1547, 'weak': 4824, 'mgm': 2828, 'production': 3419, 'edward': 1426, 'unfunny': 4655, 'none': 3028, 'supporting': 4304, 'players': 3299, 'any': 256, 'into': 2332, 'mess': 2818, 'its': 2370, 'amateur': 206, 'night': 3013, 'studio': 4240, 'among': 217, 'cast': 710, 'clumsy': 866, 'hart': 2041, 'cant': 671, 'recommend': 3571, 'fans': 1650, 'close': 853, 'ups': 4686, 'beauty': 430, 'jaw': 2384, 'hair': 2005, 'music': 2946, 'safety': 3772, 'words': 4938, 'best': 469, 'cheesy': 781, 'seen': 3865, 'worst': 4952, 'ridiculous': 3693, 'acting': 99, 'script': 3834, 'completely': 922, 'showdown': 3955, 'cop': 991, 'how': 2181, 'worked': 4941, 'killer': 2470, 'damn': 1100, 'terribly': 4408, 'written': 4972, 'clothes': 860, 'funny': 1852, 'equal': 1509, 'lots': 2662, 'men': 2805, 'wear': 4830, 'off': 3084, 'actually': 109, 'wore': 4939, 'trash': 4565, 'almost': 193, 'every': 1539, 'trashy': 4566, 'taking': 4352, 'aside': 315, 'truly': 4597, 'whose': 4877, 'charm': 767, 'look': 2646, 'back': 378, 'disaster': 1276, '80s': 59, 'laugh': 2529, 'everything': 1544, 'very': 4723, 'dire': 1257, 'general': 1880, 'always': 203, 'princess': 3397, 'margaret': 2735, 'may': 2775, 'beautiful': 428, 'woman': 4921, 'here': 2086, 'productions': 3420, 'weakest': 4825, 'point': 3316, 'actress': 105, 'across': 96, 'appeared': 276, 'couldnt': 1008, 'stretch': 4221, 'birds': 485, 'looked': 2647, 'dragged': 1343, 'bush': 632, 'actor': 103, 'playing': 3300, 'duke': 1383, 'prepared': 3371, 'prince': 3396, 'charles': 764, 'flaw': 1749, 'ridden': 3691, 'cliché': 844, 'load': 2631, 'rubbish': 3748, 'think': 4452, 'daily': 1097, 'mail': 2706, 'deserve': 1199, 'free': 1827, 'dvd': 1391, 'copy': 994, 'christmas': 810, 'description': 1197, 'corny': 997, 'utterly': 4702, 'stupid': 4247, 'worthless': 4954, 'cheap': 774, 'lame': 2510, 'itll': 2369, 'why': 4878, 'dumb': 1385, 'wasted': 4809, 'months': 2897, 'spend': 4105, 'im': 2232, 'guessing': 1991, 'no': 3020, 'dollars': 1315, 'hysterical': 2208, 'watch': 4811, 'science': 3816, 'theater': 4427, 'giving': 1915, 'advice': 133, 'spare': 4093, 'yourself': 4993, 'your': 4991, 'repeat': 3630, 'whether': 4866, 'should': 3951, 'turn': 4605, 'purple': 3473, 'boredom': 542, 'guest': 1992, 'might': 2835, 'admire': 121, 'said': 3774, 'before': 440, '12': 3, 'bought': 552, 'course': 1019, 'cameras': 660, 'youll': 4988, 'slightly': 4029, 'entertaining': 1499, 'home': 2142, 'video': 4733, 'piece': 3272, 'absolute': 71, 'crap': 1031, 'god': 1926, 'awful': 372, 'oliver': 3102, 'stone': 4197, 'wanted': 4789, 'experiment': 1583, 'something': 4066, 'pictures': 3270, 'really': 3556, 'whole': 4873, 'natural': 2973, 'killers': 2471, 'seems': 3864, 'clever': 841, 'complete': 921, 'unfortunately': 4654, 'turns': 4609, 'itself': 2371, 'please': 3304, 'mr': 2929, 'want': 4788, 'tv': 4610, 'shows': 3960, 'violence': 4747, 'high': 2100, 'avoid': 363, 'doing': 1312, 'cleverly': 842, 'media': 2789, 'ways': 4822, 'true': 4596, 'forgot': 1796, 'us': 4690, 'sitting': 4007, 'wow': 4962, 'negative': 2991, 'will': 4886, 'try': 4600, 'tone': 4517, 'down': 1335, 'lets': 2580, 'wants': 4791, 'chuck': 812, 'main': 2707, 'fight': 1707, 'rest': 3657, 'hang': 2022, 'junk': 2436, 'hope': 2155, 'reputation': 3640, 'carry': 700, 'entire': 1502, 'awesome': 371, 'martial': 2747, 'artist': 307, 'we': 4823, 'walker': 4778, 'texas': 4418, 'trick': 4582, 'combine': 884, 'both': 547, 'qualities': 3483, 'disappointing': 1274, 'stay': 4166, 'nice': 3008, 'collection': 874, 'added': 116, 'exact': 1550, 'splatter': 4118, 'university': 4667, 'thought': 4462, 'scare': 3803, 'audio': 354, 'quality': 3484, 'shot': 3949, 'areas': 287, 'improved': 2255, '10': 0, 'stars': 4155, 'ideal': 2214, 'looking': 2648, 'fun': 1848, 'fine': 1729, 'casting': 711, 'dentist': 1180, 'patients': 3212, 'beginning': 443, 'sees': 3866, 'goes': 1930, 'crazy': 1035, 'takes': 4351, 'revenge': 3675, 'although': 201, 'tongue': 4518, 'laid': 2508, 'outside': 3146, 'red': 3576, 'morning': 2906, 'torture': 4529, 'scenes': 3811, 'done': 1322, 'though': 4461, 'slow': 4031, 'heavy': 2070, 'parts': 3199, 'sometimes': 4067, 'boring': 543, 'professional': 3421, 'police': 3322, 'officers': 3093, 'displayed': 1292, 'television': 4394, 'reality': 3551, 'actual': 108, 'reasonable': 3558, 'leads': 2548, 'cause': 723, 'involved': 2346, 'stop': 4201, 'pat': 3208, 'ones': 3108, 'able': 66, 'officer': 3092, 'went': 4847, 'someones': 4065, 'wasnt': 4807, 'places': 3284, 'passed': 3202, 'report': 3635, 'radio': 3504, 'existence': 1571, 'unless': 4669, 'person': 3238, 'original': 3129, 'hand': 2015, 'reading': 3544, 'computer': 927, 'enough': 1491, 'necessarily': 2983, 'mean': 2779, 'since': 3990, 'havent': 2053, 'trouble': 4592, 'unwatchable': 4682, 'remake': 3612, 'road': 3709, 'warrior': 4802, 'follows': 1775, 'worse': 4951, 'far': 1653, 'dialog': 1232, 'dubbing': 1380, 'pacing': 3163, 'action': 100, 'sequences': 3888, 'list': 2617, 'italy': 2368, 'literally': 2622, 'dozens': 1339, 'rip': 3700, 'contest': 967, 'mood': 2898, 'bleak': 503, 'miserable': 2863, 'bore': 540, 'half': 2007, 'chase': 769, 'sequence': 3887, 'towards': 4540, 'cool': 989, 'holding': 2130, 'else': 1448, 'post': 3352, 'go': 1924, 'track': 4544, 'fall': 1637, 'york': 4985, 'escape': 1517, 'instead': 2307, 'theyre': 4445, 'enjoyable': 1485, 'superb': 4296, 'self': 3869, 'contained': 963, 'anything': 260, 'pack': 3165, 'club': 863, 'choice': 797, 'law': 2538, 'packed': 3166, 'our': 3139, 'guys': 2001, 'add': 115, 'winning': 4898, 'dialogue': 1234, 'repeatedly': 3632, 'appreciation': 281, 'include': 2261, 'billy': 482, 'british': 589, 'ben': 463, 'ad': 110, 'earth': 1403, 'black': 493, 'comedian': 887, 'gets': 1900, 'truck': 4595, 'heaven': 2068, 'body': 527, 'white': 4870, 'guy': 2000, 'things': 4451, 'laughs': 2534, 'youre': 4992, 'rock': 3720, 'animated': 241, 'comedy': 890, 'way': 4820, 'times': 4497, 'loud': 2664, 'definitely': 1162, 'wont': 4932, 'rolling': 3730, 'floor': 1759, 'laughing': 2533, 'result': 3660, 'bunch': 623, 'stuff': 4243, 'reel': 3581, 'sense': 3877, 'whatsoever': 4861, 'seem': 3861, 'friends': 1837, 'little': 2624, 'amount': 219, 'together': 4511, 'being': 448, 'plenty': 3307, 'named': 2961, 'richard': 3686, 'too': 4522, 'root': 3737, 'scary': 3807, 'less': 2575, 'happen': 2026, 'oh': 3096, 'least': 2554, 'mst3k': 2932, 'version': 4720, 'hilarious': 2106, 'horrid': 2165, 'deserves': 1201, 'write': 4967, '25': 40, 'wilson': 4891, 'portrayed': 3342, 'agree': 155, 'blake': 498, 'anger': 235, 'control': 977, 'superbly': 4297, 'chilling': 794, 'tremendous': 4579, '2000': 30, 'rank': 3518, 'top': 4525, '100': 1, 'friend': 1835, 'deals': 1137, 'criticism': 1063, 'narration': 2965, 'million': 2847, 'behave': 445, 'losers': 2656, 'comments': 901, 'child': 789, 'however': 2183, 'older': 3101, 'suck': 4269, 'soundtrack': 4085, 'cutting': 1092, 'simply': 3986, 'talking': 4360, 'call': 651, 'spoilers': 4124, 'ahead': 159, 'necessary': 2984, 'insult': 2309, 'intelligence': 2313, 'happening': 2028, 'includes': 2263, 'evil': 1548, 'un': 4630, 'supposed': 4306, 'believe': 454, 'mark': 2739, 'form': 1798, 'hell': 2077, 'intended': 2315, 'christ': 807, 'merely': 2815, 'service': 3896, 'anybody': 257, 'considered': 951, 'christian': 808, 'besides': 468, 'saying': 3800, 'matter': 2769, 'thus': 4486, 'rating': 3529, 'anime': 243, 'series': 3890, 'totally': 4532, 'loved': 2670, 'day': 1129, 'remains': 3611, 'favorite': 1671, 'product': 3418, 'mainly': 2708, 'starting': 4158, 'parody': 3192, '1970s': 17, 'sports': 4130, 'drama': 1346, 'picks': 3268, 'serious': 3891, 'toward': 4539, 'episode': 1507, 'forced': 1787, 'father': 1666, 'initial': 2290, 'encounter': 1466, 'race': 3499, 'humanity': 2189, 'fathers': 1667, 'become': 433, 'combat': 882, 'pilot': 3276, 'lack': 2502, 'confidence': 938, 'proves': 3447, 'doubts': 1333, 'chosen': 805, 'coach': 868, 'faith': 1633, 'personal': 3240, 'mission': 2870, 'succeeds': 4264, 'becoming': 435, 'survivor': 4324, 'battle': 414, 'characters': 760, 'russian': 3762, 'assigned': 325, 'serve': 3893, 'belong': 459, 'smith': 4038, 'childhood': 790, 'live': 2625, 'normal': 3033, 'acts': 107, 'ages': 152, 'normally': 3034, 'age': 148, 'left': 2561, '18': 10, 'mid': 2832, 'robot': 3717, 'animation': 242, 'chance': 747, '70s': 56, 'brings': 587, 'quirky': 3493, 'western': 4853, 'kung': 2498, 'fu': 1844, 'flick': 1754, 'around': 297, 'treasure': 4571, 'hunt': 2198, 'brothers': 599, 'italian': 2367, 'company': 910, 'humorous': 2193, 'storytelling': 4209, 'tame': 4363, 'extra': 1606, 'campy': 664, 'moments': 2887, 'served': 3894, 'van': 4713, 'obnoxious': 3067, 'bible': 477, 'psycho': 3457, 'obscure': 3068, 'european': 1530, 'genre': 1888, 'wanna': 4786, 'witty': 4917, 'sound': 4081, 'various': 4715, 'events': 1536, 'jump': 2429, 'falls': 1640, 'fare': 1655, 'square': 4136, 'turkey': 4604, 'territory': 4411, 'screen': 3829, 'charisma': 762, 'expect': 1575, 'final': 1722, '2004': 34, 'river': 3707, 'placed': 3283, 'recent': 3566, 'festival': 1697, 'expected': 1577, 'do': 1302, 'box': 555, 'office': 3091, 'common': 906, 'season': 3843, 'families': 1644, 'intriguing': 2335, 'play': 3296, 'vision': 4754, 'creativity': 1042, 'helped': 2080, 'effective': 1429, 'lead': 2545, 'express': 1600, 'wide': 4880, 'range': 3516, 'emotions': 1461, 'required': 3641, 'performing': 3233, 'portraying': 3343, 'younger': 4990, 'sister': 4001, 'projects': 3428, 'perhaps': 3235, 'genres': 1889, 'local': 2634, 'camera': 659, 'shots': 3950, 'scenery': 3810, 'breathtaking': 574, 'feel': 1684, 'lesser': 2576, 'effort': 1432, 'different': 1248, 'terms': 4406, 'writers': 4969, 'further': 1853, 'certainly': 738, 'myself': 2953, 'having': 2054, 'humor': 2192, 'greatest': 1966, 'nor': 3032, 'garbage': 1870, 'doubt': 1332, 'banned': 395, 'due': 1382, 'fears': 1677, 'conservative': 948, 'reason': 3557, 'called': 652, 'knew': 2486, 'offensive': 3086, 'taste': 4369, 'shooting': 3943, 'editing': 1421, 'otherwise': 3137, 'dull': 1384, 'strong': 4229, 'opening': 3114, 'wonderful': 4928, 'design': 1202, 'premise': 3370, 'meaning': 2780, 'symbolism': 4341, 'consistently': 954, 'aspects': 322, 'visual': 4757, 'challenge': 743, '40': 48, 'minutes': 2859, 'equally': 1510, 'amusing': 221, 'bar': 396, 'conversation': 980, 'country': 1014, 'human': 2188, 'condition': 937, 'starts': 4159, 'lies': 2591, 'sure': 4308, 'enjoyment': 1488, 'mention': 2810, 'nicely': 3009, 'misery': 2865, 'ultimately': 4628, 'angry': 238, 'personally': 3243, 'endearing': 1469, 'pathetic': 3210, 'national': 2970, 'soviet': 4089, 'yeah': 4977, 'mediocre': 2791, 'subject': 4253, 'intentions': 2321, 'filmmakers': 1720, 'green': 1971, 'easily': 1406, 'turned': 4606, 'la': 2500, 'phony': 3256, 'hard': 2033, 'take': 4349, 'constantly': 958, 'los': 2653, 'angeles': 233, 'agents': 151, 'ie': 2221, 'blonde': 511, 'success': 4265, 'willing': 4889, 'attitude': 346, 'opportunity': 3121, 'church': 813, 'teaching': 4377, 'nation': 2969, 'forget': 1793, 'past': 3207, 'particularly': 3195, 'turning': 4608, 'ten': 4399, 'order': 3126, 'seeing': 3857, 'initially': 2291, 'sudden': 4272, 'loose': 2650, 'change': 749, 'obsessed': 3069, 'taxi': 4371, 'driver': 1366, 'villains': 4745, 'noble': 3021, 'attempt': 340, 'reveals': 3673, 'recognize': 3569, 'psychotic': 3459, 'paranoia': 3186, 'leader': 2546, 'interested': 2324, 'girlfriend': 1910, 'whos': 4876, 'lacks': 2505, 'development': 1225, 'walking': 4779, 'random': 3514, 'forces': 1788, 'draw': 1349, 'problem': 3408, 'concerns': 934, 'obviously': 3072, 'later': 2525, 'breaking': 570, 'constant': 957, 'looks': 2649, 'personality': 3242, 'accepted': 82, 'twenty': 4612, 'thirty': 4456, 'happens': 2029, 'seek': 3858, 'attention': 345, 'racism': 3502, 'credibility': 1047, 'aka': 168, 'case': 707, 'follow': 1772, 'giallo': 1904, 'girls': 1911, 'sharp': 3922, 'gore': 1941, 'heck': 2071, 'exploitation': 1592, 'group': 1980, 'favorites': 1672, 'front': 1841, 'aforementioned': 139, 'adding': 117, 'touches': 4535, 'creating': 1039, 'host': 2173, 'george': 1893, 'talent': 4354, 'deliver': 1169, 'bet': 470, 'levels': 2585, 'thrilling': 4474, 'murder': 2939, 'tense': 4403, 'violent': 4748, 'suspenseful': 4331, 'knows': 2493, 'approach': 282, 'example': 1553, 'direct': 1258, 'bird': 484, 'break': 569, 'door': 1328, 'minor': 2857, 'arent': 288, 'murders': 2943, 'romance': 3732, 'asleep': 320, 'pop': 3330, 'nowhere': 3056, 'right': 3696, 'twists': 4619, 'bizarre': 492, 'lost': 2660, 'storyline': 4208, 'spite': 4117, 'low': 2676, 'worth': 4953, 'engaging': 1481, 'chaplin': 756, 'class': 833, 'represented': 3638, 'feels': 1687, 'decide': 1148, 'portrayal': 3341, 'shy': 3962, 'porn': 3336, 'hidden': 2096, 'bedroom': 437, 'creates': 1038, 'offering': 3089, 'dramatic': 1348, 'until': 4680, 'dolph': 1317, 'bored': 541, 'taken': 4350, 'history': 2121, 'account': 89, 'redeeming': 3577, 'authentic': 358, 'pass': 3201, 'gothic': 1945, 'appalling': 268, 'horrible': 2163, 'props': 3439, 'okay': 3099, 'gave': 1875, 'painful': 3171, 'endure': 1475, 'nervous': 2999, 'swedish': 4335, 'subtitles': 4259, 'thoroughly': 4459, 'enjoyed': 1486, 'minute': 2858, 'unnecessary': 4672, 'capable': 672, 'overwhelming': 3157, 'images': 2235, 'animal': 239, 'lovers': 2673, 'brief': 579, 'seconds': 3848, 'somewhere': 4069, 'traditional': 4550, 'versus': 4722, 'tragedy': 4551, 'fresh': 1833, 'angle': 236, 'flaws': 1752, 'features': 1680, 'liked': 2600, 'managed': 2723, 'multiple': 2936, 'concern': 931, 'gem': 1877, 'listen': 2619, 'count': 1010, 'disney': 1289, 'commercial': 902, 'ii': 2226, 'disneys': 1290, 'ruin': 3750, 'classics': 837, 'thats': 4425, 'concept': 930, 'several': 3905, 'names': 2963, 'lines': 2612, 'songs': 4072, 'abysmal': 76, 'now': 3054, 'atrocious': 335, 'simplistic': 3985, 'plus': 3311, 'side': 3965, 'took': 4523, 'decent': 1147, 'usual': 4699, 'cute': 1090, 'favor': 1670, 'waste': 4808, 'return': 3665, 'jack': 2373, 'colorful': 878, 'dozen': 1338, 'sad': 3767, 'propaganda': 3435, 'attractive': 351, 'barely': 399, 'wrote': 4974, 'everyone': 1542, 'yellow': 4981, 'covers': 1024, 'author': 359, 'inspiration': 2300, 'sea': 3838, 'wolf': 4920, 'cabin': 643, 'dog': 1310, 'capture': 676, 'spirit': 4113, 'adventure': 130, 'enjoy': 1484, 'third': 4455, 'dealt': 1138, 'folks': 1771, 'rising': 3703, 'threat': 4467, 'jobs': 2406, 'puts': 3481, 'horse': 2170, 'presented': 3376, 'kind': 2476, 'present': 3374, 'conflict': 939, 'japan': 2381, 'including': 2264, 'usa': 4691, 'caused': 724, 'west': 4852, 'factor': 1622, 'relations': 3596, 'generations': 1884, 'crying': 1074, 'independent': 2272, 'gotten': 1947, 'james': 2378, 'cagney': 646, 'tracy': 4546, 'making': 2718, 'captain': 674, 'leonard': 2572, 'tradition': 4549, 'eventually': 1537, 'gone': 1935, 'crowd': 1067, 'susan': 4326, 'wish': 4904, 'wed': 4835, 'survived': 4322, 'dying': 1393, 'met': 2822, 'married': 2744, 'leading': 2547, 'virginia': 4750, 'small': 4033, '1973': 19, 'view': 4736, 'sequels': 3886, 'nasty': 2968, 'credit': 1049, 'tales': 4357, 'trio': 4587, 'involves': 2348, 'wooden': 4934, 'thugs': 4484, 'lake': 2509, 'monster': 2892, 'floating': 1758, 'possibly': 3351, 'scared': 3805, 'stephen': 4176, 'king': 2479, 'tale': 4353, 'concerning': 933, 'victim': 4729, 'accident': 84, 'dead': 1132, 'already': 197, 'happy': 2032, 'rare': 3523, 'nowadays': 3055, 'isnt': 2362, 'incredibly': 2270, 'disgusting': 1286, 'throughout': 4478, 'eg': 1434, 'fat': 1663, 'greek': 1970, 'wedding': 4836, 'demented': 1176, 'jokes': 2415, 'likable': 2598, 'ended': 1470, 'bang': 393, 'finish': 1732, 'desired': 1206, 'pace': 3161, 'id': 2212, 'assumed': 329, 'stomach': 4196, 'accidentally': 85, 'heads': 2059, 'audience': 352, 'documentaries': 1306, 'proved': 3446, 'documentary': 1307, 'essence': 1521, 'successful': 4266, 'released': 3603, 'against': 147, 'bollywood': 530, '1983': 22, 'hero': 2088, 'whenever': 4863, 'remind': 3618, 'heroine': 2091, 'running': 3756, 'trees': 4577, 'touched': 4534, 'contemporary': 965, 'alcoholic': 177, 'message': 2819, 'honest': 2146, 'system': 4345, 'viewers': 4739, 'debut': 1143, 'won': 4925, 'straight': 4210, 'forward': 1808, 'extent': 1605, 'continued': 970, 'decades': 1145, 'remembered': 3617, 'par': 3184, 'seemed': 3862, 'potential': 3355, 'fighting': 1709, 'jackie': 2374, 'battles': 415, 'tiger': 4491, 'etc': 1527, 'interesting': 2325, 'apart': 264, 'davies': 1125, 'flying': 1764, 'warriors': 4803, 'mentioned': 2811, 'ashamed': 312, 'halloween': 2010, 'sheer': 3925, 'genius': 1887, 'hold': 2129, 'place': 3282, 'unfortunate': 4653, 'release': 3602, 'slasher': 4020, 'cats': 721, 'impact': 2244, 'suggested': 4281, 'rent': 3626, 'full': 1846, 'clear': 839, 'defined': 1160, 'simple': 3983, 'myers': 2952, 'cold': 872, 'blood': 512, 'large': 2517, 'knife': 2487, 'fifteen': 1706, 'treated': 4573, 'dr': 1340, 'sam': 3777, 'escapes': 1519, 'returns': 3668, 'begins': 444, 'innocent': 2294, 'annie': 247, 'tough': 4537, 'der': 1191, 'sexually': 3910, 'girl': 1909, 'tracks': 4545, 'help': 2079, 'town': 4541, 'sheriff': 3929, 'whom': 4875, 'watches': 4814, 'killing': 2472, 'sweet': 4336, 'prime': 3395, 'target': 4366, 'brilliant': 583, 'actresses': 106, 'notch': 3043, 'jamie': 2379, 'curtis': 1087, 'stunning': 4244, 'donald': 1321, 'performance': 3228, 'castle': 712, 'portrays': 3344, 'outstanding': 3147, 'walk': 4775, 'movements': 2924, 'perfect': 3224, 'highlights': 2104, 'carpenter': 694, 'created': 1037, 'themes': 4434, 'today': 4508, 'blue': 518, 'lighting': 2596, 'creepy': 1052, 'shadows': 3913, 'strikes': 4225, 'mask': 2752, 'sent': 3880, 'perfectly': 3226, 'gory': 1943, 'unlike': 4670, 'friday': 1834, '13th': 5, 'suspense': 4330, 'tension': 4404, 'mere': 2814, 'sum': 4289, 'suggest': 4280, 'vhs': 4725, 'buy': 640, 'disappointed': 1273, 'aired': 165, 'delightful': 1168, 'record': 3573, 'cd': 728, 'tape': 4365, 'album': 175, 'player': 3298, 'standard': 4144, 'purely': 3472, 'near': 2979, 'unintentional': 4658, 'scale': 3802, 'comedies': 889, 'andy': 230, 'ghost': 1902, 'dressed': 1358, 'native': 2972, 'american': 213, 'dancing': 1107, 'sends': 3876, 'wouldnt': 4958, 'gas': 1874, 'energy': 1478, 'driving': 1368, 'store': 4204, 'check': 777, 'weird': 4841, 'solid': 4057, 'flash': 1745, 'gun': 1996, 'act': 97, 'occasional': 3074, 'poorly': 3329, 'four': 1812, 'maintain': 2710, 'sort': 4077, 'shake': 3914, 'admit': 122, 'feature': 1678, 'respect': 3652, 'em': 1452, 'compared': 912, 'graphics': 1959, 'amazing': 209, 'blowing': 515, 'object': 3066, 'frame': 1815, 'drawn': 1351, 'felt': 1692, 'lovable': 2668, 'rabbit': 3498, 'rocks': 3722, 'rules': 3754, 'creators': 1044, 'difference': 1246, 'glad': 1916, 'theyve': 4446, 'magnificent': 2705, 'touching': 4536, 'candy': 668, 'eye': 1611, 'cover': 1022, 'claims': 830, 'buying': 641, 'homage': 2141, 'horrors': 2169, 'notably': 3042, 'mini': 2854, 'lit': 2621, 'exactly': 1551, 'key': 2458, 'fill': 1714, 'finished': 1733, 'content': 966, 'frankly': 1823, 'mans': 2730, 'rubber': 3747, 'torn': 4528, 'creature': 1045, 'cg': 739, 'impressed': 2251, 'detective': 1220, 'via': 4726, 'convincing': 985, 'witnessed': 4915, 'formulaic': 1803, 'last': 2521, 'sets': 3899, 'runs': 3757, 'mental': 2808, 'semi': 3874, 'house': 2178, 'sign': 3970, 'cell': 730, 'attempts': 343, 'wandering': 4785, 'found': 1811, 'appearances': 275, 'emily': 1456, 'breasts': 572, 'guess': 1989, 'downhill': 1336, 'alex': 179, 'evidence': 1546, 'likely': 2601, 'league': 2549, 'currently': 1085, 'blair': 497, 'witch': 4909, 'book': 535, 'examples': 1554, 'riding': 3695, 'uninteresting': 4660, 'san': 3780, 'francisco': 1819, 'unbelievably': 4635, 'martin': 2748, 'apparently': 270, 'spy': 4135, 'diamond': 1236, 'boss': 546, 'aunt': 355, 'mary': 2751, 'delivery': 1173, 'remember': 3616, 'name': 2960, 'flat': 1748, 'sexy': 3911, 'singing': 3995, 'sidekick': 3966, 'ian': 2209, 'sucked': 4270, 'idea': 2213, 'trying': 4601, 'steal': 4170, 'lab': 2501, 'dress': 1357, 'south': 4087, 'let': 2579, 'alone': 194, 'hour': 2176, 'five': 1743, 'tragic': 4552, 'compelling': 916, 'clichés': 846, 'deeper': 1155, 'connected': 945, 'roots': 3738, 'hasnt': 2044, 'unique': 4662, 'offers': 3090, 'center': 732, 'relationship': 3597, 'sisters': 4002, 'realize': 3552, 'easy': 1410, 'connect': 944, 'pleased': 3305, 'handful': 2017, 'major': 2711, 'eva': 1531, 'prove': 3445, 'convey': 982, 'emotion': 1458, 'writing': 4971, 'appealing': 272, 'believable': 453, 'miles': 2843, 'maria': 2736, 'directing': 1260, 'length': 2569, 'wait': 4770, 'typical': 4623, 'pre': 3365, 'murphy': 2944, 'brown': 601, 'joe': 2407, 'moon': 2900, 'familiar': 1643, 'wives': 4918, 'thrillers': 4473, 'highly': 2105, 'faithful': 1634, 'adaptation': 113, 'scenario': 3808, 'rate': 3526, 'entertainment': 1500, 'dean': 1139, 'anderson': 227, 'shadow': 3912, 'gives': 1914, 'career': 686, 'date': 1118, 'jane': 2380, 'assistant': 326, 'fit': 1740, 'letter': 2581, 'changes': 751, 'slight': 4027, 'realistic': 3550, 'airplane': 166, 'airport': 167, 'values': 4710, 'decade': 1144, 'cia': 814, 'showing': 3958, 'spent': 4108, 'vice': 4727, 'regret': 3591, 'losing': 2658, 'hours': 2177, 'leave': 2555, 'rather': 3528, 'ships': 3935, 'humans': 2190, 'anthony': 253, 'anyone': 259, 'filled': 1715, 'value': 4709, 'displays': 1293, 'french': 1830, 'accent': 78, 'comic': 893, 'fashion': 1659, 'standards': 4145, 'cardboard': 682, 'lover': 2672, 'presents': 3377, 'dated': 1119, 'extreme': 1609, 'ex': 1549, 'marriage': 2743, 'divorce': 1301, 'means': 2783, 'women': 4923, 'presence': 3373, 'feminist': 1695, 'husbands': 2205, 'marry': 2745, 'opposite': 3123, 'soon': 4074, 'passion': 3205, 'gender': 1878, 'cary': 706, 'grant': 1956, 'ward': 4793, 'boyfriend': 558, 'taylor': 4372, 'suited': 4286, 'bathroom': 412, 'knock': 2488, 'lights': 2597, 'channel': 753, 'speech': 4102, 'overall': 3150, 'intellectual': 2312, 'appropriate': 283, 'earlier': 1399, 'extremely': 1610, 'performer': 3231, 'joke': 2414, 'situation': 4008, 'water': 4816, 'dry': 1377, 'theory': 4437, 'maker': 2714, 'charlotte': 766, 'mrs': 2930, 'hits': 2125, 'state': 4160, 'shed': 3924, 'altogether': 202, 'secret': 3849, 'experienced': 1581, 'essentially': 1523, 'focus': 1766, 'contract': 973, 'tired': 4501, 'ease': 1404, 'responsible': 3656, '40s': 49, '60s': 54, 'trailers': 4555, 'mainstream': 2709, 'sexuality': 3909, 'picked': 3266, 'kicked': 2461, 'power': 3359, 'chain': 741, 'mostly': 2910, 'brutally': 604, 'technically': 4382, 'cuts': 1091, 'episodes': 1508, 'disturbing': 1300, 'society': 4050, 'focuses': 1768, 'industry': 2280, 'business': 633, 'domestic': 1318, 'hopes': 2159, 'melodramatic': 2798, 'lose': 2654, 'focusing': 1769, 'fear': 1676, 'stage': 4139, 'producer': 3415, 'fix': 1744, 'song': 4071, 'dance': 1103, 'latest': 2526, 'thinking': 4453, 'wearing': 4831, 'ring': 3698, 'fred': 1825, 'astaire': 330, 'ginger': 1908, 'rogers': 3725, 'idiotic': 2219, 'juvenile': 2441, 'behavior': 446, 'meet': 2793, 'ridiculously': 3694, 'tap': 4364, 'hotel': 2175, 'audiences': 353, 'happily': 2030, 'central': 735, 'motivation': 2914, 'arms': 294, 'remain': 3609, 'fancy': 1649, 'department': 1182, 'cure': 1081, 'deliberately': 1166, 'unreal': 4676, 'settings': 3901, 'contrived': 976, 'fail': 1625, 'surrounding': 4319, 'kid': 2464, 'theatre': 4429, 'saturday': 3792, 'sunday': 4293, 'afternoon': 144, 'showed': 3956, 'santa': 3783, 'dubbed': 1379, 'ask': 316, 'satan': 3787, 'silly': 3976, 'devil': 1228, 'costume': 1005, 'seat': 3845, 'spooky': 4128, 'suit': 4284, 'pulled': 3462, 'wound': 4960, 'nightmares': 3015, 'disturbed': 1299, 'pants': 3182, 'similar': 3978, 'et': 1526, 'run': 3755, 'create': 1036, 'friendly': 1836, 'ties': 4490, 'poetry': 3314, 'indeed': 2271, 'pure': 3471, 'core': 995, 'mentions': 2813, 'doc': 1303, 'fly': 1763, 'open': 3112, 'ice': 2210, 'cake': 648, 'danny': 1112, 'voice': 4761, 'clichéd': 845, 'elaborate': 1439, 'dimensional': 1253, 'save': 3794, 'manages': 2725, 'bring': 585, 'progresses': 3426, 'belief': 451, 'finally': 1724, 'jones': 2418, 'hill': 2108, 'unrealistic': 4677, 'question': 3487, 'reasons': 3560, 'shouldnt': 3952, 'directed': 1259, 'albert': 174, 'david': 1124, 'grey': 1973, 'originally': 3131, 'east': 1407, 'produce': 3413, 'study': 4242, 'eccentric': 1414, 'cousin': 1021, 'kennedy': 2454, 'edie': 1419, 'dances': 1106, 'ted': 4386, 'shortly': 3947, 'aged': 149, 'received': 3564, 'jr': 2423, 'idiot': 2218, 'renting': 3629, 'strictly': 4223, 'explore': 1594, 'imdb': 2240, 'research': 3644, 'prior': 3400, 'rental': 3627, 'blame': 499, 'except': 1556, 'curiosity': 1082, 'stick': 4185, 'warned': 4798, 'musicals': 2948, 'producers': 3416, 'afraid': 140, 'pick': 3265, 'paced': 3162, 'beautifully': 429, 'performed': 3230, 'memorable': 2802, 'superior': 4300, 'sixties': 4011, 'type': 4621, 'stolen': 4195, 'hood': 2151, 'beach': 419, 'car': 680, 'brian': 576, 'trek': 4578, 'bobby': 525, 'brother': 598, 'lou': 2663, 'kate': 2446, 'directors': 1266, 'naturally': 2974, 'cynical': 1093, 'melodrama': 2797, 'crisis': 1060, 'enemies': 1476, 'virus': 4752, 'die': 1243, 'everybody': 1540, 'nose': 3037, 'mouth': 2920, 'band': 391, 'encounters': 1467, 'desperate': 1208, 'frank': 1821, 'christopher': 811, 'daughter': 1121, 'land': 2511, 'process': 3412, 'oil': 3097, 'pan': 3180, 'wind': 4893, 'foot': 1781, 'ride': 3692, 'wears': 4832, 'doctors': 1305, 'hospital': 2172, 'somebody': 4062, 'aid': 160, 'improve': 2254, 'phone': 3255, 'realizes': 3554, 'heroic': 2090, 'depressing': 1188, 'sympathetic': 4342, 'protect': 3443, 'themselves': 4435, 'reach': 3536, 'suits': 4287, 'protagonists': 3442, 'manage': 2722, 'getting': 1901, 'corpse': 999, 'discover': 1279, 'pregnant': 3369, 'birth': 486, 'needs': 2990, 'throws': 4482, 'ladies': 2506, 'catches': 715, 'leg': 2562, 'kills': 2474, 'beer': 439, 'either': 1438, 'virtually': 4751, 'heroes': 2089, 'plight': 3308, 'impression': 2252, 'loving': 2675, 'mistake': 2871, 'pays': 3218, 'price': 3389, 'testament': 4417, 'putting': 3482, 'lucky': 2683, 'relief': 3605, 'sight': 3969, 'cinematographer': 819, 'fantastic': 1651, 'trip': 4588, 'becomes': 434, 'dynamic': 1394, 'word': 4937, 'suffers': 4278, 'horribly': 2164, 'german': 1896, 'attacks': 339, 'depth': 1190, 'promise': 3430, 'fails': 1628, 'miserably': 2864, 'field': 1704, 'hot': 2174, 'chick': 786, 'shes': 3930, 'wise': 4903, 'ass': 323, 'attraction': 350, 'molly': 2884, 'kirk': 2482, 'awkward': 374, 'predictable': 3367, 'kiss': 2483, 'occurs': 3078, 'super': 4295, 'compare': 911, 'nature': 2975, 'pointless': 3318, 'pay': 3216, 'art': 304, 'crappy': 1032, 'merit': 2816, 'happened': 2027, 'beast': 422, 'lion': 2614, 'master': 2757, 'da': 1094, 'shower': 3957, 'middle': 2833, 'opens': 3115, 'soap': 4047, 'china': 795, 'cultural': 1078, 'revolution': 3680, 'blues': 519, 'goodness': 1938, 'hearts': 2066, 'government': 1948, 'views': 4742, 'clearly': 840, 'pleasant': 3302, 'expressed': 1601, 'slightest': 4028, 'replaced': 3634, 'wisdom': 4902, 'tall': 4362, 'days': 1130, 'chess': 783, 'fights': 1710, 'retarded': 3663, 'enter': 1494, 'polished': 3323, 'uncomfortable': 4637, 'represents': 3639, 'modern': 2882, 'tie': 4488, 'education': 1424, 'returned': 3666, 'ensues': 1493, 'centered': 733, 'charming': 768, 'manner': 2729, 'neat': 2982, 'carefully': 689, 'miss': 2866, 'subplots': 4256, 'within': 4912, 'larger': 2519, 'ends': 1474, 'regular': 3592, 'sole': 4055, 'delight': 1167, 'public': 3460, 'loses': 2657, 'thanks': 4423, 'inspired': 2301, 'tells': 4397, 'unusual': 4681, 'artistic': 308, 'international': 2326, 'adults': 126, 'endings': 1472, 'offended': 3085, 'comedic': 888, 'welcome': 4842, 'ensemble': 1492, 'tight': 4492, 'direction': 1261, 'tricks': 4583, 'tag': 4348, 'says': 3801, 'safe': 3771, 'brains': 563, 'macy': 2695, 'producing': 3417, 'expecting': 1578, 'focused': 1767, 'north': 3036, 'grandfather': 1954, 'empire': 1464, 'family': 1645, 'related': 3594, 'grew': 1972, 'area': 286, 'began': 441, 'learned': 2551, 'states': 4163, 'countless': 1012, 'references': 3583, 'bright': 581, 'gary': 1873, 'viewer': 4738, 'gain': 1863, 'understanding': 4645, 'clips': 852, 'magic': 2703, 'college': 875, 'gangster': 1868, 'fast': 1661, 'baby': 376, 'abandoned': 62, 'basketball': 409, 'court': 1020, 'homeless': 2143, 'along': 195, 'somehow': 4063, 'technique': 4383, 'wacky': 4769, 'mad': 2696, '20': 29, 'pretending': 3382, 'hurt': 2202, 'masters': 2761, 'throwing': 4480, 'distance': 1294, 'gangsters': 1869, 'boys': 559, 'decision': 1151, 'al': 170, 'uses': 4697, 'ground': 1979, 'insane': 2296, 'climax': 849, 'photography': 3260, 'stunt': 4245, 'uninspired': 4657, 'command': 897, 'ignore': 2224, 'recommended': 3572, 'feelings': 1686, 'lynch': 2691, 'chases': 771, 'sex': 3907, 'struggling': 4236, 'hollywood': 2137, 'competition': 918, 'irony': 2357, 'under': 4639, 'mitchell': 2875, 'level': 2584, 'talents': 4356, 'climactic': 848, 'instant': 2305, 'funniest': 1851, 'advanced': 128, 'screening': 3830, 'laughed': 2532, 'afterwards': 145, 'preview': 3386, 'intelligent': 2314, 'peter': 3247, 'falk': 1636, 'oscar': 3133, 'marvelous': 2750, 'vivid': 4760, 'dream': 1354, 'relationships': 3598, 'sons': 4073, 'specifically': 4100, 'achieved': 93, 'feeling': 1685, 'stranger': 4213, 'bitter': 491, 'deeply': 1156, 'particular': 3194, 'atmosphere': 333, 'bears': 421, 'comparison': 914, 'affected': 137, 'answer': 251, 'typically': 4624, 'houses': 2180, 'darkness': 1117, 'perspective': 3245, 'certain': 737, 'everyday': 1541, 'sexual': 3908, 'integrity': 2311, 'light': 2595, 'matters': 2770, 'reference': 3582, 'political': 3324, 'allowed': 190, 'deal': 1135, 'moral': 2902, 'issues': 2365, 'desire': 1205, 'questions': 3489, 'property': 3438, 'responsibility': 3655, 'asked': 317, 'statement': 4162, 'thank': 4421, 'europe': 1529, 'wins': 4899, 'asks': 319, 'disbelief': 1277, 'lewis': 2586, 'roger': 3724, 'bond': 532, 'hed': 2072, 'museum': 2945, 'luckily': 2682, 'judy': 2426, 'davis': 1126, 'affair': 135, 'terrorist': 4413, 'closing': 859, 'honestly': 2147, 'peace': 3219, 'nuclear': 3057, 'weapons': 4829, 'stock': 4193, 'extraordinary': 1607, 'achieve': 92, 'dedicated': 1153, 'lay': 2542, 'fired': 1735, 'base': 402, 'believes': 456, 'witnesses': 4916, 'join': 2412, 'plans': 3292, 'plan': 3287, 'inside': 2297, 'assault': 324, 'event': 1535, 'news': 3005, 'figure': 1711, 'viewing': 4740, 'villain': 4744, 'military': 2844, 'legend': 2564, 'wholly': 4874, 'satire': 3788, 'catholic': 720, 'fatal': 1664, 'rarely': 3524, 'empty': 1465, 'pit': 3278, 'cinema': 816, 'buried': 624, 'believed': 455, 'forest': 1791, 'search': 3841, 'deep': 1154, 'complexity': 924, 'resulting': 3661, 'simplicity': 3984, 'cartoon': 704, 'network': 3000, 'samurai': 3779, 'invasion': 2340, 'lacking': 2504, 'realism': 3549, 'facts': 1624, 'irrelevant': 2358, 'addition': 118, 'opinion': 3118, 'appearing': 277, 'mysterious': 2955, 'legendary': 2565, 'alice': 182, 'treat': 4572, 'lovely': 2671, 'pleasantly': 3303, 'kicking': 2462, 'week': 4837, 'orange': 3125, 'dad': 1095, 'teenager': 4390, 'weekend': 4838, 'julia': 2427, 'joseph': 2419, 'arguably': 289, 'finest': 1730, 'noir': 3023, 'lengthy': 2570, 'string': 4227, 'poverty': 3357, 'row': 3744, 'westerns': 4854, 'bela': 450, 'lugosi': 2686, 'invisible': 2344, 'secrets': 3852, 'ed': 1415, 'talented': 4355, 'inventive': 2341, 'dark': 1115, 'introduced': 2337, 'scope': 3821, 'narrative': 2966, 'structure': 4233, 'resources': 3651, 'mysteries': 2954, 'bound': 553, 'england': 1482, 'conventional': 979, 'attitudes': 347, 'agrees': 157, 'position': 3345, 'elderly': 1440, 'arrival': 299, 'sleep': 4024, 'brand': 565, 'identity': 2217, 'womans': 4922, 'told': 4513, 'struggles': 4235, 'grasp': 1960, 'utter': 4701, 'seemingly': 3863, 'hopeless': 2158, 'menacing': 2807, 'murdered': 2940, 'sinister': 3998, 'scheme': 3812, 'expensive': 1579, 'increasingly': 2268, 'ironically': 2356, 'trapped': 4564, 'apparent': 269, 'medical': 2790, 'progress': 3425, 'issue': 2364, 'accompanied': 86, 'security': 3854, 'guard': 1988, 'businessman': 634, 'complex': 923, 'filmed': 1717, 'notable': 3041, '2006': 36, 'costumes': 1006, 'needed': 2988, 'quiet': 3492, 'headed': 2058, 'path': 3209, 'influenced': 2287, 'ideas': 2215, 'mix': 2876, 'alongside': 196, 'provide': 3448, 'inevitable': 2282, 'doom': 1326, 'aware': 368, 'journey': 2421, 'threatening': 4468, 'touch': 4533, 'often': 3095, 'continue': 969, 'genuine': 1891, 'thoughts': 4464, 'frustration': 1843, 'hoped': 2156, 'developed': 1223, 'clip': 851, 'introduction': 2339, 'creatures': 1046, 'shining': 3933, 'member': 2800, 'dawn': 1127, 'zombies': 4998, 'alien': 183, 'explained': 1587, 'build': 614, 'smaller': 4034, 'sat': 3786, 'hollow': 2135, 'occurred': 3077, 'emotionally': 1460, 'insight': 2298, 'sake': 3775, 'given': 1913, 'stress': 4220, 'shallow': 3917, 'creative': 1041, 'working': 4944, 'solo': 4058, 'fully': 1847, 'hal': 2006, 'henry': 2084, 'fool': 1779, 'fay': 1674, 'grim': 1974, 'sequel': 3885, 'brilliantly': 584, 'parker': 3191, 'missing': 2869, 'jeff': 2390, '90s': 61, 'indie': 2276, 'surprises': 4314, 'wars': 4804, 'trilogy': 4586, 'installment': 2303, 'suspects': 4328, 'thomas': 4458, 'adequate': 120, 'board': 522, 'speaks': 4096, 'stereotypical': 4180, 'saves': 3796, 'hearing': 2063, 'market': 2740, 'dare': 1113, 'namely': 2962, 'kicks': 2463, 'quickly': 3491, 'immediately': 2242, 'sleazy': 4023, 'downright': 1337, 'concert': 935, 'dude': 1381, 'cage': 645, 'godzilla': 1929, 'kinda': 2477, 'understand': 4643, 'legs': 2566, 'standing': 4146, 'window': 4894, 'shocking': 3940, 'ape': 266, 'causes': 725, 'surprisingly': 4316, 'gorgeous': 1942, 'male': 2719, 'upper': 4685, 'flicks': 1755, 'kong': 2494, 'queen': 3485, 'racist': 3503, 'complain': 919, 'temple': 4398, 'street': 4216, 'fighter': 1708, 'whatever': 4859, 'everywhere': 1545, 'react': 3540, 'african': 142, 'americans': 214, 'pink': 3277, 'filming': 1718, 'entirely': 1503, 'hadnt': 2004, 'favourite': 1673, 'books': 536, 'library': 2589, 'student': 4238, 'poster': 3353, 'contain': 962, 'hate': 2046, 'bits': 490, 'inspiring': 2302, '90': 60, 'shakespeare': 3915, 'elizabeth': 1445, 'scottish': 3825, 'curse': 1086, 'stylish': 4251, 'treatment': 4574, 'wonderfully': 4929, 'sounding': 4083, 'satisfying': 3791, 'corporate': 998, '50s': 52, 'influence': 2286, 'tim': 4494, 'mars': 2746, 'tomatoes': 4515, 'cities': 823, 'blows': 517, 'blown': 516, 'lane': 2515, 'ambitious': 211, 'press': 3379, 'secretary': 3850, 'agent': 150, 'bay': 416, 'useless': 4695, 'president': 3378, 'attack': 337, 'marketing': 2741, 'team': 4378, 'female': 1693, 'wwii': 4975, 'expert': 1585, 'washington': 4806, 'abraham': 69, 'lincoln': 2608, 'hitler': 2124, 'numbers': 3061, 'tune': 4602, 'theme': 4433, 'laughter': 2535, 'grade': 1951, 'celluloid': 731, 'eager': 1396, 'nostalgic': 3039, 'politically': 3325, 'correct': 1000, 'civil': 826, 'rights': 3697, 'controversial': 978, 'topic': 4526, 'threw': 4470, 'nobody': 3022, 'brain': 562, 'vietnam': 4735, 'sit': 4003, 'biggest': 480, 'generic': 1885, 'pile': 3275, 'johnny': 2410, 'represent': 3637, 'ordinary': 3128, 'overdone': 3152, 'coming': 896, 'gag': 1861, 'plain': 3286, 'ugly': 4625, 'critical': 1062, 'prefer': 3368, 'stand': 4143, 'hideous': 2098, 'nostalgia': 3038, 'cartoons': 705, 'advise': 134, 'wanting': 4790, 'passes': 3203, 'rushed': 3760, 'eating': 1413, 'likes': 2602, 'masterpieces': 2760, 'eaten': 1412, 'eat': 1411, 'moment': 2886, 'hear': 2061, 'breath': 573, 'dick': 1239, 'lol': 2640, 'shut': 3961, 'foul': 1810, 'sick': 3963, 'page': 3167, 'enters': 1496, 'ah': 158, 'timing': 4498, 'spoiler': 4123, 'screenplay': 3831, 'handle': 2018, 'senseless': 3878, 'hands': 2020, 'grace': 1950, 'parties': 3196, 'social': 4049, 'smiling': 4037, 'amazed': 208, 'religion': 3607, 'ireland': 2352, 'ignorant': 2223, 'inane': 2258, 'offered': 3088, 'irish': 2353, 'sean': 3840, 'raised': 3508, 'attend': 344, 'priest': 3392, 'sin': 3988, 'desperation': 1210, 'daughters': 1122, 'note': 3044, 'brady': 561, 'powerful': 3360, 'emotional': 1459, 'decides': 1150, 'wishes': 4906, 'loves': 2674, 'portrait': 3339, 'nearly': 2981, 'community': 908, 'fiction': 1702, 'lived': 2626, 'religious': 3608, 'basic': 406, 'buildings': 616, 'force': 1786, 'longer': 2645, 'grown': 1984, 'eric': 1514, 'defend': 1158, 'glory': 1922, 'earned': 1401, 'destroyed': 1214, 'anymore': 258, 'ironic': 2355, 'skip': 4016, 'understandable': 4644, 'fault': 1668, 'todays': 4509, 'worthwhile': 4955, 'importantly': 2248, 'unfolds': 4651, 'hills': 2109, 'providing': 3451, 'reveal': 3670, 'technology': 4385, 'fire': 1734, 'ear': 1397, 'explain': 1586, 'whats': 4860, 'amounts': 220, 'visuals': 4759, 'unsettling': 4679, 'silent': 3975, 'speak': 4094, 'choose': 799, 'claim': 828, 'masterpiece': 2759, 'reaches': 3538, 'heights': 2073, 'composed': 926, 'below': 462, 'countryside': 1015, 'variety': 4714, 'jaws': 2385, 'handed': 2016, 'imagery': 2234, 'holds': 2131, 'buff': 611, 'woods': 4935, 'scientist': 3818, 'convinced': 984, 'doctor': 1304, 'arm': 292, 'ripped': 3701, 'formula': 1802, 'grows': 1985, 'murderous': 2942, 'snake': 4042, 'reviewer': 3677, 'allow': 189, 'cult': 1077, 'misses': 2868, 'contains': 964, 'continuity': 972, 'daniel': 1111, 'dancers': 1105, 'shock': 3938, 'forgettable': 1794, 'cars': 702, 'remarkably': 3614, 'notice': 3048, 'remarkable': 3613, 'youd': 4987, 'cable': 644, 'satisfied': 3789, 'underrated': 4642, 'imagination': 2236, 'elements': 1443, 'victor': 4731, 'coherent': 871, 'pet': 3246, 'memory': 2804, 'zombie': 4997, 'gratuitous': 1961, '75': 57, 'basically': 407, 'cruel': 1070, 'unknown': 4668, 'drawing': 1350, 'dirty': 1268, 'soft': 4051, 'theyd': 4443, 'recently': 3567, 'rented': 3628, 'korean': 2495, 'thrills': 4475, 'machine': 2693, 'eerie': 1427, 'measure': 2786, 'hook': 2152, 'device': 1227, 'wood': 4933, 'orson': 3132, 'welles': 4844, 'vampire': 4711, 'witches': 4910, 'choreographed': 801, 'described': 1195, 'psychic': 3456, 'lower': 2677, 'elvira': 1450, 'badly': 383, 'disappeared': 1271, 'walked': 4776, '45': 50, 'supposedly': 4307, 'cannibal': 669, 'travel': 4567, 'relies': 3606, 'photos': 3261, 'jewish': 2401, 'disappointment': 1275, 'countries': 1013, 'intense': 2316, 'cry': 1073, 'excited': 1561, 'praise': 3364, 'editor': 1423, 'comment': 898, 'hyde': 2206, 'newly': 3004, 'members': 2801, 'petty': 3249, 'caught': 722, 'ultimate': 4627, 'rich': 3685, 'quick': 3490, 'shop': 3945, 'millions': 2848, 'sounds': 4084, 'throw': 4479, 'ingredients': 2289, 'loser': 2655, 'cash': 709, 'locked': 2637, 'madonna': 2699, 'spots': 4132, 'produced': 3414, 'steven': 4182, 'effectively': 1430, 'handled': 2019, 'meant': 2784, 'obvious': 3071, 'voices': 4763, 'actions': 101, 'glass': 1917, 'attempted': 341, 'hole': 2132, 'mayor': 2777, 'ok': 3098, 'rotten': 3740, 'strangers': 4214, 'flesh': 1753, 'skin': 4015, 'needless': 2989, 'drunk': 1375, 'stupidity': 4248, 'shame': 3918, 'fell': 1690, 'chair': 742, 'baseball': 403, 'training': 4558, 'attempting': 342, 'football': 1783, 'dinner': 1254, 'williams': 4888, 'overlooked': 3154, 'reviews': 3679, 'luke': 2687, 'critics': 1064, 'victoria': 4732, 'fond': 1776, 'sir': 4000, 'blunt': 520, 'strength': 4219, 'humour': 2194, 'overcome': 3151, 'positive': 3346, 'unhappy': 4656, 'outcome': 3142, 'couldve': 1009, 'print': 3399, 'australia': 356, 'colour': 880, 'lawyer': 2541, 'involving': 2349, 'greater': 1965, 'average': 362, 'rain': 3506, 'lately': 2524, 'vs': 4767, 'practice': 3363, 'huh': 2187, 'dreams': 1355, 'connection': 946, 'mill': 2845, 'skill': 4013, 'hearted': 2065, 'tribute': 4581, 'multi': 2935, 'racial': 3501, 'britain': 588, 'messages': 2820, 'intent': 2318, '80': 58, 'revolves': 3682, 'possibility': 3349, 'denzel': 1181, 'orders': 3127, '1st': 28, 'determined': 1221, 'stands': 4147, 'results': 3662, 'armed': 293, 'sub': 4252, 'discovered': 1280, 'buddy': 609, 'trite': 4589, 'stinker': 4191, 'suffer': 4275, 'revealed': 3671, 'raising': 3509, 'hired': 2117, 'paint': 3173, 'mansion': 2731, 'wealthy': 4827, 'beyond': 476, 'hanging': 2023, 'butler': 637, 'explanation': 1590, 'walks': 4780, 'edge': 1418, 'bland': 500, 'stinks': 4192, 'makeup': 2717, 'mummy': 2937, 'stops': 4203, 'anne': 246, 'map': 2733, 'basis': 408, 'disappoint': 1272, 'double': 1331, 'source': 4086, 'location': 2635, 'consistent': 953, 'faces': 1618, 'soldier': 4053, 'kurt': 2499, 'previously': 3388, 'boom': 537, 'desert': 1198, 'excuse': 1564, 'credible': 1048, 'falling': 1639, 'lust': 2689, 'shirt': 3937, 'glimpse': 1919, 'butt': 638, 'appeal': 271, 'kidding': 2465, 'slapstick': 4019, 'womens': 4924, 'imitation': 2241, 'grand': 1953, 'spot': 4131, 'colonel': 876, 'studios': 4241, 'promises': 3432, 'thinks': 4454, 'convince': 983, 'charlie': 765, 'treats': 4575, 'suddenly': 4273, 'sophisticated': 4075, 'calls': 654, 'clown': 862, 'visits': 4756, 'pie': 3271, 'harry': 2039, 'indian': 2274, 'reporter': 3636, 'models': 2881, 'featured': 1679, 'newspaper': 3006, 'noticed': 3049, 'shines': 3932, 'crime': 1055, 'rule': 3753, 'abuse': 74, 'folk': 1770, 'brought': 600, 'forth': 1804, 'talks': 4361, 'flight': 1757, 'resort': 3650, 'destroying': 1215, '16': 8, 'decided': 1149, 'detail': 1217, 'figures': 1713, 'sword': 4340, 'total': 4531, 'backgrounds': 381, 'single': 3996, 'bite': 489, 'remotely': 3623, 'exciting': 1563, 'grab': 1949, 'ocean': 3079, 'loaded': 2632, 'subtle': 4260, 'streisand': 4218, 'impossible': 2249, 'edited': 1420, 'properly': 3437, 'technical': 4381, 'decisions': 1152, 'discussion': 1284, 'fascinating': 1658, 'stronger': 4230, 'heavily': 2069, 'crush': 1072, 'weight': 4840, 'minds': 2852, 'morality': 2903, 'meaningful': 2781, 'sell': 3871, 'spread': 4133, 'gods': 1928, 'argument': 291, 'solely': 4056, '2002': 32, 'changed': 750, 'committed': 905, 'returning': 3667, 'corner': 996, 'jumps': 2432, 'jesus': 2399, 'christians': 809, 'oddly': 3081, 'secondly': 3847, 'stealing': 4171, 'mentioning': 2812, 'kept': 2456, 'ran': 3513, 'quote': 3496, 'keeps': 2451, 'loss': 2659, 'thousands': 4466, 'march': 2734, 'epic': 1506, 'wayne': 4821, 'icon': 2211, 'commented': 900, 'pointed': 3317, 'screenwriter': 3833, 'mexican': 2826, 'owner': 3159, 'enemy': 1477, 'anna': 245, 'credits': 1050, 'listed': 2618, 'spoken': 4126, 'bodies': 526, 'choices': 798, 'makers': 2715, '1980s': 21, 'manhattan': 2726, 'acceptable': 81, 'activities': 102, 'failure': 1629, 'army': 295, 'mexico': 2827, 'six': 4010, 'claimed': 829, 'commentary': 899, 'rise': 3702, 'liberal': 2588, 'hundred': 2195, 'tried': 4584, 'win': 4892, 'cost': 1003, 'massacre': 2754, 'destruction': 1216, 'troops': 4591, 'captured': 677, 'wounded': 4961, 'defeat': 1157, 'sold': 4052, 'border': 539, 'purchase': 3469, 'built': 618, 'achievement': 94, 'americas': 215, 'chief': 788, 'secretly': 3851, 'suggests': 4282, 'elegant': 1441, 'convincingly': 986, 'reflect': 3584, 'numerous': 3062, 'alive': 186, 'provides': 3450, 'bonus': 534, '1980': 20, 'jazz': 2387, 'continues': 971, 'hat': 2045, 'heres': 2087, 'serial': 3889, 'spirits': 4115, 'machines': 2694, 'landscape': 2513, 'pot': 3354, 'snow': 4045, 'freddy': 1826, 'matched': 2763, 'liners': 2611, 'scares': 3806, 'hardcore': 2034, 'accents': 79, 'zero': 4996, 'previous': 3387, 'halfway': 2008, 'spoke': 4125, 'trademark': 4548, 'rat': 3525, 'arthur': 305, 'executive': 1567, 'sucks': 4271, 'gay': 1876, 'hates': 2048, 'julie': 2428, 'demands': 1175, 'devoted': 1231, 'block': 508, 'plane': 3288, 'holes': 2133, 'boot': 538, 'private': 3404, 'drive': 1363, 'blah': 496, 'laughably': 2531, 'paris': 3189, 'expectations': 1576, 'hoping': 2160, 'reunion': 3669, 'convoluted': 987, 'supernatural': 4302, 'element': 1442, 'adds': 119, 'worn': 4948, 'blatant': 502, 'broad': 590, 'stereotypes': 4179, 'gotta': 1946, 'strangely': 4212, 'haunted': 2050, 'philip': 3252, 'calling': 653, 'pitt': 3280, 'dracula': 1341, 'barbara': 397, 'scream': 3826, 'weapon': 4828, '15': 7, 'requires': 3642, 'borrowed': 545, 'significant': 3972, 'pursuit': 3476, 'hall': 2009, 'text': 4419, 'smart': 4035, 'food': 1778, 'werent': 4849, 'talked': 4359, 'scientific': 3817, 'repeated': 3631, 'impress': 2250, 'eight': 1436, 'jonathan': 2417, 'hanks': 2025, 'allows': 192, 'identify': 2216, 'bugs': 613, 'suspend': 4329, 'talk': 4358, 'possibilities': 3348, 'toy': 4542, 'hopefully': 2157, 'winter': 4900, 'consequences': 947, 'similarities': 3979, 'vicious': 4728, 'excitement': 1562, 'quest': 3486, 'gang': 1867, 'danger': 1109, 'performers': 3232, 'woody': 4936, 'allen': 188, 'embarrassed': 1453, 'chaos': 755, 'mickey': 2831, 'iron': 2354, 'suppose': 4305, 'destroy': 1213, 'bloody': 513, 'combination': 883, 'jackson': 2375, 'speed': 4103, 'demon': 1177, 'segment': 3867, 'entertain': 1497, 'smooth': 4041, 'criminal': 1057, 'neighborhood': 2993, 'delivers': 1172, 'smoking': 4040, 'metal': 2823, 'drug': 1373, 'teenagers': 4391, 'surprising': 4315, 'extras': 1608, 'explains': 1589, 'vote': 4766, 'popularity': 3334, 'rangers': 3517, 'understood': 4647, 'anyways': 262, 'learn': 2550, 'solve': 4060, 'clothing': 861, 'teach': 4374, 'disagree': 1269, '1990s': 25, 'erotic': 1515, 'drop': 1369, 'painting': 3175, 'judge': 2424, 'redemption': 3578, 'guilty': 1995, 'hung': 2197, 'beaten': 424, 'awards': 367, 'relate': 3593, 'experiences': 1582, 'reed': 3580, 'bill': 481, 'mario': 2738, 'kidnapped': 2466, 'games': 1865, 'limits': 2607, 'worlds': 4947, 'doors': 1329, 'dislike': 1288, '3d': 46, 'selling': 3873, 'bucks': 606, 'cried': 1054, 'suffered': 4276, 'amazingly': 210, 'teenage': 4389, 'difficult': 1249, 'diana': 1237, 'stays': 4169, '24': 39, 'wondering': 4930, 'happiness': 2031, 'sadness': 3770, 'forever': 1792, 'occasionally': 3075, 'gentle': 1890, 'till': 4493, 'jean': 2389, 'louis': 2665, 'pearl': 3220, 'consider': 949, 'valuable': 4708, 'warming': 4795, 'humble': 2191, 'cave': 727, 'filmmaker': 1719, 'failing': 1627, 'interviews': 2330, 'farce': 1654, 'montage': 2894, 'project': 3427, 'motion': 2913, 'hardly': 2036, 'punk': 3468, 'mom': 2885, 'rated': 3527, 'higher': 2101, 'warner': 4799, '1930s': 11, 'depression': 1189, 'era': 1513, 'troubles': 4594, 'joan': 2404, 'ruby': 3749, 'powell': 3358, 'styles': 4250, 'types': 4622, 'enjoying': 1487, 'code': 869, 'plague': 3285, 'contact': 961, 'widmark': 4882, 'douglas': 1334, 'pool': 3327, 'masterful': 2758, 'followed': 1773, 'handsome': 2021, 'colors': 879, 'portray': 3340, '1972': 18, 'busy': 635, 'month': 2896, 'journalist': 2420, 'crash': 1033, 'widow': 4883, 'figured': 1712, 'appreciate': 279, 'outfit': 3144, 'adult': 125, 'knowledge': 2491, 'manager': 2724, 'goal': 1925, 'illegal': 2229, 'canada': 666, 'support': 4303, 'motivations': 2915, 'offer': 3087, 'twist': 4617, 'nudity': 3059, 'air': 164, 'innocence': 2293, 'context': 968, 'canadian': 667, 'worthy': 4956, 'nominated': 3025, 'oscars': 3134, 'generous': 1886, 'staff': 4138, 'nicholson': 3011, 'imagined': 2239, 'tears': 4380, 'occasion': 3073, 'prequel': 3372, 'survivors': 4325, 'pseudo': 3454, 'civilization': 827, 'excessive': 1560, 'freedom': 1828, 'soul': 4079, 'troubled': 4593, 'distinct': 1296, 'pulling': 3463, 'franchise': 1817, 'akshay': 169, 'maggie': 2702, 'jealous': 2388, 'liking': 2604, 'mike': 2838, 'hammer': 2014, 'buck': 605, 'morgan': 2905, 'raped': 3522, 'laura': 2536, 'mixed': 2877, 'lousy': 2667, 'purchased': 3470, 'polanski': 3321, 'le': 2544, 'apartment': 265, 'academy': 77, 'award': 366, 'shelley': 3928, 'winters': 4901, 'viewings': 4741, 'batman': 413, 'stopped': 4202, 'bruce': 602, 'voiced': 4762, 'kevin': 2457, 'superman': 4301, 'wing': 4896, 'alfred': 181, 'disc': 1278, 'graphic': 1958, 'included': 2262, 'adventures': 131, 'seasons': 3844, 'shelf': 3926, 'blockbuster': 509, 'surprise': 4312, 'dropping': 1371, 'gift': 1906, 'closely': 855, 'holmes': 2139, 'sellers': 3872, 'physical': 3262, 'unexpected': 4650, 'aspect': 321, 'concerned': 932, 'tea': 4373, 'cases': 708, 'suspect': 4327, 'criminals': 1058, 'easier': 1405, 'fair': 1630, 'southern': 4088, 'overlook': 3153, 'shocked': 3939, 'brutal': 603, 'worried': 4949, 'principal': 3398, 'overacting': 3149, 'nights': 3016, 'innovative': 2295, 'gordon': 1940, 'gruesome': 1986, 'highest': 2102, 'carl': 692, 'vegas': 4717, 'arrived': 301, 'agreed': 156, 'spin': 4112, 'information': 2288, 'magazine': 2701, 'novels': 3053, '1990': 24, 'bbc': 417, 'spider': 4109, 'titles': 4506, 'werewolf': 4850, 'overly': 3155, 'stuck': 4237, 'twelve': 4611, 'columbo': 881, 'simon': 3982, 'tony': 4521, 'scripts': 3836, 'alright': 198, 'monsters': 2893, 'stewart': 4184, 'arrives': 302, 'nine': 3017, 'asking': 318, 'opened': 3113, 'share': 3920, 'souls': 4080, 'letters': 2582, 'lonely': 2643, 'felix': 1689, 'dear': 1140, 'subsequent': 4257, 'eve': 1532, 'jimmy': 2403, 'persona': 3239, 'hint': 2112, 'fictional': 1703, 'broken': 594, 'loyal': 2679, 'proud': 3444, 'creation': 1040, 'chose': 804, 'universal': 4665, 'anywhere': 263, 'merits': 2817, 'depicted': 1183, 'classes': 834, 'popular': 3333, 'designed': 1203, 'schools': 3814, 'parent': 3187, 'majority': 2712, 'earl': 1398, '1960s': 15, 'guilt': 1994, 'mild': 2839, 'summer': 4291, 'reached': 3537, 'cinemas': 817, 'glorious': 1921, 'fate': 1665, 'undoubtedly': 4648, 'succeeded': 4263, 'comparing': 913, 'forty': 1807, 'successfully': 4267, 'furthermore': 1854, 'poem': 3312, 'succeed': 4262, 'harder': 2035, 'seven': 3903, 'attached': 336, 'suicide': 4283, 'disease': 1285, 'finding': 1727, 'gradually': 1952, 'sacrifice': 3766, 'knowing': 2490, 'harsh': 2040, 'cinematography': 820, 'delivered': 1170, 'subtlety': 4261, 'push': 3477, 'waiting': 4772, 'provoking': 3452, 'traveling': 4568, 'paying': 3217, 'slave': 4022, 'details': 1219, 'suffering': 4277, 'spoil': 4121, 'crude': 1069, 'inappropriate': 2259, 'send': 3875, 'matches': 2764, 'match': 2762, '17': 9, 'killings': 2473, 'disjointed': 1287, 'teen': 4388, 'wouldve': 4959, 'guessed': 1990, 'rape': 3521, 'neo': 2998, 'nazis': 2978, 'professor': 3422, 'honor': 2150, 'method': 2824, 'catch': 714, 'terrific': 4409, 'justice': 2438, 'category': 718, 'ignored': 2225, 'stanley': 4148, 'ballet': 389, 'spell': 4104, 'navy': 2976, 'miscast': 2862, 'reduced': 3579, 'dignity': 1252, 'exposed': 1598, 'pushing': 3479, 'marie': 2737, 'kelly': 2452, 'exaggerated': 1552, 'turner': 4607, 'model': 2880, 'bob': 524, 'careers': 687, 'lesson': 2577, 'citizen': 824, 'kane': 2442, 'foster': 1809, 'robots': 3718, 'miracle': 2860, 'streep': 4215, 'beings': 449, 'judging': 2425, 'companion': 909, 'reaching': 3539, 'guarantee': 1987, 'cards': 683, 'dreadful': 1353, 'gray': 1963, 'evening': 1534, 'fallen': 1638, 'blade': 495, 'cgi': 740, 'impressive': 2253, 'spectacular': 4101, 'imaginative': 2237, 'instance': 2304, 'odd': 3080, 'futuristic': 1857, 'environment': 1505, 'substance': 4258, 'horrendous': 2162, 'irritating': 2359, 'drivel': 1364, 'false': 1641, 'hence': 2083, 'believing': 457, '14': 6, 'lord': 2652, 'blind': 506, 'von': 4765, 'max': 2774, '35': 45, 'donna': 1323, 'confusion': 943, 'definite': 1161, 'meaningless': 2782, 'nevertheless': 3002, 'deserved': 1200, 'psychiatrist': 3455, 'outer': 3143, 'escaped': 1518, 'phantom': 3251, 'opera': 3116, 'incomprehensible': 2267, 'combined': 885, 'endless': 1473, 'descent': 1193, 'flashback': 1746, 'depicting': 1184, 'seeking': 3859, 'explicit': 1591, 'language': 2516, 'mate': 2765, 'larry': 2520, 'carter': 703, 'dealing': 1136, 'exception': 1557, 'moves': 2925, 'raise': 3507, 'dies': 1245, 'solution': 4059, 'warning': 4800, 'september': 3884, 'planned': 3290, 'cube': 1076, 'teacher': 4375, 'artists': 309, 'depiction': 1185, 'mindless': 2851, 'ancient': 225, 'dragon': 1344, 'bother': 548, 'goofy': 1939, 'assume': 328, 'ball': 388, 'punch': 3466, 'rings': 3699, 'robbins': 3712, 'translation': 4562, 'according': 88, 'passing': 3204, 'rescue': 3643, 'charge': 761, 'adams': 112, 'exceptionally': 1559, 'improvement': 2256, 'steve': 4181, 'sentimental': 3882, 'wallace': 4782, 'lucy': 2684, 'culture': 1079, 'enjoys': 1489, 'burns': 628, 'courage': 1018, 'brooklyn': 595, 'bridge': 578, 'steals': 4172, 'stayed': 4167, 'footage': 1782, 'advantage': 129, 'subjects': 4254, 'bacall': 377, '2nd': 41, 'granted': 1957, 'distracting': 1297, 'affect': 136, 'intrigue': 2333, 'bold': 528, 'leaving': 2557, 'murderer': 2941, 'empathy': 1462, 'jake': 2377, 'union': 4661, 'joined': 2413, '1968': 16, 'capturing': 679, 'aids': 161, 'tarzan': 4367, 'picking': 3267, 'carrying': 701, 'surrounded': 4318, 'infamous': 2284, 'pg': 3250, '13': 4, 'nude': 3058, 'swim': 4337, 'restored': 3659, 'apes': 267, 'popcorn': 3331, 'rose': 3739, 'rough': 3741, 'overrated': 3156, 'degree': 1164, 'cook': 988, 'prize': 3405, 'ruined': 3751, 'gross': 1978, 'hollywoods': 2138, 'comical': 894, 'bumbling': 622, 'partner': 3198, 'blacks': 494, 'adorable': 124, 'stretched': 4222, 'moronic': 2907, 'entertained': 1498, 'modesty': 2883, 'describes': 1196, 'incident': 2260, 'strip': 4228, 'logic': 2638, 'sympathy': 4343, 'grave': 1962, 'checking': 778, 'kenneth': 2455, 'branagh': 564, 'pages': 3168, 'sounded': 4082, 'engage': 1479, 'motives': 2916, 'uwe': 4703, 'boll': 529, 'stated': 4161, 'alas': 172, 'seed': 3856, 'messed': 2821, '70': 55, 'round': 3742, 'per': 3223, 'videos': 4734, 'victims': 4730, 'tedious': 4387, 'shoot': 3942, 'cops': 993, 'shape': 3919, 'scripted': 3835, 'entry': 1504, 'aimed': 162, 'theatrical': 4430, 'camp': 662, 'sits': 4006, 'shoots': 3944, 'soldiers': 4054, 'surreal': 4317, 'weve': 4856, 'broadcast': 591, 'educational': 1425, 'essential': 1522, 'presentation': 3375, 'amanda': 205, 'hugh': 2186, 'neighbors': 2994, 'despair': 1207, 'crafted': 1029, 'bus': 631, 'boat': 523, 'conclusion': 936, 'reasonably': 3559, 'cinderella': 815, 'magical': 2704, 'wicked': 4879, 'step': 4175, 'receive': 3563, 'kings': 2481, 'fairy': 1632, 'horses': 2171, 'fits': 1741, 'trust': 4598, 'captures': 678, 'striking': 4226, 'underground': 4640, 'pretentious': 3383, 'spoiled': 4122, 'jerk': 2395, 'luck': 2681, 'fx': 1858, 'benefit': 465, 'current': 1084, 'slap': 4018, 'opinions': 3119, 'opposed': 3122, 'anti': 254, 'refuses': 3587, 'destiny': 1212, 'spends': 4107, 'searching': 3842, 'exceptional': 1558, 'generation': 1883, 'terror': 4412, 'burton': 630, 'paid': 3169, 'limited': 2606, 'fox': 1814, 'yesterday': 4983, 'brosnan': 597, 'drinking': 1362, 'lively': 2627, 'smile': 4036, 'shell': 3927, 'survive': 4321, 'karen': 2444, 'students': 4239, 'regarding': 3589, 'resembles': 3646, 'guts': 1999, 'naked': 2959, 'ann': 244, 'virgin': 4749, 'drops': 1372, 'chest': 784, 'realized': 3553, 'causing': 726, 'baker': 385, '60': 53, 'neither': 2996, 'freak': 1824, 'highlight': 2103, 'intensity': 2317, 'winner': 4897, 'directorial': 1265, 'fisher': 1739, 'niro': 3019, 'firstly': 1737, 'derek': 1192, 'inevitably': 2283, 'genuinely': 1892, 'tender': 4401, 'richardson': 3688, 'silence': 3974, 'equivalent': 1512, 'blow': 514, 'appreciated': 280, 'theaters': 4428, 'flow': 1762, 'bear': 420, 'bourne': 554, 'damon': 1101, 'trained': 4557, 'deadly': 1133, 'competent': 917, 'lisa': 2616, 'similarly': 3980, 'investigation': 2343, 'briefly': 580, 'underlying': 4641, 'copies': 992, 'station': 4164, 'united': 4664, 'dogs': 1311, 'flynn': 1765, 'francis': 1818, 'jennifer': 2392, 'duty': 1390, 'monkey': 2890, 'performs': 3234, 'commercials': 903, 'hey': 2095, 'ritter': 3705, 'wreck': 4965, 'user': 4696, 'introduce': 2336, 'laurel': 2537, 'hardy': 2037, 'profound': 3423, 'beloved': 461, 'rocky': 3723, 'taught': 4370, 'golden': 1934, 'silver': 3977, 'conflicts': 940, 'spain': 4091, 'listening': 2620, 'closer': 856, 'helping': 2081, 'led': 2558, 'accomplished': 87, 'partly': 3197, 'urge': 4689, 'lowest': 2678, 'fortunately': 1805, 'frequently': 1832, 'jail': 2376, 'rob': 3710, 'brilliance': 582, 'legal': 2563, 'mothers': 2912, 'alan': 171, 'ford': 1789, 'transition': 4561, 'learning': 2552, 'indians': 2275, 'twisted': 4618, 'annoyed': 248, 'shorts': 3948, 'haunting': 2051, 'keeping': 2450, 'hide': 2097, 'hiding': 2099, 'hunter': 2199, 'hunting': 2201, 'flies': 1756, 'hunters': 2200, 'cheek': 779, 'screams': 3828, 'clean': 838, 'vehicle': 4718, 'ego': 1435, 'writes': 4970, 'directs': 1267, 'ham': 2011, 'olivier': 3103, 'creator': 1043, 'hong': 2149, 'recorded': 3574, 'sinatra': 3989, 'demand': 1174, 'balance': 387, 'circle': 821, 'triumph': 4590, 'global': 1920, 'lessons': 2578, 'outrageous': 3145, 'established': 1524, 'visible': 4753, 'amateurish': 207, 'drunken': 1376, 'moore': 2901, 'resist': 3648, 'format': 1799, 'uncle': 4636, 'roll': 3728, 'angles': 237, 'beats': 426, 'spring': 4134, 'witness': 4914, 'streets': 4217, 'trial': 4580, 'reaction': 3541, 'veteran': 4724, 'discuss': 1283, 'mentally': 2809, 'dave': 1123, 'beat': 423, 'staying': 4168, 'trailer': 4554, 'dialogues': 1235, 'robin': 3715, 'smoke': 4039, 'drink': 1361, 'dolls': 1316, 'brando': 566, '20th': 38, 'timeless': 4496, 'cowboy': 1025, 'showcase': 3954, 'cinematic': 818, 'lees': 2560, 'mountain': 2917, 'naive': 2958, 'hire': 2116, 'thief': 4448, 'meanwhile': 2785, 'florida': 1761, 'voight': 4764, 'hoffman': 2128, 'honesty': 2148, 'flashbacks': 1747, 'letting': 2583, 'brenda': 575, 'transfer': 4559, 'test': 4416, 'response': 3654, 'prisoner': 3402, 'hopper': 2161, 'locations': 2636, 'stunts': 4246, 'reflection': 3585, 'bothered': 549, 'section': 3853, 'faster': 1662, 'staged': 4140, 'tiresome': 4502, 'pity': 3281, 'abilities': 64, 'enthusiasm': 1501, 'ruth': 3763, 'scores': 3823, 'chorus': 803, 'couples': 1017, 'females': 1694, 'designs': 1204, 'fitting': 1742, 'vampires': 4712, 'homosexual': 2145, 'isolated': 2363, 'originality': 3130, 'sloppy': 4030, 'sticks': 4186, 'basement': 405, 'fed': 1682, 'farm': 1656, 'allowing': 191, 'settle': 3902, 'twins': 4616, 'frequent': 1831, 'worker': 4942, 'todd': 4510, 'spoof': 4127, 'alert': 178, 'kudos': 2497, 'visually': 4758, 'saga': 3773, 'individuals': 2278, 'finale': 1723, 'reactions': 3542, 'rolled': 3729, 'kingdom': 2480, 'whilst': 4869, 'claire': 831, 'danes': 1108, 'michelle': 2830, 'powers': 3361, 'nancy': 2964, 'perfection': 3225, 'cox': 1026, 'daddy': 1096, 'feet': 1688, 'neil': 2995, 'guns': 1998, 'poignant': 3315, 'transformation': 4560, 'changing': 752, 'tons': 4520, 'lazy': 2543, 'summary': 4290, 'exists': 1573, 'regard': 3588, 'sidney': 3968, 'fbi': 1675, 'strongly': 4231, 'facing': 1620, 'ya': 4976, 'warn': 4797, 'segments': 3868, 'spike': 4111, 'carrey': 696, 'amongst': 218, 'teeth': 4393, 'clue': 864, 'jay': 2386, 'bat': 410, 'conversations': 981, 'hippie': 2115, 'meeting': 2794, 'swimming': 4338, 'sensitive': 3879, 'roy': 3745, 'caliber': 649, 'twin': 4615, 'damage': 1099, 'winds': 4895, 'cares': 690, 'recognition': 3568, 'tear': 4379, 'dancer': 1104, 'bergman': 466, 'feed': 1683, 'scarecrow': 3804, 'teachers': 4376, 'alike': 185, 'fields': 1705, 'teens': 4392, 'incompetent': 2266, 'dig': 1250, 'matrix': 2767, '1999': 27, 'tied': 4489, 'throat': 4476, 'pacino': 3164, '2003': 33, 'delivering': 1171, 'characterization': 759, 'universe': 4666, 'efforts': 1433, 'tommy': 4516, 'comics': 895, 'access': 83, 'digital': 1251, 'con': 928, 'tad': 4347, 'implausible': 2245, 'aint': 163, 'porno': 3337, 'awake': 365, '2007': 37, 'cross': 1066, 'pitch': 3279, 'rachel': 3500, 'grandmother': 1955, 'resolution': 3649, 'manipulative': 2727, 'psychological': 3458, 'notes': 3046, 'fonda': 1777, 'suspicious': 4332, 'cameos': 658, 'upset': 4687, 'deaths': 1142, 'iii': 2227, 'toys': 4543, 'horrifying': 2167, 'disappear': 1270, 'animals': 240, 'mountains': 2918, 'spirited': 4114, 'explored': 1595, 'superficial': 4298, 'brave': 567, 'tree': 4576, 'spiritual': 4116, 'dating': 1120, 'nonsense': 3030, 'trade': 4547, 'stereotype': 4178, 'jungle': 2434, 'plausible': 3295, 'mildred': 2841, 'sullivan': 4288, 'richards': 3687, 'frustrated': 1842, 'eyre': 1614, 'suitable': 4285, 'crucial': 1068, 'rochester': 3719, 'odds': 3082, 'faults': 1669, 'timothy': 4499, 'dalton': 1098, 'authority': 360, 'fetched': 1698, 'complicated': 925, 'quotes': 3497, 'avoided': 364, 'contrast': 975, 'emphasis': 1463, 'gonna': 1936, 'leslie': 2574, 'babe': 375, 'alternate': 200, 'resident': 3647, 'fourth': 1813, 'zone': 4999, 'hurts': 2203, 'financial': 1725, 'vacation': 4704, 'techniques': 4384, 'complaint': 920, 'stale': 4141, 'menace': 2806, 'exotic': 1574, 'masses': 2755, 'physically': 3263, 'drew': 1360, 'holly': 2136, 'accused': 91, 'proper': 3436, 'storm': 4206, 'sunshine': 4294, '3000': 43, 'walter': 4784, 'matthau': 2771, 'lemmon': 2567, 'roberts': 3714, 'fortune': 1806, 'sentence': 3881, 'careful': 688, 'finger': 1731, 'sutherland': 4333, 'diane': 1238, 'centers': 734, 'argue': 290, 'mafia': 2700, 'toilet': 4512, 'politics': 3326, 'lacked': 2503, 'useful': 4694, 'provided': 3449, 'dropped': 1370, 'draws': 1352, 'rocket': 3721, 'program': 3424, 'forms': 1801, 'sky': 4017, 'homer': 2144, 'miike': 2837, 'dub': 1378, 'tend': 4400, 'drag': 1342, 'iraq': 2351, 'bank': 394, 'blew': 505, 'terrorists': 4414, 'rex': 3683, 'counter': 1011, 'considerable': 950, 'kim': 2475, 'personalities': 3241, 'gifted': 1907, 'routine': 3743, 'gags': 1862, 'thumbs': 4485, 'ryan': 3765, 'cup': 1080, 'elsewhere': 1449, 'vaguely': 4706, 'fish': 1738, 'antics': 255, 'proof': 3434, 'extended': 1604, 'worry': 4950, 'broke': 593, 'pamela': 3179, 'corruption': 1002, 'jumping': 2431, 'matt': 2768, 'answers': 252, 'edgar': 1417, 'urban': 4688, 'domino': 1319, 'builds': 617, 'held': 2074, 'inducing': 2279, 'directly': 1263, 'ms': 2931, 'household': 2179, 'howard': 2182, '1950s': 14, 'illness': 2230, 'patrick': 3213, 'reminiscent': 3621, 'relatives': 3601, 'dvds': 1392, 'versions': 4721, 'elephant': 1444, 'wave': 4818, 'construction': 960, 'executed': 1565, 'sarah': 3785, 'lone': 2642, 'desperately': 1209, 'gadget': 1860, 'don': 1320, 'sadistic': 3768, 'bull': 619, 'intention': 2319, 'sink': 3999, 'official': 3094, 'depressed': 1187, 'edition': 1422, 'remote': 3622, 'largely': 2518, 'incoherent': 2265, 'deceased': 1146, 'angel': 231, 'plots': 3310, 'burned': 626, 'separate': 3883, 'dawson': 1128, 'health': 2060, 'pushed': 3478, 'color': 877, 'recognized': 3570, 'fashioned': 1660, 'coffee': 870, 'riveting': 3708, 'specific': 4099, 'ears': 1402, 'jenny': 2393, 'poetic': 3313, 'fooled': 1780, 'mature': 2773, 'kapoor': 2443, 'flawed': 1750, 'matthew': 2772, 'whale': 4857, 'definition': 1163, 'sincere': 3991, 'slick': 4026, 'carried': 698, 'shoes': 3941, '1933': 12, 'chasing': 772, 'weeks': 4839, 'stiller': 4189, 'website': 4834, 'persons': 3244, 'removed': 3624, 'closest': 857, 'internet': 2327, 'satisfy': 3790, 'minimum': 2856, 'reviewers': 3678, 'movement': 2923, 'fulci': 1845, 'operation': 3117, 'scientists': 3819, 'kick': 2460, 'developing': 1224, 'fest': 1696, 'swear': 4334, 'burn': 625, 'lying': 2690, 'drives': 1367, 'hello': 2078, 'dust': 1388, 'proceeds': 3411, 'greatly': 1967, 'kitchen': 2485, 'helicopter': 2076, 'regardless': 3590, 'minimal': 2855, 'thick': 4447, 'ultra': 4629, 'ron': 3734, 'shall': 3916, 'carrie': 697, 'commit': 904, 'mass': 2753, 'youth': 4994, 'intimate': 2331, 'nations': 2971, 'generated': 1882, 'restaurant': 3658, 'bettie': 473, 'patient': 3211, 'charismatic': 763, 'card': 681, 'hooked': 2153, 'introduces': 2338, 'beneath': 464, 'calm': 655, 'joey': 2408, 'artificial': 306, 'jeremy': 2394, 'awfully': 373, 'interpretation': 2328, 'heston': 2094, 'explaining': 1588, 'ken': 2453, 'clues': 865, 'inferior': 2285, 'harris': 2038, 'uneven': 4649, 'nicholas': 3010, 'dickens': 1240, 'dreary': 1356, 'ourselves': 3140, 'factory': 1623, 'ellen': 1446, 'bands': 392, 'afford': 138, 'rival': 3706, 'helen': 2075, 'stole': 4194, 'barry': 401, 'celebrity': 729, 'wrap': 4963, 'sides': 3967, 'mile': 2842, 'involve': 2345, 'intentionally': 2320, 'vague': 4705, 'prostitute': 3440, 'bin': 483, 'dollar': 1314, 'frankenstein': 1822, 'carries': 699, 'sorts': 4078, 'choreography': 802, 'chapter': 757, 'pal': 3177, 'catching': 716, 'ray': 3533, 'saving': 3797, 'yelling': 4980, 'landing': 2512, 'site': 4005, 'fabulous': 1615, 'rush': 3759, 'cliche': 843, 'unintentionally': 4659, 'holy': 2140, 'sneak': 4043, 'lasted': 2522, 'revelation': 3674, 'accurate': 90, 'wished': 4905, 'trail': 4553, 'hundreds': 2196, 'facial': 1619, 'expressions': 1603, 'friendship': 1838, 'discovery': 1282, 'lyrics': 2692, 'titled': 4505, 'uk': 4626, 'resemblance': 3645, 'topless': 4527, 'shark': 3921, 'wrestling': 4966, 'unlikely': 4671, 'mine': 2853, 'constructed': 959, 'hamlet': 2013, '11': 2, 'skills': 4014, 'peters': 3248, 'nomination': 3026, 'atmospheric': 334, 'unseen': 4678, 'exploration': 1593, 'andrew': 228, 'miller': 2846, 'selfish': 3870, 'andrews': 229, 'panic': 3181, 'synopsis': 4344, 'comfortable': 892, 'wells': 4845, 'ralph': 3510, 'seventies': 3904, 'protagonist': 3441, 'melting': 2799, 'screaming': 3827, 'rick': 3689, 'aliens': 184, 'nurse': 3063, 'advertising': 132, 'explosion': 1596, 'abusive': 75, 'muslim': 2949, 'individual': 2277, 'stanwyck': 4149, 'splendid': 4119, 'snl': 4044, 'singer': 3993, 'dinosaur': 1255, 'johnson': 2411, 'angela': 232, 'attorney': 348, 'sandler': 3781, 'mistakes': 2873, '3rd': 47, 'wonders': 4931, 'childish': 791, 'arnold': 296, 'jerry': 2396, 'adam': 111, 'burt': 629, 'devoid': 1230, 'exercise': 1568, 'whereas': 4865, 'challenging': 744, 'unit': 4663, 'watchable': 4812, 'france': 1816, 'distribution': 1298, 'caine': 647, 'purposes': 3475, 'madness': 2698, 'stan': 4142, 'pride': 3391, 'everyones': 1543, 'stiff': 4187, 'warren': 4801, 'terrifying': 4410, 'develops': 1226, 'neighbor': 2992, 'familys': 1646, 'simmons': 3981, 'pulls': 3464, 'sue': 4274, 'catherine': 719, 'mann': 2728, 'buddies': 608, 'funnier': 1850, 'norman': 3035, 'adapted': 114, 'visit': 4755, 'creep': 1051, 'instantly': 2306, 'unpleasant': 4674, 'belongs': 460, 'surfing': 4311, 'mixture': 2878, 'wrapped': 4964, 'signs': 3973, 'receives': 3565, 'greedy': 1969, 'corrupt': 1001, 'greed': 1968, 'planning': 3291, 'vincent': 4746, 'berlin': 467, 'admittedly': 123, 'georges': 1894, 'piano': 3264, 'beating': 425, 'surviving': 4323, 'ready': 3546, 'directions': 1262, 'meat': 2787, 'perform': 3227, 'occur': 3076, 'nail': 2957, 'titanic': 4503, 'understated': 4646, 'methods': 2825, 'forgive': 1795, 'waitress': 4773, 'bette': 471, 'realizing': 3555, 'engaged': 1480, 'sally': 3776, 'respected': 3653, 'wondered': 4927, 'germany': 1898, 'robbery': 3711, 'signed': 3971, 'dressing': 1359, 'absurd': 73, 'park': 3190, 'reminds': 3620, 'drugs': 1374, 'paulie': 3215, 'pro': 3406, 'rage': 3505, 'display': 1291, 'surface': 4310, 'betty': 474, 'jet': 2400, 'associated': 327, 'dorothy': 1330, 'campbell': 663, 'ned': 2986, 'channels': 754, 'kissing': 2484, 'proceedings': 3410, 'chooses': 800, 'pretend': 3381, 'ho': 2127, 'cruise': 1071, 'relevant': 3604, 'brad': 560, 'linda': 2609, 'interview': 2329, 'jumped': 2430, 'dutch': 1389, 'tortured': 4530, 'steel': 4173, 'embarrassment': 1455, 'ninja': 3018, 'clint': 850, 'eastwood': 1409, 'louise': 2666, 'noted': 3045, 'angels': 234, 'minded': 2850, 'tonight': 4519, 'holiday': 2134, 'spending': 4106, 'mtv': 2933, 'sitcom': 4004, 'serves': 3895, 'hitting': 2126, 'depicts': 1186, 'vengeance': 4719, 'unbearable': 4633, 'warmth': 4796, 'explosions': 1597, 'bullets': 621, 'singers': 3994, 'freeman': 1829, 'realise': 3548, 'hints': 2113, 'thru': 4483, 'valley': 4707, 'jeffrey': 2391, 'bigger': 479, 'awe': 370, 'craig': 1030, 'brooks': 596, 'india': 2273, 'demons': 1178, 'abc': 63, 'wannabe': 4787, 'harvey': 2042, 'investigate': 2342, 'omen': 3104, 'immensely': 2243, 'therefore': 4439, 'sleeping': 4025, 'drags': 1345, 'promised': 3431, 'emma': 1457, 'cameron': 661, 'eddie': 1416, 'dramas': 1347, 'inner': 2292, 'defense': 1159, 'scooby': 3820, 'doo': 1325, 'estate': 1525, 'cole': 873, 'daring': 1114, 'hudson': 2184, 'switch': 4339, 'hatred': 2049, 'costs': 1004, 'unpredictable': 4675, 'sandra': 3782, 'refreshing': 3586, 'hitchcock': 2123, 'questionable': 3488, 'walls': 4783, 'prisoners': 3403, 'guide': 1993, 'remaining': 3610, 'bone': 533, 'waves': 4819, 'elvis': 1451, 'arts': 310, 'aging': 153, 'bath': 411, 'detailed': 1218, 'arrive': 300, 'cheating': 776, 'notorious': 3051, 'dan': 1102, 'photographed': 3258, 'painted': 3174, 'precious': 3366, 'albeit': 173, 'groups': 1981, 'likewise': 2603, 'medium': 2792, 'unaware': 4632, 'lloyd': 2630, 'sport': 4129, 'wet': 4855, 'bud': 607, 'ruins': 3752, 'nonsensical': 3031, 'mall': 2720, 'balls': 390, 'wake': 4774, 'stevens': 4183, 'revolutionary': 3681, 'rebel': 3561, 'critic': 1061, 'ashley': 313, 'reynolds': 3684, 'loosely': 2651, 'bo': 521, 'hated': 2047, 'jessica': 2398, 'simpson': 3987, 'species': 4098, 'prevent': 3385, 'repetitive': 3633, 'potentially': 3356, 'cringe': 1059, 'relation': 3595, 'parallel': 3185, 'hype': 2207, 'bare': 398, 'marks': 2742, 'atlantis': 332, 'morris': 2908, 'pulp': 3465, 'online': 3109, 'errors': 1516, 'june': 2433, 'unforgettable': 4652, 'ought': 3138, 'thankfully': 4422, 'lifetime': 2594, 'strike': 4224, 'struck': 4232, 'opportunities': 3120, 'button': 639, 'spielberg': 4110, 'ratings': 3530, 'logical': 2639, 'raw': 3532, 'portion': 3338, 'nyc': 3065, 'forbidden': 1785, 'notion': 3050, 'mistaken': 2872, 'split': 4120, 'soccer': 4048, 'khan': 2459, 'wealth': 4826, 'lie': 2590, 'lifestyle': 2593, 'covered': 1023, 'unoriginal': 4673, 'ghosts': 1903, 'ruthless': 3764, 'bride': 577, 'wishing': 4907, 'carol': 693, 'amitabh': 216, 'buffs': 612, 'viewed': 4737, '1984': 23, 'link': 2613, 'communist': 907, 'cheated': 775, 'neck': 2985, 'contrary': 974, 'thrill': 4471, 'willis': 4890, 'travesty': 4570, 'bag': 384, 'monkeys': 2891, 'thoughtful': 4463, 'hbo': 2055, 'ps': 3453, 'lawrence': 2539, 'punishment': 3467, 'wasting': 4810, 'sappy': 3784, 'recording': 3575, 'arrogant': 303, 'carradine': 695, 'doomed': 1327, 'jesse': 2397, 'franco': 1820, 'hamilton': 2012, 'survival': 4320, 'slaughter': 4021, 'rid': 3690, 'theyll': 4444, 'arrested': 298, 'staring': 4152, 'importance': 2246, 'crocodile': 1065, 'expression': 1602, 'tour': 4538, 'possessed': 3347, 'loads': 2633, 'cared': 685, 'passionate': 3206, 'amy': 222, 'insulting': 2310, 'pig': 3274, 'status': 4165, 'rural': 3758, '30s': 44, 'blend': 504, 'iran': 2350, 'bullet': 620, 'sun': 4292, 'flawless': 1751, 'risk': 3704, 'stones': 4198, 'crimes': 1056, 'kay': 2447, 'idiots': 2220, 'chicago': 785, 'chicks': 787, 'goldberg': 1933, 'gritty': 1977, 'attracted': 349, 'savage': 3793, 'closet': 858, 'perry': 3237, 'stood': 4199, 'waited': 4771, 'illogical': 2231, 'roman': 3731, 'chased': 770, 'blond': 510, 'lips': 2615, 'garbo': 1871, 'tooth': 4524, 'attacked': 338, 'cliff': 847, 'crack': 1027, 'remarks': 3615, 'interaction': 2322, '2001': 31, 'acid': 95, 'ranks': 3519, 'boxing': 556, 'hip': 2114, 'justin': 2440, 'keaton': 2448, 'subplot': 4255, 'eyed': 1612, '1940s': 13, 'primarily': 3393, 'heat': 2067, 'screens': 3832, 'rambo': 3511, 'fury': 1855, 'kubrick': 2496, 'shine': 3931, 'rap': 3520, 'literature': 2623, 'stilted': 4190, 'photo': 3257, 'web': 4833, 'tends': 4402, 'li': 2587, 'revealing': 3672, 'philosophical': 3253, 'waters': 4817, 'rats': 3531, 'conceived': 929, 'terry': 4415, 'severe': 3906, 'priceless': 3390, 'dialogs': 1233, 'stellar': 4174, 'equipment': 1511, 'mechanical': 2788, 'bell': 458, 'compelled': 915, 'wendy': 4846, 'intrigued': 2334, 'reads': 3545, 'historically': 2120, 'absence': 70, 'nearby': 2980, 'landscapes': 2514, 'pops': 3332, 'justify': 2439, 'fever': 1699, 'che': 773, 'cuba': 1075, 'backdrop': 379, 'chances': 748, 'alcohol': 176, 'bakshi': 386, 'philosophy': 3254, 'randomly': 3515, 'analysis': 224, 'eighties': 1437, 'mob': 2879, 'royal': 3746, 'laws': 2540, 'bottle': 550, 'bargain': 400, 'ha': 2002, 'del': 1165, 'devils': 1229, 'mighty': 2836, 'existed': 1570, 'junior': 2435, 'darker': 1116, 'differences': 1247, 'suffice': 4279, 'photographer': 3259, 'craven': 1034, 'mistress': 2874, 'scrooge': 3837, 'stargate': 4151, 'alexander': 180, 'eastern': 1408, 'paltrow': 3178, '1996': 26, 'moody': 2899, 'glover': 1923, 'nazi': 2977, 'shirley': 3936, 'beliefs': 452, 'instinct': 2308, 'nuts': 3064, 'gripping': 1976, 'gandhi': 1866, 'wes': 4851, 'dinosaurs': 1256, 'twilight': 4614, 'conspiracy': 956, 'seeks': 3860, 'seagal': 3839, 'glenn': 1918, 'promising': 3433, 'classical': 836, 'superhero': 4299, 'noise': 3024, 'wizard': 4919, 'oz': 3160, 'primary': 3394, 'trap': 4563, 'vulnerable': 4768, 'funeral': 1849, 'cusack': 1088, 'sid': 3964, 'prom': 3429, 'travels': 4569, 'cheese': 780, 'plant': 3293, 'ticket': 4487, 'karloff': 2445, 'lucas': 2680, 'latin': 2527, 'germans': 1897, 'doll': 1313, 'stooges': 4200, 'captivating': 675, 'blob': 507, 'marty': 2749, 'grinch': 1975, 'godfather': 1927, 'april': 284, 'relative': 3599, 'leo': 2571, 'gabriel': 1859, 'montana': 2895, 'rendition': 3625, 'experiments': 1584, 'exposure': 1599, 'walken': 4777, 'hilariously': 2107, 'widely': 4881, 'championship': 745, 'gundam': 1997, 'lena': 2568, 'beatty': 427, 'lily': 2605, 'hank': 2024, 'hop': 2154, 'ethan': 1528, 'quit': 3494, 'lumet': 2688, 'pokemon': 3320, 'enterprise': 1495, 'ramones': 3512, 'gerard': 1895, 'deaf': 1134}\n"
     ]
    }
   ],
   "source": [
    "print(str(vocabulary))"
   ]
  },
  {
   "cell_type": "markdown",
   "metadata": {},
   "source": [
    "Processing a single review"
   ]
  },
  {
   "cell_type": "code",
   "execution_count": 44,
   "metadata": {},
   "outputs": [],
   "source": [
    "test_review = \"Nothing but a disgusting materialistic pageant of glistening abed remote control greed zombies, totally devoid of any heart or heat. A romantic comedy that has zero romantic chemestry and zero laughs!\""
   ]
  },
  {
   "cell_type": "code",
   "execution_count": 45,
   "metadata": {},
   "outputs": [
    {
     "name": "stdout",
     "output_type": "stream",
     "text": [
      "nothing but a disgusting materialistic pageant of glistening abed remote control greed zombies totally devoid of any heart or heat a romantic comedy that has zero romantic chemestry and zero laughs\n"
     ]
    }
   ],
   "source": [
    "test_words = review_to_words(test_review)\n",
    "print(test_words)"
   ]
  },
  {
   "cell_type": "code",
   "execution_count": 46,
   "metadata": {},
   "outputs": [],
   "source": [
    "def bow_encoding(words, vocabulary):\n",
    "    bow = [0] * len(vocabulary) # Start by setting the count for each word in the vocabulary to zero.\n",
    "    for word in words.split():  # For each word in the string\n",
    "        if word in vocabulary:  # If the word is one that occurs in the vocabulary, increase its count.\n",
    "            bow[vocabulary[word]] += 1\n",
    "    return bow"
   ]
  },
  {
   "cell_type": "code",
   "execution_count": 48,
   "metadata": {},
   "outputs": [
    {
     "data": {
      "text/plain": [
       "5000"
      ]
     },
     "execution_count": 48,
     "metadata": {},
     "output_type": "execute_result"
    }
   ],
   "source": [
    "test_bow = bow_encoding(test_words, vocabulary)\n",
    "# print(test_bow)\n",
    "len(test_bow)"
   ]
  },
  {
   "cell_type": "code",
   "execution_count": 71,
   "metadata": {},
   "outputs": [
    {
     "name": "stderr",
     "output_type": "stream",
     "text": [
      "Parameter image will be renamed to image_uri in SageMaker Python SDK v2.\n",
      "Using already existing model: xgboost-2021-01-05-05-26-50-317\n"
     ]
    },
    {
     "name": "stdout",
     "output_type": "stream",
     "text": [
      "-------------!"
     ]
    }
   ],
   "source": [
    "# \n",
    "xgb_predictor = xgb.deploy(initial_instance_count = 1, instance_type = 'ml.m4.xlarge')"
   ]
  },
  {
   "cell_type": "code",
   "execution_count": 72,
   "metadata": {},
   "outputs": [],
   "source": [
    "import boto3\n",
    "runtime = boto3.Session().client('sagemaker-runtime')"
   ]
  },
  {
   "cell_type": "code",
   "execution_count": 73,
   "metadata": {},
   "outputs": [
    {
     "data": {
      "text/plain": [
       "'xgboost-2021-01-05-05-26-50-317'"
      ]
     },
     "execution_count": 73,
     "metadata": {},
     "output_type": "execute_result"
    }
   ],
   "source": [
    "xgb_predictor.endpoint"
   ]
  },
  {
   "cell_type": "code",
   "execution_count": 74,
   "metadata": {},
   "outputs": [],
   "source": [
    "response = runtime.invoke_endpoint(EndpointName = xgb_predictor.endpoint, # The name of the endpoint we created\n",
    "                                   ContentType = 'text/csv',                     # The data format that is expected\n",
    "                                   Body = ','.join([str(val) for val in test_bow]).encode('utf-8'))"
   ]
  },
  {
   "cell_type": "code",
   "execution_count": 75,
   "metadata": {},
   "outputs": [
    {
     "name": "stdout",
     "output_type": "stream",
     "text": [
      "{'ResponseMetadata': {'RequestId': 'fcd89aed-d691-4696-8728-96ddb8f35c73', 'HTTPStatusCode': 200, 'HTTPHeaders': {'x-amzn-requestid': 'fcd89aed-d691-4696-8728-96ddb8f35c73', 'x-amzn-invoked-production-variant': 'AllTraffic', 'date': 'Tue, 5 Jan 2021 06:40:56 GMT', 'content-type': 'text/csv; charset=utf-8', 'content-length': '14'}, 'RetryAttempts': 0}, 'ContentType': 'text/csv; charset=utf-8', 'InvokedProductionVariant': 'AllTraffic', 'Body': <botocore.response.StreamingBody object at 0x7f2e636c9c88>}\n"
     ]
    }
   ],
   "source": [
    "print(response)"
   ]
  },
  {
   "cell_type": "code",
   "execution_count": 76,
   "metadata": {},
   "outputs": [
    {
     "name": "stdout",
     "output_type": "stream",
     "text": [
      "0.505412817001\n"
     ]
    }
   ],
   "source": [
    "print(response['Body'].read().decode('utf-8'))"
   ]
  },
  {
   "cell_type": "markdown",
   "metadata": {},
   "source": [
    "#### Setting up a Lambda function\n",
    "<br> a: create a IAM Role for the Lambda function\n",
    "<br> b:  Create a Lambda function\n",
    "<br> c:  Setting up API Gateway\n",
    "<br> d; Deploying our web app with api gateway url."
   ]
  },
  {
   "cell_type": "code",
   "execution_count": null,
   "metadata": {},
   "outputs": [],
   "source": [
    "# We need to use the low-level library to interact with SageMaker since the SageMaker API\n",
    "# is not available natively through Lambda.\n",
    "import boto3\n",
    "\n",
    "# And we need the regular expression library to do some of the data processing\n",
    "import re\n",
    "\n",
    "REPLACE_NO_SPACE = re.compile(\"(\\.)|(\\;)|(\\:)|(\\!)|(\\')|(\\?)|(\\,)|(\\\")|(\\()|(\\))|(\\[)|(\\])\")\n",
    "REPLACE_WITH_SPACE = re.compile(\"(<br\\s*/><br\\s*/>)|(\\-)|(\\/)\")\n",
    "\n",
    "def review_to_words(review):\n",
    "    words = REPLACE_NO_SPACE.sub(\"\", review.lower())\n",
    "    words = REPLACE_WITH_SPACE.sub(\" \", words)\n",
    "    return words\n",
    "\n",
    "def bow_encoding(words, vocabulary):\n",
    "    bow = [0] * len(vocabulary) # Start by setting the count for each word in the vocabulary to zero.\n",
    "    for word in words.split():  # For each word in the string\n",
    "        if word in vocabulary:  # If the word is one that occurs in the vocabulary, increase its count.\n",
    "            bow[vocabulary[word]] += 1\n",
    "    return bow\n",
    "\n",
    "\n",
    "def lambda_handler(event, context):\n",
    "\n",
    "    vocab = \"*** ACTUAL VOCABULARY GOES HERE ***\"\n",
    "\n",
    "    words = review_to_words(event['body'])\n",
    "    bow = bow_encoding(words, vocab)\n",
    "\n",
    "    # The SageMaker runtime is what allows us to invoke the endpoint that we've created.\n",
    "    runtime = boto3.Session().client('sagemaker-runtime')\n",
    "\n",
    "    # Now we use the SageMaker runtime to invoke our endpoint, sending the review we were given\n",
    "    response = runtime.invoke_endpoint(EndpointName = '***ENDPOINT NAME HERE***',# The name of the endpoint we created\n",
    "                                       ContentType = 'text/csv',                 # The data format that is expected\n",
    "                                       Body = ','.join([str(val) for val in bow]).encode('utf-8')) # The actual review\n",
    "\n",
    "    # The response is an HTTP response whose body contains the result of our inference\n",
    "    result = response['Body'].read().decode('utf-8')\n",
    "\n",
    "    # Round the result so that our web app only gets '1' or '0' as a response.\n",
    "    result = round(float(result))\n",
    "\n",
    "    return {\n",
    "        'statusCode' : 200,\n",
    "        'headers' : { 'Content-Type' : 'text/plain', 'Access-Control-Allow-Origin' : '*' },\n",
    "        'body' : str(result)\n",
    "    }"
   ]
  },
  {
   "cell_type": "code",
   "execution_count": 77,
   "metadata": {},
   "outputs": [
    {
     "data": {
      "text/plain": [
       "'xgboost-2021-01-05-05-26-50-317'"
      ]
     },
     "execution_count": 77,
     "metadata": {},
     "output_type": "execute_result"
    }
   ],
   "source": [
    "#  name of the endpoint\n",
    "xgb_predictor.endpoint"
   ]
  },
  {
   "cell_type": "code",
   "execution_count": null,
   "metadata": {},
   "outputs": [],
   "source": [
    "# the string of vocabulary for the lambda function.\n",
    "print(str(vocabulary))"
   ]
  },
  {
   "cell_type": "markdown",
   "metadata": {},
   "source": [
    "##### Delete the endpoint"
   ]
  },
  {
   "cell_type": "code",
   "execution_count": 78,
   "metadata": {},
   "outputs": [],
   "source": [
    "xgb_predictor.delete_endpoint()"
   ]
  },
  {
   "cell_type": "code",
   "execution_count": null,
   "metadata": {},
   "outputs": [],
   "source": []
  },
  {
   "cell_type": "markdown",
   "metadata": {},
   "source": [
    "Optional/must: Clean Up."
   ]
  },
  {
   "cell_type": "code",
   "execution_count": null,
   "metadata": {},
   "outputs": [],
   "source": []
  },
  {
   "cell_type": "code",
   "execution_count": null,
   "metadata": {},
   "outputs": [],
   "source": []
  },
  {
   "cell_type": "code",
   "execution_count": null,
   "metadata": {},
   "outputs": [],
   "source": []
  },
  {
   "cell_type": "code",
   "execution_count": null,
   "metadata": {},
   "outputs": [],
   "source": []
  },
  {
   "cell_type": "markdown",
   "metadata": {},
   "source": []
  }
 ],
 "metadata": {
  "kernelspec": {
   "display_name": "conda_python3",
   "language": "python",
   "name": "conda_python3"
  },
  "language_info": {
   "codemirror_mode": {
    "name": "ipython",
    "version": 3
   },
   "file_extension": ".py",
   "mimetype": "text/x-python",
   "name": "python",
   "nbconvert_exporter": "python",
   "pygments_lexer": "ipython3",
   "version": "3.6.10"
  }
 },
 "nbformat": 4,
 "nbformat_minor": 4
}
